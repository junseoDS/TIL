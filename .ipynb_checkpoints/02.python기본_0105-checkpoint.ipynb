{
 "cells": [
  {
   "cell_type": "markdown",
   "metadata": {},
   "source": [
    "## 0105 \n",
    "\n",
    "Python 데이터 타입 (built-in type)\n",
    "\n",
    "1. Numeric\n",
    "    - int,float,complex\n",
    "2. Sequence\n",
    "    - list, tuple, range   \n",
    "3. text sequence\n",
    "    - str\n",
    "4. Mapping\n",
    "    - dict 딕셔너리\n",
    "5. Set\n",
    "    - set 집합자료구조\n",
    "6. Bool\n",
    "    -bool"
   ]
  },
  {
   "cell_type": "code",
   "execution_count": 5,
   "metadata": {},
   "outputs": [
    {
     "name": "stdout",
     "output_type": "stream",
     "text": [
      "range(0, 10)\n",
      "range(1, 11, 2)\n",
      "5\n",
      "range(5, 11, 2)\n"
     ]
    }
   ],
   "source": [
    "# range\n",
    "a=range(10) # 0~9까지 1씩 증가하는 Sequence\n",
    "b=[0,1,2,3,4,5,6,7,8,9] # 메모리가 더 많이 든다\n",
    "print(a)\n",
    "\n",
    "range1 = range(1,11,2) # 1,3,5,7,9\n",
    "print(range1)\n",
    "print(range1[2]) #5\n",
    "print(range1[2:])"
   ]
  },
  {
   "cell_type": "markdown",
   "metadata": {},
   "source": [
    " Text Sequence Type (문자열 - string)\n",
    " \n",
    " python에서 문자열을 생성하는 방법\n",
    " \n",
    " 다른 언어는 ''와 \"\"를 구분\n",
    " \n",
    " "
   ]
  },
  {
   "cell_type": "code",
   "execution_count": 6,
   "metadata": {},
   "outputs": [],
   "source": [
    " a = 'Hello'\n",
    " b = \"Hello\""
   ]
  },
  {
   "cell_type": "code",
   "execution_count": 10,
   "metadata": {},
   "outputs": [
    {
     "name": "stdout",
     "output_type": "stream",
     "text": [
      "this is a same text\n",
      "python python python \n",
      "count: 100\n"
     ]
    }
   ],
   "source": [
    "a= 'this is a '\n",
    "b='same '\n",
    "c='text'\n",
    "print(a+b+c)\n",
    "print('python '*3)\n",
    "\n",
    "a=100       # numeric\n",
    "b= 'count: '#string\n",
    "print(b+str(a))"
   ]
  },
  {
   "cell_type": "code",
   "execution_count": 12,
   "metadata": {},
   "outputs": [
    {
     "name": "stdout",
     "output_type": "stream",
     "text": [
      "<class 'str'>\n",
      "s\n",
      "False\n",
      "True\n"
     ]
    }
   ],
   "source": [
    "a='this is a same text'\n",
    "print(type(a))\n",
    "print(a[3])\n",
    "print('Sam' in a)\n",
    "print('Sam' not in a)"
   ]
  },
  {
   "cell_type": "markdown",
   "metadata": {},
   "source": [
    " 문자열은 여러가지 함수들을 가지고 있다"
   ]
  },
  {
   "cell_type": "code",
   "execution_count": 17,
   "metadata": {},
   "outputs": [
    {
     "name": "stdout",
     "output_type": "stream",
     "text": [
      "8\n",
      "3\n",
      "9\n",
      "COCACOLA\n"
     ]
    }
   ],
   "source": [
    "a = 'cocacola'\n",
    "\n",
    "# 길이를 알고싶다 => len()\n",
    "print(len(a))\n",
    "print(a.count('c'))\n",
    "print(a.count(''))\n",
    "print(a.upper())"
   ]
  },
  {
   "cell_type": "code",
   "execution_count": 19,
   "metadata": {},
   "outputs": [
    {
     "name": "stdout",
     "output_type": "stream",
     "text": [
      "나는 사과를 5개 가지고 있어요\n"
     ]
    }
   ],
   "source": [
    "apple_count = 5\n",
    "a = '나는 사과를 {}개 가지고 있어요'.format(apple_count)\n",
    "print(a)"
   ]
  },
  {
   "cell_type": "markdown",
   "metadata": {},
   "source": [
    "python의 Mapping type\n",
    "\n",
    "dict (딕셔너리)\n",
    "\n",
    "기호로는 중괄호 {}를 사용\n",
    "\n",
    "key와 value의 쌍으로 표현 \n",
    "\n",
    "{key : value} => json\n"
   ]
  },
  {
   "cell_type": "code",
   "execution_count": 22,
   "metadata": {},
   "outputs": [
    {
     "name": "stdout",
     "output_type": "stream",
     "text": [
      "<class 'dict'>\n",
      "{'name': '홍길동', 'age': 30}\n",
      "{'name': '홍길동', 'age': 30, 'adress': '서울'}\n"
     ]
    }
   ],
   "source": [
    "a = {'name' : '홍길동', 'age':30 }\n",
    "print(type(a))\n",
    "\n",
    "print(a)\n",
    "# 지금 가지고 있는 dict에 새로운 \n",
    "a['adress'] = '서울' # key값이 존재하지 않으면 데이터 추가\n",
    "                     # 프로그래밍 유연성측면에 좋음\n",
    "                     # 논리오류 취약\n",
    "        \n",
    "print(a)"
   ]
  },
  {
   "cell_type": "code",
   "execution_count": 30,
   "metadata": {},
   "outputs": [
    {
     "name": "stdout",
     "output_type": "stream",
     "text": [
      "{'name': '홍길동', 'age': 30, 300: 200, (1, 2, 3): 1000}\n",
      "dict_keys(['name', 'age', 300, (1, 2, 3)])\n",
      "dict_values(['홍길동', 30, 200, 1000])\n",
      "key : name, value : 홍길동\n",
      "key : age, value : 30\n",
      "key : 300, value : 200\n",
      "key : (1, 2, 3), value : 1000\n"
     ]
    }
   ],
   "source": [
    "a = {'name' : '홍길동', 'age':30 , 300:200, (1,2,3):1000}\n",
    "print(a)\n",
    "print(a.keys())\n",
    "print(a.values())\n",
    "\n",
    "#모든 key에 대한 value값을 출력\n",
    "for key in a.keys():\n",
    "    print('key : {}, value : {}'.format(key,a[key]))"
   ]
  },
  {
   "cell_type": "code",
   "execution_count": 31,
   "metadata": {},
   "outputs": [
    {
     "name": "stdout",
     "output_type": "stream",
     "text": [
      "True\n",
      "{}\n"
     ]
    }
   ],
   "source": [
    "print('name' in a)\n",
    "a.clear()\n",
    "print(a)"
   ]
  },
  {
   "cell_type": "markdown",
   "metadata": {},
   "source": [
    "Set type\n",
    "\n",
    "set => 중복을 배제\n",
    "\n",
    "set은 {} 사용, 대신 key가 존재하지 않는다."
   ]
  },
  {
   "cell_type": "code",
   "execution_count": 36,
   "metadata": {},
   "outputs": [
    {
     "name": "stdout",
     "output_type": "stream",
     "text": [
      "{1, 2, 3}\n",
      "intersection:  {4, 5}\n",
      "union:  {1, 2, 3, 4, 5, 6, 7, 8}\n",
      "difference:  {1, 2, 3}\n"
     ]
    }
   ],
   "source": [
    "a = {1,2,3,2,3,1,2,} # => set\n",
    "print(a)\n",
    "\n",
    "a = set([1,2,3,4,5])\n",
    "b = set([4,5,6,7,8])\n",
    "\n",
    "intersection = a&b\n",
    "print(\"intersection: \",intersection)\n",
    "union = a|b\n",
    "print('union: ',union)\n",
    "difference = a-b\n",
    "print('difference: ',difference)"
   ]
  },
  {
   "cell_type": "code",
   "execution_count": 46,
   "metadata": {},
   "outputs": [
    {
     "name": "stdout",
     "output_type": "stream",
     "text": [
      "{7}\n",
      "{1, 2, 3, 4, 7}\n"
     ]
    }
   ],
   "source": [
    "a = {} # 빈 dict 생성\n",
    "a = set()\n",
    "a.add(7) # 1개를 추가\n",
    "print(a)\n",
    "a.update([1,2,3,4]) # 여러개 추가\n",
    "print(a)"
   ]
  },
  {
   "cell_type": "code",
   "execution_count": 47,
   "metadata": {},
   "outputs": [
    {
     "data": {
      "text/plain": [
       "{1, 2, 3, 4, 7}"
      ]
     },
     "execution_count": 47,
     "metadata": {},
     "output_type": "execute_result"
    }
   ],
   "source": [
    "a"
   ]
  },
  {
   "cell_type": "markdown",
   "metadata": {},
   "source": [
    "### Bool Type\n",
    "\n",
    "bool - 논리형 (True, False)\n",
    "\n",
    "사용할 수 있는 연산자는 and, or, not\n",
    "\n",
    "print(True and False)  # True\n",
    "\n",
    "\n",
    "1. 빈문자열('') => False로 간주\n",
    "2. 빈리스트([ ]) => False로 간주\n",
    "3. 빈Tuble(( )) => False로 간주\n",
    "4. 빈 dict({ }) => False로 간주\n",
    "5. 숫자 0 => False로 간주\n",
    "6. None => False로 간주"
   ]
  },
  {
   "cell_type": "code",
   "execution_count": 56,
   "metadata": {},
   "outputs": [
    {
     "name": "stdout",
     "output_type": "stream",
     "text": [
      "1\n",
      "2\n",
      "3\n",
      "4\n",
      "5\n",
      "1-2-3-4-5-"
     ]
    }
   ],
   "source": [
    "# for문\n",
    "for tmp in [1,2,3,4,5]:\n",
    "    print(tmp)\n",
    "    \n",
    "for tmp in [1,2,3,4,5]:\n",
    "    print(tmp,end='-')"
   ]
  },
  {
   "cell_type": "markdown",
   "metadata": {},
   "source": [
    "제어문\n",
    "\n",
    "if\n",
    "\n",
    "if ~ elif ~ else 구문 이용\n",
    "\n"
   ]
  },
  {
   "cell_type": "code",
   "execution_count": 58,
   "metadata": {},
   "outputs": [
    {
     "name": "stdout",
     "output_type": "stream",
     "text": [
      "5의 배수\n"
     ]
    }
   ],
   "source": [
    "a = 20\n",
    "\n",
    "if a%3==0:\n",
    "    print('3의 배수')\n",
    "elif a%5 ==0:\n",
    "    print(\"5의 배수\")\n",
    "elif a%7 ==0:\n",
    "    print(\"7의 배수\")\n",
    "elif a%11==0:\n",
    "    pass\n",
    "else :\n",
    "    print('조건에 해당되는게 없음')\n",
    "\n",
    "\n",
    "\n"
   ]
  },
  {
   "cell_type": "code",
   "execution_count": 67,
   "metadata": {},
   "outputs": [
    {
     "name": "stdout",
     "output_type": "stream",
     "text": [
      "[4, 8, 12]\n",
      "0\n",
      "1\n",
      "2\n",
      "3\n",
      "4\n",
      "5\n",
      "6\n",
      "7\n",
      "8\n",
      "9\n"
     ]
    }
   ],
   "source": [
    "'''\n",
    "\n",
    "일반적으로 반복문은 for, while\n",
    "for는 반복 횟수를 알고 있을때\n",
    "while은 조건에 따라 반복할 때\n",
    "\n",
    "'''\n",
    "############################\n",
    "# 일반적으로 반복문은 for, while을 써요\n",
    "# for는 반복횟수를 알고 있을때, while은 조건에 따라서 반복할때\n",
    "# for tmp in range(10):\n",
    "#     print(tmp, end=' ')\n",
    "    \n",
    "# python list comprehension이라는게 존재해요!\n",
    "# 리스트를 생성할 때 반복문을 조건문을 이용해서 생성\n",
    "\n",
    "a = [1,2,3,4,5,6,7]\n",
    "\n",
    "# [2,4,6,8,10,12,14]\n",
    "list1 = [tmp * 2 for tmp in a if tmp % 2 == 0]\n",
    "print(list1)\n",
    "\n",
    "################################\\\n",
    "\n",
    "idx = 0\n",
    "\n",
    "\n",
    "while idx < 10:\n",
    "    print(idx)\n",
    "    idx += 1\n"
   ]
  },
  {
   "cell_type": "code",
   "execution_count": null,
   "metadata": {},
   "outputs": [],
   "source": [
    "## 문제 1.\n",
    "## 10보다 작은 자연수 중에서 3 또는 5의 배수는\n",
    "## 3,5,6,9가 존재해요! 이것들의 합은 23입니다.\n",
    "\n",
    "## 1000보다 작은 자연수 중에서 3 또는 5의 배수들을\n",
    "## 구해서 모두 합하면 얼마인가요?\n",
    "\n",
    "## 정답 : 233168"
   ]
  },
  {
   "cell_type": "code",
   "execution_count": 76,
   "metadata": {},
   "outputs": [],
   "source": [
    "three = [thr for thr in range(1,1000) if thr%3==0]\n",
    "five=[fiv for fiv in range(1,1000) if fiv%5==0]"
   ]
  },
  {
   "cell_type": "code",
   "execution_count": 80,
   "metadata": {},
   "outputs": [
    {
     "data": {
      "text/plain": [
       "233168"
      ]
     },
     "execution_count": 80,
     "metadata": {},
     "output_type": "execute_result"
    }
   ],
   "source": [
    "sum(set(three)|set(five))"
   ]
  },
  {
   "cell_type": "code",
   "execution_count": 94,
   "metadata": {},
   "outputs": [],
   "source": [
    "def fiv(n):\n",
    "    if n <=1 :\n",
    "        return n\n",
    "    elif n==2 :\n",
    "        return n\n",
    "    else :\n",
    "        return fiv(n-1)+fiv(n-2)"
   ]
  },
  {
   "cell_type": "code",
   "execution_count": 102,
   "metadata": {},
   "outputs": [
    {
     "ename": "KeyboardInterrupt",
     "evalue": "",
     "output_type": "error",
     "traceback": [
      "\u001b[1;31m---------------------------------------------------------------------------\u001b[0m",
      "\u001b[1;31mKeyboardInterrupt\u001b[0m                         Traceback (most recent call last)",
      "\u001b[1;32m<ipython-input-102-0d43e28f029e>\u001b[0m in \u001b[0;36m<module>\u001b[1;34m\u001b[0m\n\u001b[0;32m      1\u001b[0m \u001b[0msum_f\u001b[0m\u001b[1;33m=\u001b[0m\u001b[1;36m0\u001b[0m\u001b[1;33m\u001b[0m\u001b[1;33m\u001b[0m\u001b[0m\n\u001b[0;32m      2\u001b[0m \u001b[1;32mfor\u001b[0m \u001b[0mi\u001b[0m \u001b[1;32min\u001b[0m \u001b[0mrange\u001b[0m\u001b[1;33m(\u001b[0m\u001b[1;36m10000\u001b[0m\u001b[1;33m)\u001b[0m\u001b[1;33m:\u001b[0m\u001b[1;33m\u001b[0m\u001b[1;33m\u001b[0m\u001b[0m\n\u001b[1;32m----> 3\u001b[1;33m     \u001b[1;32mwhile\u001b[0m \u001b[0mfiv\u001b[0m\u001b[1;33m(\u001b[0m\u001b[0mi\u001b[0m\u001b[1;33m)\u001b[0m\u001b[1;33m<=\u001b[0m\u001b[1;36m4000000\u001b[0m\u001b[1;33m:\u001b[0m\u001b[1;33m\u001b[0m\u001b[1;33m\u001b[0m\u001b[0m\n\u001b[0m\u001b[0;32m      4\u001b[0m         \u001b[1;32mif\u001b[0m \u001b[0mfiv\u001b[0m\u001b[1;33m(\u001b[0m\u001b[0mi\u001b[0m\u001b[1;33m)\u001b[0m\u001b[1;33m%\u001b[0m\u001b[1;36m2\u001b[0m\u001b[1;33m==\u001b[0m\u001b[1;36m0\u001b[0m\u001b[1;33m:\u001b[0m\u001b[1;33m\u001b[0m\u001b[1;33m\u001b[0m\u001b[0m\n\u001b[0;32m      5\u001b[0m             \u001b[0msum_f\u001b[0m\u001b[1;33m+=\u001b[0m\u001b[0mfiv\u001b[0m\u001b[1;33m(\u001b[0m\u001b[0mi\u001b[0m\u001b[1;33m)\u001b[0m\u001b[1;33m\u001b[0m\u001b[1;33m\u001b[0m\u001b[0m\n",
      "\u001b[1;31mKeyboardInterrupt\u001b[0m: "
     ]
    }
   ],
   "source": [
    "sum_f=0\n",
    "for i in range(10000):\n",
    "    while fiv(i)<=4000000:\n",
    "        if fiv(i)%2==0:\n",
    "            sum_f+=fiv(i)"
   ]
  },
  {
   "cell_type": "code",
   "execution_count": null,
   "metadata": {},
   "outputs": [],
   "source": [
    "sum_f"
   ]
  },
  {
   "cell_type": "code",
   "execution_count": null,
   "metadata": {},
   "outputs": [],
   "source": [
    "## 문제 3.\n",
    "## 알파벳 대소문자로 된 문자열이 주어지면, \n",
    "## 이 문자열에서 가장 많이 사용된 알파벳이 \n",
    "## 무엇인지 출력하는 프로그램을 작성하시오. \n",
    "## 단, 대소문자는 구별하지 않아요. 만약 동률이 존재하는 경우 \n",
    "## 알파벳 순으로 제일 앞에 있는\n",
    "## 문자를 출력하세요.\n",
    "\n",
    "## 문자열) \"This is a sample Program mississippi river\"\n",
    "## 문자열) \"abcdabcdababccddcd\"\n",
    "\n",
    "## 정답 :  \"This is a sample Program mississippi river\" => I\n",
    "## 정답 :  \"abcdabcdababccddcd\" => C"
   ]
  },
  {
   "cell_type": "code",
   "execution_count": null,
   "metadata": {},
   "outputs": [],
   "source": [
    "def most_alp(n):\n",
    "    \n",
    "    "
   ]
  },
  {
   "cell_type": "code",
   "execution_count": 103,
   "metadata": {},
   "outputs": [],
   "source": [
    "a=\"This is a sample Program mississippi river\""
   ]
  },
  {
   "cell_type": "code",
   "execution_count": 106,
   "metadata": {},
   "outputs": [
    {
     "data": {
      "text/plain": [
       "{' ', 'a', 'e', 'g', 'h', 'i', 'l', 'm', 'o', 'p', 'r', 's', 't', 'v'}"
      ]
     },
     "execution_count": 106,
     "metadata": {},
     "output_type": "execute_result"
    }
   ],
   "source": [
    "set(a.lower())"
   ]
  },
  {
   "cell_type": "code",
   "execution_count": null,
   "metadata": {},
   "outputs": [],
   "source": []
  }
 ],
 "metadata": {
  "kernelspec": {
   "display_name": "Python [conda env:data_env] *",
   "language": "python",
   "name": "conda-env-data_env-py"
  },
  "language_info": {
   "codemirror_mode": {
    "name": "ipython",
    "version": 3
   },
   "file_extension": ".py",
   "mimetype": "text/x-python",
   "name": "python",
   "nbconvert_exporter": "python",
   "pygments_lexer": "ipython3",
   "version": "3.7.9"
  }
 },
 "nbformat": 4,
 "nbformat_minor": 4
}
