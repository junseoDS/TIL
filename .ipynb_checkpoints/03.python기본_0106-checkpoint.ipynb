{
 "cells": [
  {
   "cell_type": "markdown",
   "metadata": {},
   "source": [
    "## 0106\n",
    "\n",
    "python 함수\n",
    "\n",
    "python 객체지향\n",
    "\n",
    "함수는 특정기능을 수행하는 코드 묶음\n",
    "함수를 만들 때 함수명은 가독성을 높이기 위해서\n",
    "이름을 만든다 => 함수명은 소문자로 작성\n",
    "\n",
    "python에서 함수는 내장함수(print(),len())\n",
    "                  사용자 정의 함수"
   ]
  },
  {
   "cell_type": "code",
   "execution_count": 1,
   "metadata": {},
   "outputs": [
    {
     "name": "stdout",
     "output_type": "stream",
     "text": [
      "60\n"
     ]
    }
   ],
   "source": [
    "# 사용자 정의 함수(user define function)\n",
    "\n",
    "# 함수를 정의할 때 def 이용\n",
    "\n",
    "def my_sum(a,b,c):\n",
    "    result = a+b+c\n",
    "    return result\n",
    "\n",
    "sum_result = my_sum(10,20,30)\n",
    "print(sum_result)\n"
   ]
  },
  {
   "cell_type": "code",
   "execution_count": 3,
   "metadata": {},
   "outputs": [
    {
     "name": "stdout",
     "output_type": "stream",
     "text": [
      "결과값은 : 3\n"
     ]
    }
   ],
   "source": [
    "# 함수를 정의해서 사용할 때 인자의 개수가 가변적일때\n",
    "# 어떻게 해야하나요?\n",
    "\n",
    "def my_sum2(*tmp):\n",
    "    result = 0\n",
    "    for t in tmp:\n",
    "        result +=t\n",
    "    return result\n",
    "\n",
    "print('결과값은 : {}'.format(my_sum2(1,2)))"
   ]
  },
  {
   "cell_type": "code",
   "execution_count": 5,
   "metadata": {},
   "outputs": [
    {
     "name": "stdout",
     "output_type": "stream",
     "text": [
      "<class 'tuple'>\n",
      "(30, 200)\n"
     ]
    }
   ],
   "source": [
    "#여러개의 값을 리턴하는 함수\n",
    "\n",
    "def multi_return(a,b):\n",
    "    result1 = a+b \n",
    "    result2 = a*b\n",
    "    return result1,result2\n",
    "\n",
    "data1 = multi_return(10,20)\n",
    "print(type(data1))\n",
    "print(data1)\n"
   ]
  },
  {
   "cell_type": "code",
   "execution_count": 7,
   "metadata": {},
   "outputs": [
    {
     "name": "stdout",
     "output_type": "stream",
     "text": [
      "data_x : 10\n",
      "data_list : [10, 20, 100]\n"
     ]
    }
   ],
   "source": [
    "# 넘겨준 인자값이 변경되지 않는 경우 : call by value => immutable\n",
    "# 넘겨준 인자값이 변경되는 경우 : call by reference => mutable\n",
    "\n",
    "def my_func(tmp_value, tmp_list):\n",
    "    tmp_value =  tmp_value +100\n",
    "    tmp_list.append(100)\n",
    "    \n",
    "data_x = 10\n",
    "data_list =[10,20]\n",
    "\n",
    "my_func(data_x,data_list)\n",
    "\n",
    "print('data_x : {}'.format(data_x))\n",
    "print('data_list : {}'.format(data_list))\n"
   ]
  },
  {
   "cell_type": "code",
   "execution_count": 8,
   "metadata": {},
   "outputs": [
    {
     "name": "stdout",
     "output_type": "stream",
     "text": [
      "120\n"
     ]
    }
   ],
   "source": [
    "# local variable과 global variable\n",
    "\n",
    "tmp = 100\n",
    "\n",
    "def my_func(x) :\n",
    "    global tmp\n",
    "\n",
    "    tmp = tmp +x\n",
    "    return tmp\n",
    "\n",
    "print(my_func(20))"
   ]
  },
  {
   "cell_type": "code",
   "execution_count": null,
   "metadata": {},
   "outputs": [],
   "source": [
    "# python의 내장함수에 대해서 알아보자\n",
    "\n"
   ]
  },
  {
   "cell_type": "markdown",
   "metadata": {},
   "source": [
    "### 객체지향에 대해서 알아보자\n",
    "\n",
    "- python 3.x로 변경되면서 객체지향언어로 탈바꿈.\n",
    "\n",
    "- 객체지향에 대한 기본적인 이해\n",
    "\n",
    "\n",
    "#### 프로그래밍의 패러다임\n",
    "\n",
    "- 과거에는 프로그래밍이 힘들었다\n",
    "- 이진수 프로그래밍 => 0100001110101 : 변수생성\n",
    "                       1011010110110 : 복사\n",
    "                       \n",
    "- 어셈블리어 : ADD, REGISTER\n",
    "- C를 위시한 고급언어들 등장\n",
    "\n",
    "- 절차적 프로그래밍\n",
    "- 절차적 프로그래밍의 가장 대표적인 언어 => C\n",
    "\n",
    "- 프로그래밍을 기능으로 세분화\n",
    "- 파안된 각각의 기능을 모듈로 만듦\n",
    "\n",
    "- 장점  \n",
    "    - 프로그램을 쉽고 빠르게 구현.\n",
    "    - 프로그램의 설계를 빠르게 구할 수 있고 누가 설계하든 동일한 설계가 나옴\n",
    "- 단점 \n",
    "    - 프로그램의 규모가 커지게 되면 유지보수가 어려움\n",
    "    - 개발비용보다 유지보수 비용이 더 커지는 현상\n",
    "    - 기존코드를 재사용하는데 한계 => 함수단위로 가져다 쓰던지 코드를 복사, 붙여넣어서 재사용\n",
    "    \n",
    "    \n",
    "- 인터넷의 보급\n",
    "    - 유지보수의 요구사항 급증\n",
    "    - 새로운 프로그래밍 방식 필요\n",
    "    \n",
    "- 객체지향 프로그래밍(1990년대)\n",
    "    - 모든 구현자체가 객체지향으로 전환 C++, JAVA\n",
    "    \n",
    "### 객체지향 프로그래밍\n",
    "\n",
    "- 프로그램을 기능으로 세분화하지 않는다\n",
    "- 해결해야하는 문제를 그대로 프로그램으로 묘사\n",
    "- 프로그램을 구성하는 주체를 파악\n",
    "- 주체들이 어떻게 서로 상호작용하는지를 프로그램적으로 묘사\n",
    "\n",
    "- 단점\n",
    "    - 프로그램의 설계와 구현이 상대적으로 어려움\n",
    "    \n",
    "- 장점 \n",
    "    - 프로그램의 유지보수성과 재사용성에 이점을 가짐\n",
    "    \n",
    "- 학계나 상대적으로 간단한, 특별히 유지보수가 필요없는 프로그램은 절차적 프로그램 방식\n",
    "- 서비스류 프로그램은 유지보수성 때문에 객체지향적으로 구현\n",
    "\n",
    "- 객체지향 프로그램은 현실세계의 객체를 프로그램적으로 모델링하는게 중요\n",
    "\n",
    "\n",
    "#### Class\n",
    "- class : 현실세계의 객체를 프로그램적으로 모델링의 수단\n",
    "- class 안에는 변수들과 함수들이 여러개 들어감\n",
    "- class를 데이터 타입의 관점에서 바라볼 수 있다\n",
    "\n",
    "\n"
   ]
  },
  {
   "cell_type": "code",
   "execution_count": null,
   "metadata": {},
   "outputs": [],
   "source": []
  },
  {
   "cell_type": "code",
   "execution_count": null,
   "metadata": {},
   "outputs": [],
   "source": []
  },
  {
   "cell_type": "code",
   "execution_count": null,
   "metadata": {},
   "outputs": [],
   "source": []
  },
  {
   "cell_type": "code",
   "execution_count": null,
   "metadata": {},
   "outputs": [],
   "source": []
  },
  {
   "cell_type": "code",
   "execution_count": null,
   "metadata": {},
   "outputs": [],
   "source": []
  },
  {
   "cell_type": "code",
   "execution_count": null,
   "metadata": {},
   "outputs": [],
   "source": []
  },
  {
   "cell_type": "code",
   "execution_count": null,
   "metadata": {},
   "outputs": [],
   "source": []
  }
 ],
 "metadata": {
  "kernelspec": {
   "display_name": "Python [conda env:data_env] *",
   "language": "python",
   "name": "conda-env-data_env-py"
  },
  "language_info": {
   "codemirror_mode": {
    "name": "ipython",
    "version": 3
   },
   "file_extension": ".py",
   "mimetype": "text/x-python",
   "name": "python",
   "nbconvert_exporter": "python",
   "pygments_lexer": "ipython3",
   "version": "3.7.9"
  }
 },
 "nbformat": 4,
 "nbformat_minor": 4
}
