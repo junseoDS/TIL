{
 "cells": [
  {
   "cell_type": "code",
   "execution_count": 2,
   "metadata": {},
   "outputs": [
    {
     "name": "stdout",
     "output_type": "stream",
     "text": [
      "홍길동\n"
     ]
    }
   ],
   "source": [
    "# Class 복습 \n",
    "\n",
    "class Student(object) :\n",
    "    scholarship_rate = 3.0 # class variable\n",
    "\n",
    "    def __init__(self,name,dept):\n",
    "        self.name = name  # instance variable \n",
    "        self.dept = dept\n",
    "    \n",
    "    def get_student_inf(self):  # instance method\n",
    "        return \"이름은 : {}, 학과는 : {}\".format(self.name,self.dept)\n",
    "    \n",
    "stu1 = Student('홍길동','철학')\n",
    "stu2 = Student('신사임당','컴퓨터')\n",
    "\n",
    "# 본래 객체지향에서는 객체가 가지고 있는 속성과 메소드만 사용할 수 있어요!\n",
    "# 현재 Stu1 객체는 2개의 property와 1개의 mathod를 가지고 있어요\n",
    "print(stu1.name)\n",
    "stu1.name = '감강찬'\n",
    "stu1.names = '이황' # 원래 객체지향이론에서는 허용 x\n",
    "                    # Python은 가능\n",
    "                    # 새로운 속성이 추가"
   ]
  },
  {
   "cell_type": "markdown",
   "metadata": {},
   "source": [
    "### namespace\n",
    "\n",
    "#### 상속(inhertance)\n",
    "\n",
    "- 객체지향의 꽃 => 재사용송 확보\n",
    "- 상속은 상위클래스의 특징을 이어받아서 확장된 하위클래스\n",
    "- 만들어내는 방법 => 코드의 재사용성 장점\n",
    "\n",
    "\n",
    "\n",
    " 상속을 이용하면 class간에 계층관계까 성립\n",
    "\n",
    "\n",
    "\n",
    "- 상위클래스 => 상속을 내려주는 클래스\n",
    "    - 상위클래스, super class, upper class, parent class, 부모클래스\n",
    "- 하위클래스 => 상속을 받아서 확장하는 클래스\n",
    "    - 해위클래스, sub class, child class, 자식클래스\n",
    "\n",
    "- namespace는 객체들의 요소들을 나누어 관리하는 메모리공간\n",
    "    - 속성이나 method를 이용할 때 계층구조를 이용해서 속성과 method를 찾아가요\n",
    "    -instance -> class -> superclass"
   ]
  },
  {
   "cell_type": "code",
   "execution_count": 5,
   "metadata": {},
   "outputs": [
    {
     "name": "stdout",
     "output_type": "stream",
     "text": [
      "False\n",
      "True\n",
      "Hello\n"
     ]
    }
   ],
   "source": [
    "class Student(object) :\n",
    "    scholarship_rate = 3.0 # class variable\n",
    "\n",
    "    def __init__(self,name,dept,grade):\n",
    "        self.name = name   # instance variable \n",
    "        self.dept = dept   # instance variable\n",
    "        self.grade = grade # instance variable\n",
    "    \n",
    "    def get_student_inf(self):  # instance method\n",
    "        return \"이름은 : {}, 학과는 : {}\".format(self.name,self.dept)\n",
    "    \n",
    "    #class method를 만들려면 특수한 데코레이터 이용\n",
    "    @classmethod\n",
    "    def change_scholarship_rate(cls,rate):\n",
    "        cls.scholarship_rate = rate\n",
    "        \n",
    "    # static mathod\n",
    "    # 일반함수를 class 내부에 만드는 것\n",
    "    @staticmethod\n",
    "    def print_hello():\n",
    "        return print(\"Hello\")\n",
    "    \n",
    "    def is_scholarship(self):\n",
    "        if self.grade>= Student.scholarship_rate:\n",
    "            return True\n",
    "        else:\n",
    "            return False\n",
    "    \n",
    "stu1 = Student('홍길동','철학',2.0)\n",
    "stu2 = Student('신사임당','컴퓨터',4.0)\n",
    "\n",
    "print(stu1.is_scholarship())\n",
    "print(stu2.is_scholarship())\n",
    "\n",
    "stu1.print_hello()\n",
    "\n",
    "# 인스턴스가 가지고 있는 속성은 외부에서 직접적인 변경이 불가능하도록\n",
    "# 코드를 작성하는게 좋음\n",
    "# 메소드를 통해서 변경하도록 코드를 작성\n"
   ]
  },
  {
   "cell_type": "markdown",
   "metadata": {},
   "source": [
    "instance method self를 인자로 받아서 사용\n",
    "\n",
    "instance variable을 생성,변경,참조\n",
    "\n",
    "class variable\n",
    "\n",
    "class method 이용\n",
    "\n",
    "class method는 cls를 인자로 받음\n",
    "\n",
    "class method는 인스턴스를 공유하는 class variable을 생성 변경 참조\n",
    "\n",
    "\n",
    "1. instance variable\n",
    "2. instance method\n",
    "3. class variable\n",
    "4. class method\n",
    "5. static mathod\n",
    "\n",
    "### public vs private\n",
    "\n",
    "#### public  \n",
    "- 어디에서나 사용할 수 있는 경우를 지칭\n",
    "- 속성과 함수를 사용할 수 있는 경우를 지침\n",
    "\n",
    "stu1.name = '이황'\n",
    "\n",
    "#### private\n",
    "\n",
    "- 앞에 \\__ 붙여서 외부에서 수정 불가능하게 지정"
   ]
  },
  {
   "cell_type": "markdown",
   "metadata": {},
   "source": [
    "### 상속(inheritance)\n",
    "\n",
    "- 상속의 목적은 한번 정의한 class를 필요에 따라 재활용 하기 위함\n",
    "- 코드의 반복을 줄이고 compact한 코드를 작성하기 위함\n",
    "- 장점 : 코드의 반복을 줄이고 재활용성을 높임\n",
    "- 단정 : 클래스를 재활용 하려면 독립적인 class 여야함\n",
    "- 상위 클래스와 하위 클래스가 서로 긴밀하게 연결 (tightly coupled)\n"
   ]
  },
  {
   "cell_type": "code",
   "execution_count": 6,
   "metadata": {},
   "outputs": [
    {
     "name": "stdout",
     "output_type": "stream",
     "text": [
      "Unit\n"
     ]
    }
   ],
   "source": [
    "# 상위클래스 \n",
    "class Unit(object):\n",
    "    def __init__(self,damage,life):\n",
    "        # __class__ : 현재 객체의 클래스 정보를 지칭\n",
    "        self.utype = self.__class__.__name__\n",
    "        \n",
    "        self.damage = damage\n",
    "        self.life = life\n",
    "        \n",
    "my_unit = Unit(100,200)\n",
    "print(my_unit.utype)"
   ]
  },
  {
   "cell_type": "code",
   "execution_count": 9,
   "metadata": {},
   "outputs": [
    {
     "name": "stdout",
     "output_type": "stream",
     "text": [
      "300\n",
      "Marine\n"
     ]
    }
   ],
   "source": [
    "# 하위클래스\n",
    "class Marine(Unit):\n",
    "    def __init__(self,damage,life,offense_upgrade):\n",
    "        #상위클래스에서 그대로 가져오기\n",
    "        super(Marin,self).__init__()\n",
    "        self.offense_upgrade = offense_upgrade\n",
    "    \n",
    "    \n",
    "marin_1 = Marine(300,400,2)\n",
    "print(marin_1.damage)\n",
    "print(marin_1.utype)\n",
    "print(marin_1.offense_upgrade)"
   ]
  },
  {
   "cell_type": "markdown",
   "metadata": {},
   "source": [
    "class안에 들어있는 magic function\n",
    "\n",
    "\\_\\_init__() ,\\_\\_str__() ,\\_\\_del__() ,\\_\\_lt__() \n",
    "\n",
    "일반적으로 직접 호출하지 않고, 특정상황이 되면 자동적(내부적)으로 호출\n",
    "\n",
    "\n"
   ]
  },
  {
   "cell_type": "code",
   "execution_count": 12,
   "metadata": {},
   "outputs": [
    {
     "name": "stdout",
     "output_type": "stream",
     "text": [
      "객체가 생성됩니다\n",
      "객체가 삭제돼요\n",
      "이름은 : 홍길동, 학과는 : 영어영문\n"
     ]
    }
   ],
   "source": [
    "class Student(object):\n",
    "    def __init__(self,name,dept):\n",
    "        print('객체가 생성됩니다')\n",
    "        self.name = name\n",
    "        self.dept = dept\n",
    "        \n",
    "    def __del__(self): # instance가 메모리에서 삭제될 때 호출\n",
    "        print('객체가 삭제돼요')\n",
    "        #객체가 삭제될 떄 이 객체가 사용한 resource 해제\n",
    "        \n",
    "    def __str__(self):\n",
    "        return '이름은 : {}, 학과는 : {}'.format(self.name,self.dept)\n",
    "stu1 = Student('홍길동','영어영문')\n",
    "print(stu1)"
   ]
  },
  {
   "cell_type": "markdown",
   "metadata": {},
   "source": [
    "### Module\n",
    "\n",
    "#### Module\n",
    "- 함수나 변수 혹은 클래스를 모아놓은 파일을 지침\n",
    "- 확장자가 .py로 끝나는 python 소스코드\n",
    "- 다른 python 파일을 불러와서 우리코드에서 이용할 수 있도록 해주는 기능\n",
    "- module을 사용하는 이유\n",
    "    - 코드의 재사용성을 높이고 관리를 쉽게하기 위함\n",
    "    \n",
    "- import : module을 불러들이는 키워드, 파일을 객체화 시켜서 우리코드가 사용하는 메모리에 로드\n",
    "\n",
    "#### 윈도우 환경변수\n",
    "환경변수 하나를 생성해서 특정 폴더를 지정해서 그 안에 파이썬 파일 작성\n"
   ]
  },
  {
   "cell_type": "code",
   "execution_count": 1,
   "metadata": {},
   "outputs": [],
   "source": [
    "# module 사용해보기\n",
    "# module을 import하면 module이 객체화되어 들어온다\n",
    "# import 할 땐 파일 이름만 이용\n",
    "\n",
    "import module1"
   ]
  },
  {
   "cell_type": "code",
   "execution_count": 3,
   "metadata": {},
   "outputs": [
    {
     "name": "stdout",
     "output_type": "stream",
     "text": [
      "3.14\n"
     ]
    }
   ],
   "source": [
    "print(module1.my_pi)"
   ]
  },
  {
   "cell_type": "code",
   "execution_count": 6,
   "metadata": {},
   "outputs": [],
   "source": [
    "import network.my_network_module"
   ]
  },
  {
   "cell_type": "code",
   "execution_count": 7,
   "metadata": {},
   "outputs": [],
   "source": [
    "from network import my_network_module"
   ]
  },
  {
   "cell_type": "code",
   "execution_count": 8,
   "metadata": {},
   "outputs": [
    {
     "name": "stdout",
     "output_type": "stream",
     "text": [
      "화이팅\n"
     ]
    }
   ],
   "source": [
    "print(my_network_module.variable1)"
   ]
  },
  {
   "cell_type": "code",
   "execution_count": null,
   "metadata": {},
   "outputs": [],
   "source": []
  }
 ],
 "metadata": {
  "kernelspec": {
   "display_name": "Python [conda env:data_env] *",
   "language": "python",
   "name": "conda-env-data_env-py"
  },
  "language_info": {
   "codemirror_mode": {
    "name": "ipython",
    "version": 3
   },
   "file_extension": ".py",
   "mimetype": "text/x-python",
   "name": "python",
   "nbconvert_exporter": "python",
   "pygments_lexer": "ipython3",
   "version": "3.7.9"
  }
 },
 "nbformat": 4,
 "nbformat_minor": 4
}
