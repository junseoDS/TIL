{
 "cells": [
  {
   "cell_type": "markdown",
   "metadata": {},
   "source": [
    "## Numpy (Numerical python)\n",
    "- numpy module은 vector, matrix 연산에 있어서 상당한 편리성을 제공\n",
    "\n",
    "- numpy module은 우리에게 기본적인 자료구조를 하나 제공합니다.!!\n",
    "- ndarray(n-dimensional array)\n",
    "\n",
    "- numpy를 사용하기 위해서는 일단 먼저 module을 다운로드 해야 해요!\n",
    "- anaconda prompt를 실행해요!!\n",
    "- conda install numpy"
   ]
  },
  {
   "cell_type": "code",
   "execution_count": 11,
   "metadata": {},
   "outputs": [
    {
     "name": "stdout",
     "output_type": "stream",
     "text": [
      "[1, 2, 3, 4]\n",
      "[1 2 3 4]\n",
      "<class 'numpy.ndarray'>\n",
      "int32\n",
      "<class 'numpy.int32'>\n",
      "[[1, 2, 3], [4, 5, 6]]\n",
      "[[1. 2. 3.]\n",
      " [4. 5. 6.]]\n",
      "5.0\n"
     ]
    }
   ],
   "source": [
    "import numpy as np\n",
    "\n",
    "# python의 list\n",
    "a = [1,2,3,4]  # literal(프로그램적 기호를 이용해서 표현)\n",
    "# a = list()   # list라는 class를 이용해서 생성\n",
    "# print(type(a)) # <class 'list'> \n",
    "print(a)       # [1, 2, 3, 4]\n",
    "\n",
    "# numpy의 ndarray\n",
    "b = np.array([1,2,3,4])\n",
    "print(b)       # [1 2 3 4]\n",
    "print(type(b)) # <class 'numpy.ndarray'>\n",
    "print(b.dtype) # int32\n",
    "# ndarray는 모든 원소가 같은 데이터 타입을 가져야 해요!\n",
    "# list는 모든 원소가 같은 데이터 타입을 가지지 않아도 상관없어요!\n",
    "print(type(b[0])) # <class 'numpy.int32'>\n",
    "\n",
    "# 다차원 ndarray에 대해서 알아보아요!\n",
    "my_list = [[1,2,3], [4,5,6]]\n",
    "print(my_list)   # [[1, 2, 3], [4, 5, 6]]\n",
    "\n",
    "my_array = np.array([[1,2,3], [4,5,6]], dtype=np.float64)\n",
    "print(my_array)  # [[1 2 3]\n",
    "                 #  [4 5 6]]\n",
    "print(my_array[1,1])  # 5   "
   ]
  },
  {
   "cell_type": "code",
   "execution_count": 12,
   "metadata": {},
   "outputs": [
    {
     "name": "stdout",
     "output_type": "stream",
     "text": [
      "1\n",
      "(4,)\n",
      "2\n",
      "(2, 3)\n",
      "[[[ 1  2  3]\n",
      "  [ 4  5  6]]\n",
      "\n",
      " [[ 7  8  9]\n",
      "  [10 11 12]]]\n",
      "3\n",
      "(2, 2, 3)\n"
     ]
    }
   ],
   "source": [
    "# ndarray의 대표적인 속성에 대해서 알아보아요!\n",
    "# ndim, shape\n",
    "import numpy as np\n",
    "\n",
    "# 1차원\n",
    "my_list = [1,2,3,4]\n",
    "arr = np.array(my_list)\n",
    "print(arr.ndim)  # ndim이라는 속성은 차원의 수를 나타내줘요! => 1\n",
    "print(arr.shape) # 차원과 요소개수를 tuple로 표현 (4,)\n",
    "\n",
    "# 2차원\n",
    "my_list = [[1,2,3],[4,5,6]]\n",
    "arr = np.array(my_list)\n",
    "print(arr.ndim)  # 2\n",
    "print(arr.shape) # (2,3)\n",
    "\n",
    "# 3차원\n",
    "my_list = [[[1,2,3],[4,5,6]],[[7,8,9],[10,11,12]]]\n",
    "arr = np.array(my_list)\n",
    "print(arr)\n",
    "print(arr.ndim)  # 3\n",
    "print(arr.shape) # (2,2,3)"
   ]
  },
  {
   "cell_type": "code",
   "execution_count": 13,
   "metadata": {},
   "outputs": [
    {
     "name": "stdout",
     "output_type": "stream",
     "text": [
      "shape : (4,)\n",
      "크기(len) : 4\n",
      "크기(size) : 4\n",
      "shape : (2, 3)\n",
      "크기(len) : 2\n",
      "크기(size) : 6\n"
     ]
    }
   ],
   "source": [
    "# size 속성에 대해서 알아보아요!\n",
    "import numpy as np\n",
    "\n",
    "my_list = [1,2,3,4]\n",
    "arr = np.array(my_list)\n",
    "\n",
    "print('shape : {}'.format(arr.shape)) # (4,)\n",
    "print('크기(len) : {}'.format(len(arr))) # 4\n",
    "print('크기(size) : {}'.format(arr.size)) # 4\n",
    "\n",
    "my_list = [[1,2,3], [4,5,6]]\n",
    "arr = np.array(my_list)\n",
    "print('shape : {}'.format(arr.shape)) # (2,3)\n",
    "print('크기(len) : {}'.format(len(arr))) # 2\n",
    "print('크기(size) : {}'.format(arr.size)) # 6\n"
   ]
  },
  {
   "cell_type": "code",
   "execution_count": 14,
   "metadata": {},
   "outputs": [
    {
     "name": "stdout",
     "output_type": "stream",
     "text": [
      "[1 2 3 4]\n",
      "[[[1 2]]\n",
      "\n",
      " [[3 4]]]\n"
     ]
    }
   ],
   "source": [
    "import numpy as np\n",
    "\n",
    "my_list = [1,2,3,4]\n",
    "arr = np.array(my_list)\n",
    "print(arr)\n",
    "\n",
    "# print(arr.shape) # => (4,)\n",
    "arr.shape = (2,1,2) # 하지만 shape을 변경할때는 이렇게 직접적으로\n",
    "                    # shape속성을 변경하지 않아요!\n",
    "                    # 나중에 reshape() method를 사용할 꺼예요!\n",
    "print(arr)"
   ]
  },
  {
   "cell_type": "code",
   "execution_count": 15,
   "metadata": {},
   "outputs": [
    {
     "name": "stdout",
     "output_type": "stream",
     "text": [
      "[1.2 2.3 3.5 4.1 5.7]\n",
      "[1 2 3 4 5]\n"
     ]
    }
   ],
   "source": [
    "# astype() ndarray의 data type을 변경\n",
    "import numpy as np\n",
    "\n",
    "arr = np.array([1.2,2.3,3.5,4.1,5.7])\n",
    "print(arr)\n",
    "\n",
    "arr = arr.astype(np.int32)\n",
    "print(arr)"
   ]
  },
  {
   "cell_type": "code",
   "execution_count": 19,
   "metadata": {},
   "outputs": [
    {
     "name": "stdout",
     "output_type": "stream",
     "text": [
      "zeros: [[0. 0. 0. 0.]\n",
      " [0. 0. 0. 0.]\n",
      " [0. 0. 0. 0.]]\n",
      "zeros: [[0 0 0 0]\n",
      " [0 0 0 0]\n",
      " [0 0 0 0]]\n",
      "ones :  [[1. 1. 1. 1.]\n",
      " [1. 1. 1. 1.]\n",
      " [1. 1. 1. 1.]]\n",
      "empty :  [[1. 1. 1. 1.]\n",
      " [1. 1. 1. 1.]\n",
      " [1. 1. 1. 1.]]\n",
      "full :  [[7. 7. 7. 7.]\n",
      " [7. 7. 7. 7.]\n",
      " [7. 7. 7. 7.]]\n"
     ]
    }
   ],
   "source": [
    "# ndarray의 다양한 생성 함수(zeros, ones, empty, full)\n",
    "import numpy as np\n",
    "\n",
    "arr = np.zeros((3,4))   # 특정 형태의 ndarray를 만들어서 내용을 0으로 채워요!\n",
    " \n",
    "print('zeros:',arr)              # 기본 데이터 타입은 np.float64 \n",
    "\n",
    "arr = np.zeros((3,4), dtype=np.int32)\n",
    "print('zeros:',arr)\n",
    "\n",
    "arr = np.ones((3,4), dtype=np.float64)\n",
    "print('ones : ',arr)\n",
    "\n",
    "arr = np.empty((3,4))   # 초기화를 하지 않기 때문에 빠르게 공간만 설정\n",
    "print('empty : ',arr)\n",
    "\n",
    "arr = np.full((3,4), 7, dtype=np.float64) \n",
    "print('full : ',arr)\n"
   ]
  },
  {
   "cell_type": "code",
   "execution_count": 3,
   "metadata": {},
   "outputs": [],
   "source": [
    "import numpy as np"
   ]
  },
  {
   "cell_type": "code",
   "execution_count": 6,
   "metadata": {},
   "outputs": [
    {
     "name": "stdout",
     "output_type": "stream",
     "text": [
      "range(0, 10, 2)\n",
      "[0 2 4 6 8]\n"
     ]
    }
   ],
   "source": [
    "# ndarray를 만드는 또다른 방벙 - arange()\n",
    "\n",
    "# python range()\n",
    "ar = range(0,10,2)\n",
    "print(ar)\n",
    "\n",
    "arr = np.arange(0,10,2)\n",
    "print(arr)"
   ]
  },
  {
   "cell_type": "markdown",
   "metadata": {},
   "source": [
    "ndarray를 만드는 또 다른방법\n",
    "\n",
    "np.array(), np.zeros(), np.ones(), np.full(), np.empty()\n",
    "\n",
    "random기반의 생성방법\n",
    "\n",
    "간단한 그래프 모듈을 이용해서 데이터의 분포를 살펴보자\n",
    "\n",
    "matplotlib 설치\n"
   ]
  },
  {
   "cell_type": "code",
   "execution_count": 8,
   "metadata": {},
   "outputs": [],
   "source": [
    "import numpy as np\n",
    "import matplotlib.pyplot as plt"
   ]
  },
  {
   "cell_type": "code",
   "execution_count": 20,
   "metadata": {},
   "outputs": [
    {
     "name": "stdout",
     "output_type": "stream",
     "text": [
      "[46.77725015 47.85786803 50.43196929 ... 50.36350493 47.21504848\n",
      " 52.1988664 ]\n"
     ]
    },
    {
     "data": {
      "image/png": "[encoded data removed]",
      "text/plain": [
       "<Figure size 432x288 with 1 Axes>"
      ]
     },
     "metadata": {
      "needs_background": "light"
     },
     "output_type": "display_data"
    }
   ],
   "source": [
    "# 1. np.random.normal() : 정규분포에서 실수형태의 난수를 추출\n",
    "\n",
    "my_mean = 50\n",
    "my_std =2\n",
    "arr = np.random.normal(my_mean,my_std,(10000,))\n",
    "print(arr)\n",
    "plt.hist(arr,bins=100)\n",
    "plt.show()"
   ]
  },
  {
   "cell_type": "code",
   "execution_count": 21,
   "metadata": {},
   "outputs": [
    {
     "name": "stdout",
     "output_type": "stream",
     "text": [
      "[0.56060576 0.15464046 0.04007989 ... 0.67673739 0.56785    0.90361763]\n"
     ]
    },
    {
     "data": {
      "image/png": "[encoded data removed]",
      "text/plain": [
       "<Figure size 432x288 with 1 Axes>"
      ]
     },
     "metadata": {
      "needs_background": "light"
     },
     "output_type": "display_data"
    }
   ],
   "source": [
    "# 2. np.random.rand() : 0이상 1미만의 실수를 난수로 추출\n",
    "#                       균등분포로 난수를 추출\n",
    "# np.random.rand(d0, d1, d2, d3, ...)       \n",
    "arr = np.random.rand(10000)\n",
    "print(arr)\n",
    "plt.hist(arr,bins=100)\n",
    "plt.show()"
   ]
  },
  {
   "cell_type": "code",
   "execution_count": 22,
   "metadata": {},
   "outputs": [
    {
     "name": "stdout",
     "output_type": "stream",
     "text": [
      "[-2.13049546  0.18397745  0.11290336 ...  0.81748527 -1.4114274\n",
      "  1.12275378]\n"
     ]
    },
    {
     "data": {
      "image/png": "[encoded data removed]",
      "text/plain": [
       "<Figure size 432x288 with 1 Axes>"
      ]
     },
     "metadata": {
      "needs_background": "light"
     },
     "output_type": "display_data"
    }
   ],
   "source": [
    "# 3. np.random.randn() : 표준 정규분포에서 실수형태로 난수를 추출\n",
    "arr = np.random.randn(10000)\n",
    "print(arr)\n",
    "plt.hist(arr,bins=100)\n",
    "plt.show()"
   ]
  },
  {
   "cell_type": "code",
   "execution_count": 23,
   "metadata": {},
   "outputs": [
    {
     "name": "stdout",
     "output_type": "stream",
     "text": [
      "[77 24 39 ... 93 98 36]\n"
     ]
    },
    {
     "data": {
      "image/png": "[encoded data removed]",
      "text/plain": [
       "<Figure size 432x288 with 1 Axes>"
      ]
     },
     "metadata": {
      "needs_background": "light"
     },
     "output_type": "display_data"
    }
   ],
   "source": [
    "# 4. np.random.randint(low,high,shape) : 균등분포로 정수 표본을 추출\n",
    "arr = np.random.randint(10,100,(10000,))\n",
    "print(arr)\n",
    "plt.hist(arr,bins=10)\n",
    "plt.show()"
   ]
  },
  {
   "cell_type": "code",
   "execution_count": 24,
   "metadata": {},
   "outputs": [
    {
     "name": "stdout",
     "output_type": "stream",
     "text": [
      "[0.22725045 0.88505962 0.06482706 ... 0.92941214 0.44715444 0.06555854]\n"
     ]
    },
    {
     "data": {
      "image/png": "[encoded data removed]",
      "text/plain": [
       "<Figure size 432x288 with 1 Axes>"
      ]
     },
     "metadata": {
      "needs_background": "light"
     },
     "output_type": "display_data"
    }
   ],
   "source": [
    "# 5. np.random.random() : 0이상 1미만의 실수를 난수로 추출\n",
    "#                         균등분포로 난수를 추출\n",
    "#    np.random.rand(d0, d1, d2, d3, ...)     \n",
    "#    np.random.random((10000,))\n",
    "arr = np.random.random((10000,))\n",
    "print(arr)\n",
    "plt.hist(arr,bins=100)\n",
    "plt.show()"
   ]
  },
  {
   "cell_type": "markdown",
   "metadata": {},
   "source": [
    "###  Numpy ( Numerical Python )\n",
    "####  ndarray를 만드는 방법\n",
    "- np.array(), np.ones(), np.zeros(). np.full(), np.empty()\n",
    "- np.arange()\n",
    "- np.random.normal(), np.random.rand(), np.random.randn()\n",
    "- np.random.random(), np.random.randint()\n"
   ]
  },
  {
   "cell_type": "code",
   "execution_count": 25,
   "metadata": {},
   "outputs": [
    {
     "name": "stdout",
     "output_type": "stream",
     "text": [
      "[0 1 2 3 4 5 6 7 8 9]\n",
      "[0 8 2 9 7 1 4 5 3 6]\n"
     ]
    }
   ],
   "source": [
    "# random에 관련된 함수에 대해서 조금만 더 알아보아요!!\n",
    "import numpy as np\n",
    "\n",
    "# 실행할 때 마다 새로운 난수를 추출해요!\n",
    "# 실행할 때 마다 같은 난수가 추출되도록 설정(난수의 재현)\n",
    "# np.random.seed(3)  # 정수만 사용되고 음수는 사용할 수 없어요!\n",
    "# arr = np.random.randint(0,100,(10,))\n",
    "# print(arr)\n",
    "\n",
    "# 간단하게 ndarray를 하나 만들어 보아요!\n",
    "arr = np.arange(10)\n",
    "print(arr)\n",
    "# 이미 만들어진 ndarray의 데이터의 순서를 random하게 바꾸고 싶어요!\n",
    "# shuffle 하고 싶어요!\n",
    "np.random.shuffle(arr)\n",
    "print(arr)"
   ]
  },
  {
   "cell_type": "code",
   "execution_count": 30,
   "metadata": {},
   "outputs": [
    {
     "name": "stdout",
     "output_type": "stream",
     "text": [
      "arr :  [ 0  1  2  3  4  5  6  7  8  9 10 11]\n",
      "arr1 : \n",
      " [[ 0  1  2  3]\n",
      " [ 4  5  6  7]\n",
      " [ 8  9 10 11]]\n"
     ]
    }
   ],
   "source": [
    "# ndarray를 생성한 후 \n",
    "# 만들어진 ndarray의 형태(shape)를 제어할 수 있어요!\n",
    "\n",
    "# reshape() => ndarray의 형태를 조절\n",
    "import numpy as np\n",
    "\n",
    "arr = np.arange(12)  # 12개의 요소를 가지는 1차원의 ndarray\n",
    "print('arr : ',arr)\n",
    "\n",
    "# reshape()함수는 새로운 ndarray를 만들지 않아요!\n",
    "# view가 생성되요!\n",
    "arr1 = arr.reshape(3,4)  # 3행 4열의 2차원의 ndarray로 바꿀 수 있어요!\n",
    "print('arr1 : \\n',arr1)\n"
   ]
  },
  {
   "cell_type": "code",
   "execution_count": 31,
   "metadata": {},
   "outputs": [
    {
     "name": "stdout",
     "output_type": "stream",
     "text": [
      "[[  0   1 200   3]\n",
      " [  4   5   6   7]\n",
      " [  8   9  10  11]]\n",
      "[  0   1 200   3   4   5   6   7   8   9  10  11]\n"
     ]
    }
   ],
   "source": [
    "arr1[0,2] = 200\n",
    "\n",
    "print(arr1)\n",
    "print(arr)"
   ]
  },
  {
   "cell_type": "code",
   "execution_count": 32,
   "metadata": {},
   "outputs": [
    {
     "name": "stdout",
     "output_type": "stream",
     "text": [
      "[ 0  1  2  3  4  5  6  7  8  9 10 11]\n",
      "[[[ 0  1]\n",
      "  [ 2  3]\n",
      "  [ 4  5]]\n",
      "\n",
      " [[ 6  7]\n",
      "  [ 8  9]\n",
      "  [10 11]]]\n"
     ]
    }
   ],
   "source": [
    "arr = np.arange(12)  # 12개의 요소를 가지는 1차원의 ndarray\n",
    "print(arr)\n",
    "\n",
    "arr1 = arr.reshape(2,3,-1)  # -1은 특별한 의미를 가져요!\n",
    "print(arr1)"
   ]
  },
  {
   "cell_type": "code",
   "execution_count": 33,
   "metadata": {},
   "outputs": [
    {
     "name": "stdout",
     "output_type": "stream",
     "text": [
      "[ 0  1  2  3  4  5  6  7  8  9 10 11]\n",
      "[[ 0  1  2  3]\n",
      " [ 4  5  6  7]\n",
      " [ 8  9 10 11]]\n",
      "[[100   1   2   3]\n",
      " [  4   5   6   7]\n",
      " [  8   9  10  11]]\n",
      "[ 0  1  2  3  4  5  6  7  8  9 10 11]\n"
     ]
    }
   ],
   "source": [
    "# reshape()은 새로운 ndarray를 만드는 게 아니라.. View를 만드는 작업\n",
    "\n",
    "arr = np.arange(12)  # 12개의 요소를 가지는 1차원의 ndarray\n",
    "print(arr)\n",
    "\n",
    "arr1 = arr.reshape(3,4).copy()  # 내용을 복사해서 새로운 ndarray를 생성\n",
    "print(arr1)\n",
    "\n",
    "arr1[0,0] = 100\n",
    "print(arr1)\n",
    "print(arr)"
   ]
  },
  {
   "cell_type": "markdown",
   "metadata": {},
   "source": [
    "__ravel()에 대해서 알아보아요!!__\n",
    "\n",
    "- ndarray가 가지고있는 모든 요소를 포함하는 1차원의 ndarray로 변경\n",
    "- ravel()함수는 View를 리턴합니다"
   ]
  },
  {
   "cell_type": "code",
   "execution_count": 38,
   "metadata": {},
   "outputs": [
    {
     "name": "stdout",
     "output_type": "stream",
     "text": [
      "[[1 2 3]\n",
      " [4 5 6]]\n",
      "[1 2 3 4 5 6]\n",
      "[[1 2 3]\n",
      " [4 5 6]]\n"
     ]
    }
   ],
   "source": [
    "arr = np.array([[1,2,3,], [4,5,6]])\n",
    "print(arr)\n",
    "\n",
    "arr1 = arr.ravel()  # View\n",
    "print(arr1)\n",
    "\n",
    "# resize()를 이용해서 역시 ndarray의 형태를 변경할 수 있어요!\n",
    "\n",
    "arr = np.array([[1,2,3,], [4,5,6]])\n",
    "print(arr)"
   ]
  },
  {
   "cell_type": "code",
   "execution_count": 39,
   "metadata": {},
   "outputs": [
    {
     "name": "stdout",
     "output_type": "stream",
     "text": [
      "[[1 2 3 4 5 6]]\n",
      "[[1 2 3 4 5 6]]\n"
     ]
    }
   ],
   "source": [
    "arr1 = arr.resize(1,6)   # 결과를 리턴하지 않고 원본을 바꿔요!\n",
    "arr.resize(1,6)\n",
    "print(arr)   # [[1 2 3 4 5 6]]\n",
    "\n",
    "arr1 = np.resize(arr,(1,6))  # 원본은 불변, 복사복이 만들어져요!(View가 아님)\n",
    "print(arr1)"
   ]
  },
  {
   "cell_type": "code",
   "execution_count": 40,
   "metadata": {},
   "outputs": [
    {
     "name": "stdout",
     "output_type": "stream",
     "text": [
      "[[1 2 3 4]\n",
      " [5 6 0 0]\n",
      " [0 0 0 0]]\n"
     ]
    }
   ],
   "source": [
    "arr.resize(3,4)  # ??? 원본이 2행3열인데 3행 4열로 변경\n",
    "                 # reshape은 안되요!! 하지만 resize는 가능\n",
    "print(arr)  "
   ]
  },
  {
   "cell_type": "markdown",
   "metadata": {},
   "source": [
    "여기까지가 numpy의 기본적인 생성, shape의 변경에 대한 내용\n",
    "\n",
    "그 다음은 이렇게 만든 numpy의 사용법에 대해서 내용이 나와요!\n",
    "\n",
    "indexing, slicing, boolean indexing, fancy indexing\n",
    "\n",
    "월요일날 numpy에 대한 설명을 종료!\n"
   ]
  },
  {
   "cell_type": "code",
   "execution_count": null,
   "metadata": {},
   "outputs": [],
   "source": []
  }
 ],
 "metadata": {
  "kernelspec": {
   "display_name": "Python [conda env:data_env] *",
   "language": "python",
   "name": "conda-env-data_env-py"
  },
  "language_info": {
   "codemirror_mode": {
    "name": "ipython",
    "version": 3
   },
   "file_extension": ".py",
   "mimetype": "text/x-python",
   "name": "python",
   "nbconvert_exporter": "python",
   "pygments_lexer": "ipython3",
   "version": "3.7.9"
  }
 },
 "nbformat": 4,
 "nbformat_minor": 4
}
