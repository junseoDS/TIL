{
 "cells": [
  {
   "cell_type": "markdown",
   "metadata": {},
   "source": [
    "# 수행평가2\n",
    "\n",
    "[강사님 홈페이지](https://moon9342.github.io/python-lecture-python-oop-exercise)\n",
    "\n",
    "### 수행평가 1 : 기본적인 python프로그래밍 10문제\n",
    "\n",
    "## 수행평가 2 : class를 이용한 mpg데이터 이용한 8문제\n",
    "\n",
    "### 수행평가 3 : pandas를 이용한 문제 (예정)\n",
    "\n",
    "### 문제 설명은 블로그에 명시\n",
    "\n",
    "### 필당평가 및 수행평가 제출일 (예정) : 1/29 (변동가능)"
   ]
  },
  {
   "cell_type": "markdown",
   "metadata": {},
   "source": [
    "## CLASS\n",
    "\n",
    "#### 1. displ(배기량)이 4 이하인 자동차와 5 이상인 자동차 중 어떤 자동차의 hwy(고속도로 연비)가 평균적으로 더 높은지 확인하세요.\n",
    "\n",
    "#### 2. 자동차 제조 회사에 따라 도시 연비가 다른지 알아보려고 한다.  \"audi\"와 \"toyota\" 중 어느 manufacturer(제조회사)의 cty(도시 연비)가  평균적으로 더 높은지 확인하세요.\n",
    "\n",
    "#### 3. \"chevrolet\", \"ford\", \"honda\" 자동차의 고속도로 연비 평균을 알아보려고 한다.  이 회사들의 데이터를 추출한 후 hwy(고속도로 연비) 평균을 구하세요.\n",
    "\n",
    "#### 4. \"audi\"에서 생산한 자동차 중에 어떤 자동차 모델의 hwy(고속도로 연비)가 높은지 알아보려고 한다. \n",
    "#### \"audi\"에서 생산한 자동차 중 hwy가 1~5위에 해당하는 자동차의 데이터를 출력하세요.\n",
    "\n",
    "#### 5. mpg 데이터는 연비를 나타내는 변수가 2개입니다.  두 변수를 각각 활용하는 대신 하나의 통합 연비 변수를 만들어 사용하려 합니다. \n",
    "#### 평균 연비 변수는 두 연비(고속도로와 도시)의 평균을 이용합니다.  회사별로 \"suv\" 자동차의 평균 연비를 구한후 내림차순으로 정렬한 후 1~5위까지 데이터를 출력하세요.\n",
    "\n",
    "#### 6. mpg 데이터의 class는 \"suv\", \"compact\" 등 자동차의 특징에 따라 일곱 종류로 분류한 변수입니다. 어떤 차종의 도시 연비가 높은지 비교하려 합니다. class별 cty 평균을 구하고 cty 평균이 높은 순으로 정렬해 출력하세요.\n",
    "\n",
    "#### 7. 어떤 회사 자동차의 hwy(고속도로 연비)가 가장 높은지 알아보려 합니다. hwy(고속도로 연비) 평균이 가장 높은 회사 세 곳을 출력하세요.\n",
    "\n",
    "#### 8. 어떤 회사에서 \"compact\" 차종을 가장 많이 생산하는지 알아보려고 합니다. 각 회사별 \"compact\" 차종 수를 내림차순으로 정렬해 출력하세요."
   ]
  },
  {
   "cell_type": "code",
   "execution_count": 6,
   "metadata": {},
   "outputs": [],
   "source": [
    "import pandas as pd\n",
    "my_file = pd.read_csv('mpg.txt')"
   ]
  },
  {
   "cell_type": "code",
   "execution_count": 7,
   "metadata": {},
   "outputs": [],
   "source": [
    "class Car(object):\n",
    "\n",
    "    def __init__(self,f):\n",
    "\n",
    "        self.manufacturer = f['manufacturer']\n",
    "        self.model = f['model']\n",
    "        self.displ = f['displ']\n",
    "        self.year = f['year']\n",
    "        self.cyl = f['cyl']\n",
    "        self.trans = f['trans']\n",
    "        self.drv = f['drv']\n",
    "        self.cty = f['cty']\n",
    "        self.hwy = f['hwy']\n",
    "        self.fl = f['fl']\n",
    "        self.carclass = f['class']\n",
    "        self.avg = (f['cty'] + f['hwy'])/2\n",
    "\n",
    "        # print(\"{}{}가 생성되었습니다.\".format(self.manufacturer, self.model))\n",
    "\n",
    "\n",
    "\n",
    "\n"
   ]
  },
  {
   "cell_type": "code",
   "execution_count": 8,
   "metadata": {},
   "outputs": [],
   "source": [
    "car = Car(my_file)"
   ]
  },
  {
   "cell_type": "code",
   "execution_count": 42,
   "metadata": {},
   "outputs": [
    {
     "data": {
      "text/plain": [
       "0          a4\n",
       "1          a4\n",
       "2          a4\n",
       "3          a4\n",
       "4          a4\n",
       "        ...  \n",
       "229    passat\n",
       "230    passat\n",
       "231    passat\n",
       "232    passat\n",
       "233    passat\n",
       "Name: model, Length: 234, dtype: object"
      ]
     },
     "execution_count": 42,
     "metadata": {},
     "output_type": "execute_result"
    }
   ],
   "source": [
    "car.model"
   ]
  },
  {
   "cell_type": "code",
   "execution_count": 57,
   "metadata": {},
   "outputs": [],
   "source": [
    "# 1. displ(배기량)이 4 이하인 자동차와 5 이상인 자동차 중 \n",
    "#   어떤 자동차의 hwy(고속도로 연비)가 평균적으로 더 높은지 확인하세요.\n"
   ]
  },
  {
   "cell_type": "code",
   "execution_count": 56,
   "metadata": {},
   "outputs": [
    {
     "data": {
      "text/plain": [
       "26.60810810810811"
      ]
     },
     "execution_count": 56,
     "metadata": {},
     "output_type": "execute_result"
    }
   ],
   "source": [
    "car.hwy[car.displ<4].mean()"
   ]
  },
  {
   "cell_type": "code",
   "execution_count": 55,
   "metadata": {},
   "outputs": [
    {
     "data": {
      "text/plain": [
       "18.13888888888889"
      ]
     },
     "execution_count": 55,
     "metadata": {},
     "output_type": "execute_result"
    }
   ],
   "source": [
    "car.hwy[car.displ>5].mean()"
   ]
  },
  {
   "cell_type": "code",
   "execution_count": 58,
   "metadata": {},
   "outputs": [],
   "source": [
    "## 2. 자동차 제조 회사에 따라 도시 연비가 다른지 알아보려고 한다. \n",
    "## \"audi\"와 \"toyota\" 중 어느 manufacturer(제조회사)의 cty(도시 연비)가 \n",
    "## 평균적으로 더 높은지 확인하세요"
   ]
  },
  {
   "cell_type": "code",
   "execution_count": 60,
   "metadata": {},
   "outputs": [
    {
     "data": {
      "text/plain": [
       "17.61111111111111"
      ]
     },
     "execution_count": 60,
     "metadata": {},
     "output_type": "execute_result"
    }
   ],
   "source": [
    "car.cty[car.manufacturer=='audi'].mean()"
   ]
  },
  {
   "cell_type": "code",
   "execution_count": 61,
   "metadata": {},
   "outputs": [
    {
     "data": {
      "text/plain": [
       "18.529411764705884"
      ]
     },
     "execution_count": 61,
     "metadata": {},
     "output_type": "execute_result"
    }
   ],
   "source": [
    "car.cty[car.manufacturer=='toyota'].mean()"
   ]
  },
  {
   "cell_type": "code",
   "execution_count": null,
   "metadata": {},
   "outputs": [],
   "source": [
    "## 3\"chevrolet\", \"ford\", \"honda\" 자동차의 고속도로 연비 평균을 알아보려고 한다.\n",
    "## 이 회사들의 데이터를 추출한 후 hwy(고속도로 연비) 평균을 구하세요."
   ]
  },
  {
   "cell_type": "code",
   "execution_count": 63,
   "metadata": {},
   "outputs": [
    {
     "data": {
      "text/plain": [
       "21.894736842105264"
      ]
     },
     "execution_count": 63,
     "metadata": {},
     "output_type": "execute_result"
    }
   ],
   "source": [
    "car.hwy[car.manufacturer =='chevrolet'].mean()"
   ]
  },
  {
   "cell_type": "code",
   "execution_count": 64,
   "metadata": {},
   "outputs": [
    {
     "data": {
      "text/plain": [
       "19.36"
      ]
     },
     "execution_count": 64,
     "metadata": {},
     "output_type": "execute_result"
    }
   ],
   "source": [
    "car.hwy[car.manufacturer =='ford'].mean()"
   ]
  },
  {
   "cell_type": "code",
   "execution_count": 65,
   "metadata": {},
   "outputs": [
    {
     "data": {
      "text/plain": [
       "32.55555555555556"
      ]
     },
     "execution_count": 65,
     "metadata": {},
     "output_type": "execute_result"
    }
   ],
   "source": [
    "car.hwy[car.manufacturer =='honda'].mean()"
   ]
  },
  {
   "cell_type": "code",
   "execution_count": 66,
   "metadata": {},
   "outputs": [],
   "source": [
    "## 4 \"audi\"에서 생산한 자동차 중에 어떤 자동차 모델의 hwy(고속도로 연비)가 높은지 알아보려고 한다. \n",
    "## \"audi\"에서 생산한 자동차 중 hwy가 1~5위에 해당하는 자동차의 데이터를 출력하세요."
   ]
  },
  {
   "cell_type": "code",
   "execution_count": 80,
   "metadata": {},
   "outputs": [
    {
     "data": {
      "text/plain": [
       "0    a4\n",
       "1    a4\n",
       "2    a4\n",
       "3    a4\n",
       "4    a4\n",
       "Name: model, dtype: object"
      ]
     },
     "execution_count": 80,
     "metadata": {},
     "output_type": "execute_result"
    }
   ],
   "source": [
    "car.model[(car.manufacturer=='audi')&\n",
    "          (car.hwy.sort_values(ascending=False))][:5]"
   ]
  },
  {
   "cell_type": "code",
   "execution_count": 76,
   "metadata": {},
   "outputs": [
    {
     "data": {
      "text/plain": [
       "221    44\n",
       "212    44\n",
       "222    41\n",
       "196    37\n",
       "106    36\n",
       "Name: hwy, dtype: int64"
      ]
     },
     "execution_count": 76,
     "metadata": {},
     "output_type": "execute_result"
    }
   ],
   "source": [
    "car.hwy.sort_values(ascending=False)[:5]"
   ]
  },
  {
   "cell_type": "code",
   "execution_count": null,
   "metadata": {},
   "outputs": [],
   "source": [
    "## 5. mpg 데이터는 연비를 나타내는 변수가 2개입니다. \n",
    "## 두 변수를 각각 활용하는 대신 하나의 통합 연비 변수를 만들어 사용하려 합니다.\n",
    "## 평균 연비 변수는 두 연비(고속도로와 도시)의 평균을 이용합니다. \n",
    "## 회사별로 \"suv\" 자동차의 평균 연비를 구한후 내림차순으로 정렬한 후 \n",
    "## 1~5위까지 데이터를 출력하세요."
   ]
  },
  {
   "cell_type": "code",
   "execution_count": 89,
   "metadata": {},
   "outputs": [
    {
     "data": {
      "text/plain": [
       "161    23.5\n",
       "163    23.0\n",
       "162    22.0\n",
       "159    21.5\n",
       "160    21.0\n",
       "dtype: float64"
      ]
     },
     "execution_count": 89,
     "metadata": {},
     "output_type": "execute_result"
    }
   ],
   "source": [
    "car.avg[car.carclass=='suv'].sort_values(ascending=False)[:5]"
   ]
  },
  {
   "cell_type": "code",
   "execution_count": 90,
   "metadata": {},
   "outputs": [],
   "source": [
    "## 6. mpg 데이터의 class는 \"suv\", \"compact\" 등 자동차의 특징에 따라 일곱 종류로 분류한 변수입니다. \n",
    "## 어떤 차종의 도시 연비가 높은지 비교하려 합니다. \n",
    "## class별 cty 평균을 구하고 cty 평균이 높은 순으로 정렬해 출력하세요.\n"
   ]
  },
  {
   "cell_type": "code",
   "execution_count": 105,
   "metadata": {},
   "outputs": [
    {
     "name": "stdout",
     "output_type": "stream",
     "text": [
      "compact 20.127659574468087\n",
      "midsize 18.75609756097561\n",
      "suv 13.5\n",
      "2seater 15.4\n",
      "minivan 15.818181818181818\n",
      "pickup 13.0\n",
      "subcompact 20.37142857142857\n"
     ]
    }
   ],
   "source": [
    "for a in car.carclass.unique():\n",
    "    print(a,car.cty[car.carclass==a].mean())"
   ]
  },
  {
   "cell_type": "code",
   "execution_count": null,
   "metadata": {},
   "outputs": [],
   "source": []
  },
  {
   "cell_type": "code",
   "execution_count": null,
   "metadata": {},
   "outputs": [],
   "source": []
  },
  {
   "cell_type": "code",
   "execution_count": null,
   "metadata": {},
   "outputs": [],
   "source": [
    "## 7.어떤 회사 자동차의 hwy(고속도로 연비)가 가장 높은지 알아보려 합니다. \n",
    "## hwy(고속도로 연비) 평균이 가장 높은 회사 세 곳을 출력하세요.\n"
   ]
  },
  {
   "cell_type": "code",
   "execution_count": 106,
   "metadata": {},
   "outputs": [
    {
     "name": "stdout",
     "output_type": "stream",
     "text": [
      "audi 26.444444444444443\n",
      "chevrolet 21.894736842105264\n",
      "dodge 17.945945945945947\n",
      "ford 19.36\n",
      "honda 32.55555555555556\n",
      "hyundai 26.857142857142858\n",
      "jeep 17.625\n",
      "land rover 16.5\n",
      "lincoln 17.0\n",
      "mercury 18.0\n",
      "nissan 24.615384615384617\n",
      "pontiac 26.4\n",
      "subaru 25.571428571428573\n",
      "toyota 24.91176470588235\n",
      "volkswagen 29.22222222222222\n"
     ]
    }
   ],
   "source": [
    "for m in car.manufacturer.unique():\n",
    "    print(m,car.hwy[car.manufacturer==m].mean())"
   ]
  },
  {
   "cell_type": "code",
   "execution_count": null,
   "metadata": {},
   "outputs": [],
   "source": []
  },
  {
   "cell_type": "code",
   "execution_count": null,
   "metadata": {},
   "outputs": [],
   "source": []
  },
  {
   "cell_type": "code",
   "execution_count": 107,
   "metadata": {},
   "outputs": [],
   "source": [
    "## 8.어떤 회사에서 \"compact\" 차종을 가장 많이 생산하는지 알아보려고 합니다. \n",
    "## 각 회사별 \"compact\" 차종 수를 내림차순으로 정렬해 출력하세요.\n",
    "\n"
   ]
  },
  {
   "cell_type": "code",
   "execution_count": 10,
   "metadata": {},
   "outputs": [],
   "source": [
    "manu_cnt = {}\n",
    "for i in car.manufacturer[car.carclass=='compact'] :\n",
    "    manu_cnt[i] = manu_cnt.get(i, 0) +1"
   ]
  },
  {
   "cell_type": "code",
   "execution_count": 13,
   "metadata": {},
   "outputs": [
    {
     "data": {
      "text/plain": [
       "[('audi', 15),\n",
       " ('volkswagen', 14),\n",
       " ('toyota', 12),\n",
       " ('subaru', 4),\n",
       " ('nissan', 2)]"
      ]
     },
     "execution_count": 13,
     "metadata": {},
     "output_type": "execute_result"
    }
   ],
   "source": [
    "sorted(manu_cnt.items(),key=lambda x : x[1],reverse=True)"
   ]
  },
  {
   "cell_type": "code",
   "execution_count": null,
   "metadata": {},
   "outputs": [],
   "source": []
  }
 ],
 "metadata": {
  "kernelspec": {
   "display_name": "ku",
   "language": "python",
   "name": "ku"
  },
  "language_info": {
   "codemirror_mode": {
    "name": "ipython",
    "version": 3
   },
   "file_extension": ".py",
   "mimetype": "text/x-python",
   "name": "python",
   "nbconvert_exporter": "python",
   "pygments_lexer": "ipython3",
   "version": "3.7.2"
  }
 },
 "nbformat": 4,
 "nbformat_minor": 4
}
