{
 "cells": [
  {
   "cell_type": "markdown",
   "metadata": {},
   "source": [
    "# 1. (02/26)오존 파일(Ozone.csv)을 이용하여 linear regression 구현\n",
    "   \n",
    "   tensorflow, python, sklearn으로 구현하고 결과를 비교해보아요!\n"
   ]
  },
  {
   "cell_type": "code",
   "execution_count": null,
   "metadata": {},
   "outputs": [],
   "source": []
  },
  {
   "cell_type": "code",
   "execution_count": 2,
   "metadata": {},
   "outputs": [
    {
     "data": {
      "text/html": [
       "<div>\n",
       "<style scoped>\n",
       "    .dataframe tbody tr th:only-of-type {\n",
       "        vertical-align: middle;\n",
       "    }\n",
       "\n",
       "    .dataframe tbody tr th {\n",
       "        vertical-align: top;\n",
       "    }\n",
       "\n",
       "    .dataframe thead th {\n",
       "        text-align: right;\n",
       "    }\n",
       "</style>\n",
       "<table border=\"1\" class=\"dataframe\">\n",
       "  <thead>\n",
       "    <tr style=\"text-align: right;\">\n",
       "      <th></th>\n",
       "      <th>Temp</th>\n",
       "      <th>Ozone</th>\n",
       "    </tr>\n",
       "  </thead>\n",
       "  <tbody>\n",
       "    <tr>\n",
       "      <th>0</th>\n",
       "      <td>0.181818</td>\n",
       "      <td>0.397849</td>\n",
       "    </tr>\n",
       "    <tr>\n",
       "      <th>1</th>\n",
       "      <td>0.333333</td>\n",
       "      <td>0.344086</td>\n",
       "    </tr>\n",
       "    <tr>\n",
       "      <th>2</th>\n",
       "      <td>0.393939</td>\n",
       "      <td>0.086022</td>\n",
       "    </tr>\n",
       "    <tr>\n",
       "      <th>3</th>\n",
       "      <td>0.030303</td>\n",
       "      <td>0.150538</td>\n",
       "    </tr>\n",
       "    <tr>\n",
       "      <th>5</th>\n",
       "      <td>0.151515</td>\n",
       "      <td>0.258065</td>\n",
       "    </tr>\n",
       "    <tr>\n",
       "      <th>...</th>\n",
       "      <td>...</td>\n",
       "      <td>...</td>\n",
       "    </tr>\n",
       "    <tr>\n",
       "      <th>147</th>\n",
       "      <td>0.060606</td>\n",
       "      <td>0.107527</td>\n",
       "    </tr>\n",
       "    <tr>\n",
       "      <th>148</th>\n",
       "      <td>0.272727</td>\n",
       "      <td>0.279570</td>\n",
       "    </tr>\n",
       "    <tr>\n",
       "      <th>150</th>\n",
       "      <td>0.424242</td>\n",
       "      <td>0.107527</td>\n",
       "    </tr>\n",
       "    <tr>\n",
       "      <th>151</th>\n",
       "      <td>0.454545</td>\n",
       "      <td>0.150538</td>\n",
       "    </tr>\n",
       "    <tr>\n",
       "      <th>152</th>\n",
       "      <td>0.212121</td>\n",
       "      <td>0.172043</td>\n",
       "    </tr>\n",
       "  </tbody>\n",
       "</table>\n",
       "<p>103 rows × 2 columns</p>\n",
       "</div>"
      ],
      "text/plain": [
       "         Temp     Ozone\n",
       "0    0.181818  0.397849\n",
       "1    0.333333  0.344086\n",
       "2    0.393939  0.086022\n",
       "3    0.030303  0.150538\n",
       "5    0.151515  0.258065\n",
       "..        ...       ...\n",
       "147  0.060606  0.107527\n",
       "148  0.272727  0.279570\n",
       "150  0.424242  0.107527\n",
       "151  0.454545  0.150538\n",
       "152  0.212121  0.172043\n",
       "\n",
       "[103 rows x 2 columns]"
      ]
     },
     "metadata": {},
     "output_type": "display_data"
    },
    {
     "name": "stdout",
     "output_type": "stream",
     "text": [
      "W : [[-0.32935467]], b : [0.39850682], loss : 0.12963347136974335\n",
      "W : [[0.02092684]], b : [0.3654466], loss : 0.07070373743772507\n",
      "W : [[0.22985701]], b : [0.25381243], loss : 0.05184421315789223\n",
      "W : [[0.38235408]], b : [0.17227647], loss : 0.041793789714574814\n",
      "W : [[0.49367732]], b : [0.11275514], loss : 0.03643781319260597\n",
      "W : [[0.5749389]], b : [0.06930818], loss : 0.03358369693160057\n",
      "W : [[0.634245]], b : [0.03759506], loss : 0.03206293284893036\n",
      "W : [[0.6775505]], b : [0.01444911], loss : 0.03125225752592087\n",
      "W : [[0.70911753]], b : [-0.00244433], loss : 0.030820608139038086\n",
      "W : [[0.732163]], b : [-0.01476877], loss : 0.03059043549001217\n"
     ]
    }
   ],
   "source": [
    "# 온도에 따른 Ozone량 예측\n",
    "\n",
    "import numpy as np\n",
    "import pandas as pd\n",
    "import matplotlib.pyplot as plt\n",
    "from scipy import stats     # 이상치 처리를 위해서 필요\n",
    "import tensorflow as tf     # tensorflow 구현\n",
    "from sklearn import linear_model  # sklearn으로 simple linear regression 구현\n",
    "from sklearn.preprocessing import MinMaxScaler # normalization 전처리\n",
    "\n",
    "\n",
    "# Raw Data Loading\n",
    "df = pd.read_csv('data/ozone.csv')\n",
    "training_data = df[['Temp','Ozone']]   # 153 rows × 2 columns\n",
    "\n",
    "# 결측치부터 처리해 보아요!\n",
    "# 결측치를 찾아서 제거할꺼예요!\n",
    "training_data = training_data.dropna(how='any')\n",
    "# display(training_data)    # 116 rows × 2 columns\n",
    "\n",
    "# 이상치 처리(outlier)\n",
    "# z-score를 이용해서 outlier를 처리\n",
    "zscore_threshold = 1.8\n",
    "\n",
    "# Temp에 대한 outlier(지대점)\n",
    "tmp = ~(np.abs(stats.zscore(training_data['Temp'])) > zscore_threshold)\n",
    "training_data = training_data.loc[tmp]\n",
    "# display(training_data)   # 110 rows × 2 columns\n",
    "\n",
    "# Ozone에 대한 outlier\n",
    "tmp = ~(np.abs(stats.zscore(training_data['Ozone'])) > zscore_threshold)\n",
    "training_data = training_data.loc[tmp]\n",
    "# display(training_data)   # 103 rows × 2 columns\n",
    "\n",
    "###########################\n",
    "# 정규화 처리를 진행(Min-Max Scaler)\n",
    "# 직접구현해도 되지만 sklearn을 이용해서 처리해 보아요!\n",
    "\n",
    "# Min-Max Scaler라고 불리는 객체를 생성\n",
    "# 이 객체를 두개 만들꺼예요! 독립변수와 종속변수에 대해서 각각 만들어줘요!\n",
    "scaler_x = MinMaxScaler()  # 객체 생성\n",
    "scaler_t = MinMaxScaler()  # 객체 생성\n",
    "scaler_x.fit(training_data['Temp'].values.reshape(-1,1))\n",
    "scaler_t.fit(training_data['Ozone'].values.reshape(-1,1))\n",
    "# print(scaler_x.n_samples_seen_, scaler_x.data_max_, \n",
    "#       scaler_x.data_min_, scaler_x.feature_range)\n",
    "training_data['Temp'] = scaler_x.transform(training_data['Temp'].values.reshape(-1,1))\n",
    "training_data['Ozone'] = scaler_t.transform(training_data['Ozone'].values.reshape(-1,1))\n",
    "\n",
    "display(training_data)\n",
    "\n",
    "\n",
    "# Training Data Set\n",
    "x_data = training_data['Temp'].values.reshape(-1,1)\n",
    "t_data = training_data['Ozone'].values.reshape(-1,1)\n",
    "\n",
    "# placeholder\n",
    "X = tf.placeholder(shape=[None,1], dtype=tf.float32)\n",
    "T = tf.placeholder(shape=[None,1], dtype=tf.float32)\n",
    "\n",
    "# Weight & bias\n",
    "W = tf.Variable(tf.random.normal([1,1]), name='weight')\n",
    "b = tf.Variable(tf.random.normal([1]), name='bias')\n",
    "\n",
    "# Hypothesis\n",
    "H = tf.matmul(X,W) + b\n",
    "\n",
    "# loss function\n",
    "loss = tf.reduce_mean(tf.square(H-T))\n",
    "\n",
    "# train\n",
    "train = tf.train.GradientDescentOptimizer(learning_rate=1e-4).minimize(loss)\n",
    "\n",
    "# session, 초기화\n",
    "sess = tf.Session()\n",
    "sess.run(tf.global_variables_initializer())\n",
    "\n",
    "for step in range(300000):\n",
    "    _, W_val, b_val, loss_val = sess.run([train, W, b, loss], \n",
    "                                         feed_dict={X: x_data, T: t_data})\n",
    "    \n",
    "    if step % 30000 == 0:\n",
    "        print('W : {}, b : {}, loss : {}'.format(W_val,b_val,loss_val))\n",
    "\n",
    "        "
   ]
  },
  {
   "cell_type": "code",
   "execution_count": null,
   "metadata": {},
   "outputs": [],
   "source": []
  },
  {
   "cell_type": "code",
   "execution_count": null,
   "metadata": {},
   "outputs": [],
   "source": []
  },
  {
   "cell_type": "code",
   "execution_count": null,
   "metadata": {},
   "outputs": [],
   "source": []
  },
  {
   "cell_type": "code",
   "execution_count": null,
   "metadata": {},
   "outputs": [],
   "source": []
  },
  {
   "cell_type": "code",
   "execution_count": null,
   "metadata": {},
   "outputs": [],
   "source": []
  },
  {
   "cell_type": "code",
   "execution_count": null,
   "metadata": {},
   "outputs": [],
   "source": []
  },
  {
   "cell_type": "markdown",
   "metadata": {},
   "source": [
    "# (03/04) Kaggle Titanic Logistic Regression 구현\n",
    "\n",
    "=> 데이터 전처리\n",
    "\n",
    "=> 모델 구현\n",
    "\n",
    "=> 결과 파일 생성 후 Kaggle에 upload\n",
    "\n",
    "=> 모델 accuracy 확인"
   ]
  },
  {
   "cell_type": "code",
   "execution_count": null,
   "metadata": {},
   "outputs": [],
   "source": []
  },
  {
   "cell_type": "code",
   "execution_count": null,
   "metadata": {},
   "outputs": [],
   "source": []
  },
  {
   "cell_type": "code",
   "execution_count": null,
   "metadata": {},
   "outputs": [],
   "source": []
  },
  {
   "cell_type": "code",
   "execution_count": null,
   "metadata": {},
   "outputs": [],
   "source": []
  },
  {
   "cell_type": "code",
   "execution_count": null,
   "metadata": {},
   "outputs": [],
   "source": []
  },
  {
   "cell_type": "code",
   "execution_count": null,
   "metadata": {},
   "outputs": [],
   "source": []
  },
  {
   "cell_type": "code",
   "execution_count": null,
   "metadata": {},
   "outputs": [],
   "source": []
  },
  {
   "cell_type": "code",
   "execution_count": null,
   "metadata": {},
   "outputs": [],
   "source": []
  },
  {
   "cell_type": "markdown",
   "metadata": {},
   "source": [
    "# 3. (03/08) BMI 데이터를 이용해서 모델 구현과 평가를 진행\n",
    "\n",
    "=> 데이터 전처리 \n",
    "\n",
    "=> 모델 구현\n",
    "\n",
    "=> K-Fold Cross Validation을 이용해서 모델 검증\n",
    "\n",
    "=> 우리모델의 최종 정확도를 출력!\n"
   ]
  },
  {
   "cell_type": "code",
   "execution_count": null,
   "metadata": {},
   "outputs": [],
   "source": []
  },
  {
   "cell_type": "code",
   "execution_count": null,
   "metadata": {},
   "outputs": [],
   "source": []
  },
  {
   "cell_type": "code",
   "execution_count": null,
   "metadata": {},
   "outputs": [],
   "source": []
  },
  {
   "cell_type": "code",
   "execution_count": null,
   "metadata": {},
   "outputs": [],
   "source": []
  },
  {
   "cell_type": "code",
   "execution_count": null,
   "metadata": {},
   "outputs": [],
   "source": []
  },
  {
   "cell_type": "code",
   "execution_count": null,
   "metadata": {},
   "outputs": [],
   "source": []
  },
  {
   "cell_type": "markdown",
   "metadata": {},
   "source": [
    "# (03/09) MNIST 데이터를 이용하여 모델 구현과 평가 진행\n",
    "\n",
    "    + 직접 손글씨로 쓴 예측용 데이터 생성 후 Prediction\n",
    "    \n",
    "    - 데이터는 Kaggle\n",
    "    - Multiclass Classification\n",
    "    - K-Fold Cross Validation\n",
    "    - 우리 모델의 최종 정확도\n",
    "    - 제출 파일 생성\n",
    "    - 직접 쓴 손글씨씨로 예측용 데이터 생성"
   ]
  }
 ],
 "metadata": {
  "kernelspec": {
   "display_name": "Python [conda env:data_env] *",
   "language": "python",
   "name": "conda-env-data_env-py"
  },
  "language_info": {
   "codemirror_mode": {
    "name": "ipython",
    "version": 3
   },
   "file_extension": ".py",
   "mimetype": "text/x-python",
   "name": "python",
   "nbconvert_exporter": "python",
   "pygments_lexer": "ipython3",
   "version": "3.7.9"
  }
 },
 "nbformat": 4,
 "nbformat_minor": 4
}
