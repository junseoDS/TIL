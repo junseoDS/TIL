{
 "cells": [
  {
   "cell_type": "code",
   "execution_count": 2,
   "metadata": {},
   "outputs": [],
   "source": [
    "# 이 상자를 Cell이라고 부른다\n",
    "# Cell 안에 코드 작성 가능\n",
    "# 아래쪽에 새로운 cell을 만들고 싶으면 b키를 이용\n",
    "# 위에 새로운 cell을 만들고 싶으면 a키를 이용\n",
    "# cell을 삭제하려면 cell 선택 후 d d 키를 이용\n",
    "# cell안의 코드를 실행하려면 ctrl + enter 키 사용"
   ]
  },
  {
   "cell_type": "code",
   "execution_count": 5,
   "metadata": {},
   "outputs": [],
   "source": [
    "# 가상환경 리스트 확인\n",
    "# conda info --envs\n",
    "# 가상환경 삭제(사용된 폴더는 자동으로 지워지지 않음)\n",
    "# conda remove --name data_env --all"
   ]
  },
  {
   "cell_type": "code",
   "execution_count": 6,
   "metadata": {},
   "outputs": [],
   "source": [
    "# 파이썬의 특징\n",
    "# 1. 상대적으로 쉬운언어\n",
    "# 2. 강력한 데이터분석 library, AI관련 많음\n",
    "# 3. open source\n",
    "# 4. 데이터분석을 위한 범용적인 언어\n",
    "#    R은 통계를 위한 프로그래밍 언어.\n",
    "# 5. 가장 인기있는 언어 중 하나\n",
    "# 6. 하휘 호환성은 문제"
   ]
  },
  {
   "cell_type": "code",
   "execution_count": 8,
   "metadata": {},
   "outputs": [
    {
     "name": "stdout",
     "output_type": "stream",
     "text": [
      "['False', 'None', 'True', 'and', 'as', 'assert', 'async', 'await', 'break', 'class', 'continue', 'def', 'del', 'elif', 'else', 'except', 'finally', 'for', 'from', 'global', 'if', 'import', 'in', 'is', 'lambda', 'nonlocal', 'not', 'or', 'pass', 'raise', 'return', 'try', 'while', 'with', 'yield']\n"
     ]
    }
   ],
   "source": [
    "# Python 기본\n",
    "# 주석\n",
    "# Python의 주석\n",
    "# 1줄 주석 : #\n",
    "# 여러줄 주석은 : ''' '''\n",
    "# -키워드 살펴보아요!\n",
    "import keyword\n",
    "print(keyword.kwlist)"
   ]
  },
  {
   "cell_type": "code",
   "execution_count": 10,
   "metadata": {},
   "outputs": [
    {
     "name": "stdout",
     "output_type": "stream",
     "text": [
      "생성된 변수의 값은 :  100\n"
     ]
    }
   ],
   "source": [
    "# 변수의 생성과 삭제\n",
    "haha=100\n",
    "print(\"생성된 변수의 값은 : \", haha)"
   ]
  },
  {
   "cell_type": "code",
   "execution_count": 11,
   "metadata": {},
   "outputs": [],
   "source": [
    "del haha"
   ]
  },
  {
   "cell_type": "code",
   "execution_count": 12,
   "metadata": {},
   "outputs": [],
   "source": [
    "# Python의 Data Type(Built-in Data type)\n",
    "# 여러가지 data type이 존재\n",
    "# 1. numeric\n",
    "# 2. sequence\n",
    "# 3. text sequence(문자열)\n",
    "# 4. mapping\n",
    "# 5. set\n",
    "# 6. bool"
   ]
  },
  {
   "cell_type": "code",
   "execution_count": 14,
   "metadata": {},
   "outputs": [
    {
     "name": "stdout",
     "output_type": "stream",
     "text": [
      "123\n",
      "<class 'float'>\n"
     ]
    }
   ],
   "source": [
    "# 1. Numeric(숫자형)\n",
    "# 정수(int), 실수(float), 복소수(complex)\n",
    "\n",
    "a=123       #정수\n",
    "b=3.141592  #실수\n",
    "c=1+2j      #복소수\n",
    "d=0o34      #8진수\n",
    "e=0xAB      #16진수\n",
    "\n",
    "print(a)\n",
    "print(type(b))"
   ]
  },
  {
   "cell_type": "code",
   "execution_count": 18,
   "metadata": {},
   "outputs": [
    {
     "name": "stdout",
     "output_type": "stream",
     "text": [
      "6.140000000000001\n",
      "0.75\n",
      "81\n",
      "1\n",
      "33\n"
     ]
    }
   ],
   "source": [
    "# 연산할 때 한가지 주의할 점\n",
    "# 1. 연산은 무조건 같은 데이터 타입끼리\n",
    "a= 3+3.14\n",
    "print(a)\n",
    "aa = 3/4\n",
    "print(aa)\n",
    "#지수표현 \n",
    "aaa= 3**4\n",
    "print(aaa)\n",
    "#나머지 연산\n",
    "a4 = 100%3\n",
    "print(a4)\n",
    "# 나눗셈의 몫\n",
    "a5 = 100//3\n",
    "print(a5)"
   ]
  },
  {
   "cell_type": "code",
   "execution_count": 19,
   "metadata": {},
   "outputs": [],
   "source": [
    "# 2. Sequence 데이터 타입\n",
    "# sequence data type - list\n",
    "# 임의의 데이터 순서대로 저장하는 집합 자료형\n",
    "# Java의 ArrayList와 비슷\n",
    "# 표현은 대괄호를 이용하여 표시\n",
    "a = list()\n",
    "a =[]\n",
    "a = [1,2,3,4.6,True]\n",
    "a=[1,2,[4,5],6]"
   ]
  },
  {
   "cell_type": "code",
   "execution_count": 20,
   "metadata": {},
   "outputs": [],
   "source": [
    "a = [1,2,['show','me','the','money'],3.14,True]"
   ]
  },
  {
   "cell_type": "code",
   "execution_count": 21,
   "metadata": {},
   "outputs": [
    {
     "name": "stdout",
     "output_type": "stream",
     "text": [
      "[1, 2, ['show', 'me', 'the', 'money'], 3.14, True]\n",
      "2\n",
      "True\n",
      "me\n",
      "[2, ['show', 'me', 'the', 'money'], 3.14]\n"
     ]
    }
   ],
   "source": [
    "print(a)\n",
    "print(a[1])\n",
    "print(a[-1])\n",
    "print(a[2][1])\n",
    "a[0]=100\n",
    "print(a[1:4]) # slicing => 부분잡합을 얻는 것이기 때문에 원본의 데이터 타입을\n",
    "              # 그대로 계승\n",
    "              # 앞의 숫자는 inclusive, 뒤의 숫자는 exclusive "
   ]
  },
  {
   "cell_type": "code",
   "execution_count": 23,
   "metadata": {},
   "outputs": [
    {
     "name": "stdout",
     "output_type": "stream",
     "text": [
      "[1, 2, 3, 4, 5, 6]\n",
      "[1, 2, 3, 1, 2, 3, 1, 2, 3]\n"
     ]
    }
   ],
   "source": [
    "a = [1,2,3]\n",
    "b = [4,5,6]\n",
    "print(a+b)\n",
    "print(a*3)\n",
    "a=[1,2,3]\n",
    "a[0] =5\n",
    "a[0]=[7,8,9]\n",
    "a.append(4)\n",
    "del a[0]"
   ]
  },
  {
   "cell_type": "code",
   "execution_count": null,
   "metadata": {},
   "outputs": [],
   "source": [
    "# python의 리스트는 집합자료구조이면서 다양한 기능을 가지고 있음\n",
    "# 많은 함수를 이용해서 이런 기능들 제공\n",
    "a = [7,3,1,8,2]\n",
    "# 정렬\n",
    "# 파이썬은 정렬을 아주 쉽게 처리할 수 있다\n",
    "a.sort()\n",
    "a.reverse() \n"
   ]
  },
  {
   "cell_type": "code",
   "execution_count": 24,
   "metadata": {},
   "outputs": [],
   "source": [
    "'''\n",
    "2. Sequence 데이터 타입\n",
    "tuple에 대해서 알아보자\n",
    "리스트와 상당히 유사 \n",
    "차이점은 read only\n",
    "() 이용해서 표현\n",
    "'''\n",
    "t = tuple()\n",
    "t = ()\n",
    "\n",
    "t=(1,2,3)\n",
    "\n",
    "t=[1]\n",
    "t=(1,)"
   ]
  },
  {
   "cell_type": "code",
   "execution_count": null,
   "metadata": {},
   "outputs": [],
   "source": []
  },
  {
   "cell_type": "code",
   "execution_count": null,
   "metadata": {},
   "outputs": [],
   "source": []
  },
  {
   "cell_type": "code",
   "execution_count": null,
   "metadata": {},
   "outputs": [],
   "source": []
  },
  {
   "cell_type": "code",
   "execution_count": null,
   "metadata": {},
   "outputs": [],
   "source": []
  },
  {
   "cell_type": "code",
   "execution_count": null,
   "metadata": {},
   "outputs": [],
   "source": []
  },
  {
   "cell_type": "code",
   "execution_count": null,
   "metadata": {},
   "outputs": [],
   "source": []
  },
  {
   "cell_type": "code",
   "execution_count": null,
   "metadata": {},
   "outputs": [],
   "source": []
  }
 ],
 "metadata": {
  "kernelspec": {
   "display_name": "Python [conda env:data_env] *",
   "language": "python",
   "name": "conda-env-data_env-py"
  },
  "language_info": {
   "codemirror_mode": {
    "name": "ipython",
    "version": 3
   },
   "file_extension": ".py",
   "mimetype": "text/x-python",
   "name": "python",
   "nbconvert_exporter": "python",
   "pygments_lexer": "ipython3",
   "version": "3.7.9"
  }
 },
 "nbformat": 4,
 "nbformat_minor": 4
}
