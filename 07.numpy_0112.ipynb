{
 "cells": [
  {
   "cell_type": "markdown",
   "metadata": {},
   "source": [
    "## Numpy (Numerical Python)\n",
    " - Numpy => Vector와 Matrix연산에 강점.\n",
    " - ndarray => n-차원의 배열\n",
    " - list와 거의 유사. ndarray의 각 요소는 모두 같은 데이터타입이어야 해요!\n",
    " - ndarray를 생성하려면 어떻게 해야 하나요??\n",
    " - => numpy.array([1,2,3,4])\n",
    " - => numpy.arange()\n",
    " - => random기반의 생성함수 : zeros, ones, empty, full\n",
    " - => shape, reshape() => view!!"
   ]
  },
  {
   "cell_type": "code",
   "execution_count": 3,
   "metadata": {},
   "outputs": [
    {
     "name": "stdout",
     "output_type": "stream",
     "text": [
      "[0 1 2 3 4]\n",
      "[0 1]\n",
      "[0 1 2 3]\n",
      "[1 3]\n"
     ]
    }
   ],
   "source": [
    "# indexing, slicing\n",
    "# 기본 indexing, boolean indexing, fancy indexing\n",
    "\n",
    "import numpy as np\n",
    "\n",
    "arr = np.arange(10,20,1)\n",
    "\n",
    "# enumerate는 반복문 사용시 index값을 추출하기 위해서 사용!\n",
    "# for idx,temp in enumerate(arr):\n",
    "#     print('인덱스 : {}, 값은 : {}'.format(idx,temp))\n",
    "    \n",
    "# ndarray의 slicing도 python의 list와 동일한 형태로 사용 가능.\n",
    "\n",
    "arr = np.arange(0,5,1)\n",
    "print(arr)\n",
    "print(arr[0:2])\n",
    "print(arr[0:-1])  # 맨 마지막 요소만 제외하고 슬라이싱\n",
    "print(arr[1:4:2]) "
   ]
  },
  {
   "cell_type": "code",
   "execution_count": 2,
   "metadata": {},
   "outputs": [
    {
     "name": "stdout",
     "output_type": "stream",
     "text": [
      "[[ 1  2  3  4]\n",
      " [ 5  6  7  8]\n",
      " [ 9 10 11 12]\n",
      " [13 14 15 16]]\n",
      "6\n",
      "[5 6 7 8]\n",
      "[[ 5  6  7  8]\n",
      " [ 9 10 11 12]]\n",
      "[1 2 3 4]\n"
     ]
    }
   ],
   "source": [
    "# 2차원 형태의 ndarray를 slicing\n",
    "arr = np.array([[1,2,3,4],\n",
    "                [5,6,7,8],\n",
    "                [9,10,11,12],\n",
    "                [13,14,15,16]])\n",
    "print(arr)\n",
    "print(arr[1,1])  # 6, 일반적인 2차원의 indexing\n",
    "print(arr[1,:])  # [5,6,7,8]\n",
    "print(arr[1:3,:]) # [[ 5  6  7  8]\n",
    "                  #  [ 9 10 11 12]]\n",
    "print(arr[0])     # [1 2 3 4] "
   ]
  },
  {
   "cell_type": "code",
   "execution_count": 4,
   "metadata": {},
   "outputs": [
    {
     "name": "stdout",
     "output_type": "stream",
     "text": [
      "[ 6 12 13  9 10 12  6 16  1 17]\n",
      "[ True  True False False  True  True  True  True False False]\n",
      "[ 6 12 10 12  6 16]\n"
     ]
    }
   ],
   "source": [
    "# boolean indexing\n",
    "\n",
    "np.random.seed(1)\n",
    "arr = np.random.randint(1,20,(10,))\n",
    "print(arr)\n",
    "\n",
    "# boolean mask\n",
    "# [ 6 12 13  9 10 12  6 16  1 17]\n",
    "# [ True, True, False, False, ... , False] : boolean mask\n",
    "# 결국 우리가 구한 boolean mask => arr % 2 == 0\n",
    "print(arr % 2 == 0)\n",
    "print(arr[arr % 2 == 0])  # boolean indexing"
   ]
  },
  {
   "cell_type": "code",
   "execution_count": 7,
   "metadata": {},
   "outputs": [
    {
     "name": "stdout",
     "output_type": "stream",
     "text": [
      "6 12 10 12 6 16 "
     ]
    }
   ],
   "source": [
    "# 그러면 출력에 필요한 인덱스값은 전부 Boolean타입 일때만 작동하나요?\n",
    "\n",
    "\n",
    "for temp in arr:\n",
    "     if temp % 2 == 0 :\n",
    "         print(temp, end =' ')\n",
    "        \n",
    "# boolean mask라는게 있어요!\n",
    "# 원본 ndarray와 shape이 같고 그 요소값이 모두 boolean(True,False)\n",
    "# 구성된 ndarray\n",
    "# 이 boolean mask를 이용해서 indexing하는 방식을 boolean indexing\n"
   ]
  },
  {
   "cell_type": "code",
   "execution_count": 9,
   "metadata": {},
   "outputs": [
    {
     "name": "stdout",
     "output_type": "stream",
     "text": [
      "[1 2 3 4 5]\n",
      "[2 4 5]\n"
     ]
    }
   ],
   "source": [
    "#Fancy Indexing\n",
    "#ndarray에 index배열(list형식)을 전달하여 배열요소를 참조하는 방식\n",
    "arr = np.array([1,2,3,4,5])\n",
    "print(arr)\n",
    "print(arr[[1,3,4]])\n"
   ]
  },
  {
   "cell_type": "code",
   "execution_count": 10,
   "metadata": {},
   "outputs": [
    {
     "name": "stdout",
     "output_type": "stream",
     "text": [
      "[[ 0  1  2  3]\n",
      " [ 4  5  6  7]\n",
      " [ 8  9 10 11]]\n",
      "10\n",
      "[6]\n",
      "[[5]]\n",
      "[ 2 10]\n",
      "[[ 2]\n",
      " [10]]\n",
      "[[ 0  2]\n",
      " [ 8 10]]\n"
     ]
    }
   ],
   "source": [
    "# Fancy indexing에 대해서 조금 만 더 알아보아요!!\n",
    "import numpy as np\n",
    "\n",
    "arr = np.arange(0,12,1).reshape(3,4).copy()  \n",
    "print(arr)\n",
    "\n",
    "print(arr[2,2])  # 10, indexing\n",
    "print(arr[1:2,2]) # [6]\n",
    "print(arr[1:2,1:2]) # [[5]]\n",
    "\n",
    "print(arr[[0,2],2]) # [2 10]\n",
    "print(arr[[0,2],2:3]) # [[2] \n",
    "#                        [10]]\n",
    "\n",
    "# [[0 2]\n",
    "#  [8 10]]\n",
    "# np.ix_([0,2],[0,2])\n",
    "print(arr[np.ix_([0,2],[0,2])])\n",
    "# 이런경우를 위해 numpy가 함수를 하나 제공."
   ]
  },
  {
   "cell_type": "code",
   "execution_count": 12,
   "metadata": {},
   "outputs": [
    {
     "name": "stdout",
     "output_type": "stream",
     "text": [
      "[[11 13 15]\n",
      " [17 19 21]]\n",
      "[[ 76  82]\n",
      " [184 199]]\n"
     ]
    }
   ],
   "source": [
    "# ndarray에 대한 연산.\n",
    "import numpy as np\n",
    "\n",
    "arr1 = np.array([[1,2,3],\n",
    "                 [4,5,6]])  # 2 x 3 ndarray\n",
    "arr2 = np.arange(10,16,1).reshape(2,3).copy() # 2 x 3 ndarray\n",
    "arr3 = np.arange(10,16,1).reshape(3,2).copy() # 3 x 2 ndarray\n",
    "\n",
    "# ndarray 연산의 기본은 같은 위치에 있는 원소끼리 연산을 수행\n",
    "# shape이 다르면 연산이 수행되지 않아요!\n",
    "print(arr1 + arr2)  # 4칙연산 모두 같아요!\n",
    "# 행렬쪽에서 우리가 많이 사용하고 조심해야 하는 연산\n",
    "# 행렬곱연산.\n",
    "# 행렬곱 연산이 일어나려면 두 개의 행렬이 어떠한 형태를 가져야 하나요?\n",
    "# 앞쪽 행렬의 열과 뒤쪽 행렬의 행의 수가 일치!!!!!!\n",
    "print(np.matmul(arr1,arr3))"
   ]
  },
  {
   "cell_type": "code",
   "execution_count": 13,
   "metadata": {},
   "outputs": [
    {
     "name": "stdout",
     "output_type": "stream",
     "text": [
      "[[1 2 3]\n",
      " [4 5 6]]\n",
      "[7 8]\n",
      "[[11 12 13]\n",
      " [14 15 16]]\n"
     ]
    }
   ],
   "source": [
    "# 그러면 정말로 같은 shape을 가지는 ndarray끼리만 4칙연산이\n",
    "# 가능한가요??\n",
    "# 다른 shape을 가지는 ndarray를 이용해서 4칙연산이 가능하도록\n",
    "# broadcasting을 지원\n",
    "import numpy as np\n",
    "\n",
    "arr1 = np.array([[1,2,3],\n",
    "                 [4,5,6]])  # (2,3) ndarray\n",
    "arr2 = np.array([7,8])    # (3,) ndarray\n",
    "print(arr1)\n",
    "print(arr2)\n",
    "\n",
    "print(arr1 + 10)  # "
   ]
  },
  {
   "cell_type": "markdown",
   "metadata": {},
   "source": [
    "### numpy ndarray는 차원의 개념이 있어요!\n",
    "- 0차원 => 하나의 숫자 => scalar (ex. 5)\n",
    "- 1차원 => 열로 구성 => vector (ex. [1 3 5 7 9])\n",
    "- 2차원 => 행과 열로 구성 => matrix (ex. [[1 2 3] \n",
    "                                        [4 5 6]])\n",
    "- 3차원 이상 => array라는 표현을 써요!\n",
    "\n",
    "### 전치행렬 & iterator\n",
    "#### 전치행렬\n",
    "- 원본행렬의 행은 열로, 열은 행으로 바꾼 matrix를 의미\n",
    "- 이렇게 만든 전치행렬(transpose)은 View예요!\n",
    "- 수학적으로 전치행렬을 표현할때는 위첨자로 T를 이용해요!"
   ]
  },
  {
   "cell_type": "code",
   "execution_count": 14,
   "metadata": {},
   "outputs": [
    {
     "name": "stdout",
     "output_type": "stream",
     "text": [
      "[[1 2 3]\n",
      " [4 5 6]]\n",
      "[[1 4]\n",
      " [2 5]\n",
      " [3 6]]\n"
     ]
    }
   ],
   "source": [
    "import numpy as np\n",
    "\n",
    "arr = np.array([[1,2,3],\n",
    "                [4,5,6]])\n",
    "print(arr)\n",
    "print(arr.T)  # 전치행렬을 구할때 T 속성을 이용\n",
    "\n",
    "# 1차원 vector에 대해서 전치행렬을 구하면 어떻게 되나요?\n",
    "# 1차원 vector에 대해서는 전치행렬을 구할 수 없어요!"
   ]
  },
  {
   "cell_type": "markdown",
   "metadata": {},
   "source": [
    "#### iterator(반복자)\n",
    "- 반복문은 일반적으로 for문과 while을 사용하는데\n",
    "- 반복하는 횟수를 알고있을때는 for\n",
    "- 조건에 따라서 반복할때는 while\n",
    "\n",
    "- numpy ndarray를 반복처리할 때는 일반적으로 for"
   ]
  },
  {
   "cell_type": "code",
   "execution_count": 15,
   "metadata": {},
   "outputs": [
    {
     "name": "stdout",
     "output_type": "stream",
     "text": [
      "1 2 3 4 5 1 2 3 4 5 "
     ]
    }
   ],
   "source": [
    "import numpy as np\n",
    "\n",
    "# 1차원 numpy array(ndarray)에 대한 요소를 출력!\n",
    "arr = np.array([1,2,3,4,5])\n",
    "\n",
    "# for문을 이용한 반복처리\n",
    "for tmp in arr:\n",
    "    print(tmp, end=' ')  # 한줄 띄는대신에 ' '(공백을 이용)\n",
    "\n",
    "# print()    \n",
    "# # while문과 iterator를 이용해서 반복처리\n",
    "arr = np.array([1,2,3,4,5])\n",
    "it = np.nditer(arr, flags=['c_index'])\n",
    "while not it.finished:\n",
    "    idx = it.index   # 0\n",
    "    print(arr[idx], end =' ')\n",
    "    it.iternext()    # 화살표 옮기는 작업\n",
    "    \n",
    "# 2차원 matrix에 대해서 각 요소를 출력하고 싶어요!"
   ]
  },
  {
   "cell_type": "code",
   "execution_count": 16,
   "metadata": {},
   "outputs": [
    {
     "name": "stdout",
     "output_type": "stream",
     "text": [
      "[[1 2 3]\n",
      " [4 5 6]\n",
      " [7 8 9]]\n"
     ]
    }
   ],
   "source": [
    "arr = np.array([[1,2,3], \n",
    "                [4,5,6],\n",
    "                [7,8,9]])\n",
    "print(arr)\n"
   ]
  },
  {
   "cell_type": "code",
   "execution_count": 17,
   "metadata": {},
   "outputs": [
    {
     "name": "stdout",
     "output_type": "stream",
     "text": [
      "1 2 3 4 5 6 7 8 9 "
     ]
    }
   ],
   "source": [
    "\n",
    "# for tmp1 in range(arr.shape[0]):   # arr.shape=> (2,3)\n",
    "#     for tmp2 in range(arr.shape[1]):\n",
    "#         print(arr[tmp1,tmp2], end=' ')\n",
    "        \n",
    "# iterator를 가지고 반복처리를 해 보아요!\n",
    "it = np.nditer(arr, flags=['multi_index'])\n",
    "\n",
    "while not it.finished:   \n",
    "    idx = it.multi_index  # (0,0)\n",
    "    print(arr[idx], end =' ')\n",
    "    it.iternext()    # 화살표 옮기는 작업\n"
   ]
  },
  {
   "cell_type": "code",
   "execution_count": 18,
   "metadata": {},
   "outputs": [
    {
     "name": "stdout",
     "output_type": "stream",
     "text": [
      "[[7 5 1]\n",
      " [8 7 8]]\n",
      "[[2 9 7]\n",
      " [7 7 9]]\n",
      "[[False False False]\n",
      " [False  True False]]\n",
      "[[ True False False]\n",
      " [ True False False]]\n",
      "True\n"
     ]
    }
   ],
   "source": [
    "# numpy ndarray의 비교연산\n",
    "# 비교연산도 사칙연산과 유사하게 동작\n",
    "import numpy as np\n",
    "\n",
    "np.random.seed(4)\n",
    "arr1 = np.random.randint(0,10,(2,3))\n",
    "arr2 = np.random.randint(0,10,(2,3))\n",
    "\n",
    "print(arr1)\n",
    "print(arr2)\n",
    "print(arr1 == arr2)  # boolean mask\n",
    "print(arr1 > arr2)  # boolean mask\n",
    "\n",
    "arr1 = np.arange(10)\n",
    "arr2 = np.arange(10)\n",
    "print(np.array_equal(arr1,arr2))"
   ]
  },
  {
   "cell_type": "markdown",
   "metadata": {},
   "source": [
    "### 집계함수, 수학함수와 axis(축)\n",
    "#### 집계함수 : 합, 평균, 표준편차, 분산\n",
    "#### 수학함수 : 최대, 최소, 제곱근, 제곱값, 로그값"
   ]
  },
  {
   "cell_type": "code",
   "execution_count": 19,
   "metadata": {},
   "outputs": [
    {
     "name": "stdout",
     "output_type": "stream",
     "text": [
      "[[1 2 3]\n",
      " [4 5 6]]\n",
      "21\n",
      "21\n",
      "3.5\n",
      "6\n",
      "1\n",
      "5\n",
      "0\n",
      "1.707825127659933\n",
      "[[1.         1.41421356 1.73205081]\n",
      " [2.         2.23606798 2.44948974]]\n"
     ]
    }
   ],
   "source": [
    "import numpy as np\n",
    "\n",
    "arr = np.arange(1,7,1).reshape(2,3).copy()\n",
    "print(arr)\n",
    "\n",
    "print(np.sum(arr)) # 21   합계\n",
    "print(arr.sum())   # 21\n",
    "print(np.mean(arr)) # 3.5  평균\n",
    "print(np.max(arr)) # 6   최대\n",
    "print(np.min(arr)) # 1   최대\n",
    "print(np.argmax(arr)) # 5   최대값의 index가 리턴 \n",
    "print(np.argmin(arr)) # 0   최대값의 index가 리턴 \n",
    "print(np.std(arr))    # 표준편차, 1.707825127659933\n",
    "print(np.sqrt(arr))   # 제곱근"
   ]
  },
  {
   "cell_type": "markdown",
   "metadata": {},
   "source": [
    "### axis 개념을 잘 이해해야 해요!!\n",
    "- Numpy의 모든 집계함수는 기본적으로 axis를 기준으로 계산\n",
    "- 만약 axis를 지정하지 않으면 axis는 None으로 설정\n",
    "- 대상범위가 배열의 전체로 지정\n",
    "\n",
    "- arr = np.array([1,2,3,4,5])   # 1차원의 ndarray\n",
    "- axis는 축을 의미하구요.. 이 축은 결국 숫자로 표현(0,1,2,3,4,5,...)\n",
    "- 1차원에서 axis값은 0밖에 쓸수없어요!\n",
    "- print(arr.sum())  # 15\n",
    "- 1차원은 axis가 큰 의미가 없어요!!\n"
   ]
  },
  {
   "cell_type": "code",
   "execution_count": 20,
   "metadata": {},
   "outputs": [
    {
     "name": "stdout",
     "output_type": "stream",
     "text": [
      "[[ 5 11  8]\n",
      " [ 9 11  5]\n",
      " [ 0  0  1]\n",
      " [ 7  6  9]]\n",
      "(4, 3)\n",
      "72\n",
      "[21 28 23]\n",
      "[1 1 2 2]\n"
     ]
    }
   ],
   "source": [
    "np.random.seed(1)\n",
    "arr = np.random.randint(0,12,(4,3))\n",
    "print(arr)\n",
    "print(arr.shape)   # (4, 3)\n",
    "print(arr.sum())  # 축이 명시가 안됬어요! sum()의 대상은\n",
    "                  # 전체 ndarray가 되요!  => 78\n",
    "# 축을 명시해 보아요!\n",
    "# 2차원 이기 때문에 axis는 0과 1을 사용할 수 있어요!\n",
    "# 0 => 행방향(세로방향) , 1 => 열방향(가로방향)\n",
    "# 3차원이면 axis는 0,1,2 3개 사용할 수 있어요!\n",
    "# 0 => 면, 1 => 행방향, 2 => 열방향\n",
    "print(arr.sum(axis=0))\n",
    "# 굳이 axis=1 이라고 쓰지 않고 숫자 1 만 적어도 괜찮나요?\n",
    "print(arr.argmax(axis=1))\n",
    "\n",
    "## 굳이 집계함수를 이용해서 계산을 하지 않아도 되요!!\n",
    "## 로직을 이용해서 처리해도 됩니다.!!\n",
    "## 속도차이가 비교할 수 없을정도로 집계함수가 빨라요!"
   ]
  },
  {
   "cell_type": "code",
   "execution_count": 21,
   "metadata": {},
   "outputs": [
    {
     "name": "stdout",
     "output_type": "stream",
     "text": [
      "6\n"
     ]
    }
   ],
   "source": [
    "arr = np.array([[1,2,3,4],\n",
    "                [5,6,7,8],\n",
    "                [9,10,11,12],\n",
    "                [13,14,15,16]])\n",
    "\n",
    "# ndarray arr안에 10보다 큰 수가 몇개있는지 알아보려면\n",
    "# 어떻게 해야 하는가?\n",
    "print((arr > 10).sum())"
   ]
  },
  {
   "cell_type": "code",
   "execution_count": 22,
   "metadata": {},
   "outputs": [
    {
     "name": "stdout",
     "output_type": "stream",
     "text": [
      "[0 1 2 3 4 5 6 7 8 9]\n",
      "[1 7 0 3 8 9 5 6 4 2]\n",
      "[9 8 7 6 5 4 3 2 1 0]\n",
      "[1 7 0 3 8 9 5 6 4 2]\n"
     ]
    }
   ],
   "source": [
    "# 정렬은 상당히 많이 사용하는 기능이예욧!!\n",
    "# np.sort() : 인자로 들어가는 원본 ndarray는 변화가 없고\n",
    "#             정렬된 복사본이 만들어져서 리턴되요!\n",
    "# arr.sort() : 원본 배열을 정렬하고 리턴이 없어요!\n",
    "\n",
    "import numpy as np\n",
    "\n",
    "arr = np.arange(10)\n",
    "print(arr)\n",
    "np.random.shuffle(arr)\n",
    "print(arr)\n",
    "\n",
    "print(np.sort(arr)[::-1])  # [0 1 2 3 4 5 6 7 8 9]\n",
    "print(arr)\n",
    "\n",
    "# print(arr.sort())  # None\n",
    "# print(arr)\n",
    "# 특수한 슬라이싱을 이용하면 역순으로 정렬할 수 있어요!"
   ]
  },
  {
   "cell_type": "code",
   "execution_count": 25,
   "metadata": {},
   "outputs": [
    {
     "name": "stdout",
     "output_type": "stream",
     "text": [
      "[[1 2 3]\n",
      " [4 5 6]\n",
      " [7 8 9]]\n"
     ]
    }
   ],
   "source": [
    "# numpy array를 연결하려면 어떻게 해야 하나요?\n",
    "\n",
    "import numpy as np\n",
    "\n",
    "arr = np.array([[1,2,3],\n",
    "                [4,5,6]])  # (2,3)\n",
    "\n",
    "new_row = np.array([7,8,9]) # (3,)\n",
    "result = np.concatenate((arr,new_row.reshape(1,3)),axis=0)\n",
    "print(result)\n"
   ]
  },
  {
   "cell_type": "code",
   "execution_count": 26,
   "metadata": {},
   "outputs": [
    {
     "name": "stdout",
     "output_type": "stream",
     "text": [
      "[[ 1  2  3  7  8]\n",
      " [ 4  5  6  9 10]]\n"
     ]
    }
   ],
   "source": [
    "new_col = np.array([7,8,9,10])\n",
    "result = np.concatenate((arr,new_col.reshape(2,2)),axis=1)\n",
    "print(result)"
   ]
  },
  {
   "cell_type": "code",
   "execution_count": 28,
   "metadata": {},
   "outputs": [
    {
     "name": "stdout",
     "output_type": "stream",
     "text": [
      "[1 3 4 5 6]\n"
     ]
    }
   ],
   "source": [
    "# Numpy의 delete()\n",
    "# delete()도 axis를 기준으로 삭제가 진행\n",
    "# 만약  axis를 명시하지 않으면 자동으로 1차배열로 변환이 된 후 삭제\n",
    "arr = np.array([[1,2,3],\n",
    "                [4,5,6]])  # (2,3)\n",
    "\n",
    "result = np.delete(arr,1)  # 1차배열로 변환한 후 삭제\n",
    "                           # [1 3 4 5 6]\n",
    "print(result)    \n"
   ]
  },
  {
   "cell_type": "code",
   "execution_count": 30,
   "metadata": {},
   "outputs": [
    {
     "name": "stdout",
     "output_type": "stream",
     "text": [
      "[[1 2 3]]\n"
     ]
    }
   ],
   "source": [
    "result = np.delete(arr,1,axis=0)  \n",
    "                           \n",
    "print(result)     # [[1 2 3]] \n"
   ]
  },
  {
   "cell_type": "code",
   "execution_count": 31,
   "metadata": {},
   "outputs": [
    {
     "name": "stdout",
     "output_type": "stream",
     "text": [
      "[1 3 4 5 6]\n"
     ]
    }
   ],
   "source": [
    "result = np.delete(arr,1)  \n",
    "                           \n",
    "print(result)     # \n"
   ]
  },
  {
   "cell_type": "code",
   "execution_count": null,
   "metadata": {},
   "outputs": [],
   "source": []
  },
  {
   "cell_type": "code",
   "execution_count": null,
   "metadata": {},
   "outputs": [],
   "source": []
  }
 ],
 "metadata": {
  "kernelspec": {
   "display_name": "Python [conda env:data_env] *",
   "language": "python",
   "name": "conda-env-data_env-py"
  },
  "language_info": {
   "codemirror_mode": {
    "name": "ipython",
    "version": 3
   },
   "file_extension": ".py",
   "mimetype": "text/x-python",
   "name": "python",
   "nbconvert_exporter": "python",
   "pygments_lexer": "ipython3",
   "version": "3.7.9"
  }
 },
 "nbformat": 4,
 "nbformat_minor": 4
}
