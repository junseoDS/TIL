{
 "cells": [
  {
   "cell_type": "markdown",
   "metadata": {},
   "source": [
    "## Pandas\n",
    "\n",
    "- Pandas는 2개의 자료구조 사용\n",
    "- numpy를 기본으로 그 위에 __Series__와 __DataFrame__이라는 자료구조 정의\n",
    "\n",
    "1. Series  : 동일한 데이터 타입의 복수개의 성분으록 수성\n",
    "2. DataFrame : Table형식으로 데이터를 저장하는 자료구조\n",
    "\n",
    "\n"
   ]
  },
  {
   "cell_type": "code",
   "execution_count": 2,
   "metadata": {},
   "outputs": [],
   "source": [
    "import pandas as pd\n",
    "import numpy as np"
   ]
  },
  {
   "cell_type": "code",
   "execution_count": 3,
   "metadata": {},
   "outputs": [
    {
     "name": "stdout",
     "output_type": "stream",
     "text": [
      "[1. 2. 3. 4. 5.]\n"
     ]
    }
   ],
   "source": [
    "''' \n",
    "Series부터 알아보자\n",
    "ndarray + 알파 인 자료구조\n",
    "1차원 자료구조\n",
    "같은 데이터 타입이 들어온다\n",
    "'''\n",
    "\n",
    "import pandas as pd\n",
    "import numpy as np\n",
    "\n",
    "# ndarray(dtype : np.float64)\n",
    "arr=np.array([1,2,3,4,5],dtype=np.float64)\n",
    "print(arr)"
   ]
  },
  {
   "cell_type": "code",
   "execution_count": 9,
   "metadata": {},
   "outputs": [
    {
     "name": "stdout",
     "output_type": "stream",
     "text": [
      "[1 3.14 True 'Hello']\n",
      "object\n"
     ]
    }
   ],
   "source": [
    "arr = np.array([1,3.14,True,'Hello'], dtype = np.object)\n",
    "print(arr)\n",
    "print(arr.dtype)"
   ]
  },
  {
   "cell_type": "markdown",
   "metadata": {},
   "source": [
    "### Series\n",
    "#### 1차원 자료구조\n"
   ]
  },
  {
   "cell_type": "code",
   "execution_count": 13,
   "metadata": {},
   "outputs": [
    {
     "name": "stdout",
     "output_type": "stream",
     "text": [
      "0    1.0\n",
      "1    2.0\n",
      "2    3.0\n",
      "3    4.0\n",
      "4    5.0\n",
      "dtype: float64\n",
      "Series의 값만 가져오기 : [1. 2. 3. 4. 5.]\n",
      "Series의 index만 가져오기 : RangeIndex(start=0, stop=5, step=1)\n"
     ]
    }
   ],
   "source": [
    "s = pd.Series([1,2,3,4,5],dtype = np.float64)\n",
    "print(s)\n",
    "\n",
    "print('Series의 값만 가져오기 : {}'.format(s.values))\n",
    "print('Series의 index만 가져오기 : {}'.format(s.index))"
   ]
  },
  {
   "cell_type": "markdown",
   "metadata": {},
   "source": [
    "#### Series의 Index"
   ]
  },
  {
   "cell_type": "code",
   "execution_count": 16,
   "metadata": {},
   "outputs": [
    {
     "name": "stdout",
     "output_type": "stream",
     "text": [
      "a     1\n",
      "b     5\n",
      "c     8\n",
      "d    10\n",
      "dtype: int32\n"
     ]
    }
   ],
   "source": [
    "s = pd.Series([1,5,8,10],dtype=np.int32,index=['a','b','c','d'])\n",
    "print(s)"
   ]
  },
  {
   "cell_type": "code",
   "execution_count": 17,
   "metadata": {},
   "outputs": [
    {
     "name": "stdout",
     "output_type": "stream",
     "text": [
      "5\n",
      "5\n"
     ]
    }
   ],
   "source": [
    "# 인덱스가 변경되도 기본적으로 숫자 인덱스 사용 가능\n",
    "print(s['b'])\n",
    "print(s[1])"
   ]
  },
  {
   "cell_type": "code",
   "execution_count": 18,
   "metadata": {},
   "outputs": [
    {
     "name": "stdout",
     "output_type": "stream",
     "text": [
      "a     1\n",
      "b     5\n",
      "a     8\n",
      "d    10\n",
      "dtype: int32\n"
     ]
    }
   ],
   "source": [
    "# 만약 index가 같으면 어떻게 되나요?\n",
    "\n",
    "s=pd.Series([1,5,8,10],dtype=np.int32,\n",
    "           index=['a','b','a','d'])\n",
    "print(s)"
   ]
  },
  {
   "cell_type": "code",
   "execution_count": 20,
   "metadata": {},
   "outputs": [
    {
     "name": "stdout",
     "output_type": "stream",
     "text": [
      "a    1\n",
      "a    8\n",
      "dtype: int32\n",
      "<class 'pandas.core.series.Series'>\n"
     ]
    }
   ],
   "source": [
    "result = s['a']\n",
    "print(result)\n",
    "print(type(result))"
   ]
  },
  {
   "cell_type": "code",
   "execution_count": 21,
   "metadata": {},
   "outputs": [
    {
     "name": "stdout",
     "output_type": "stream",
     "text": [
      "a    1\n",
      "b    5\n",
      "c    8\n",
      "dtype: int32\n",
      "a     1\n",
      "b     5\n",
      "c     8\n",
      "d    10\n",
      "dtype: int32\n"
     ]
    }
   ],
   "source": [
    "s=pd.Series([1,5,8,10],dtype=np.int32,\n",
    "           index=['a','b','c','d'])\n",
    "# Slicing\n",
    "print(s[0:3])\n",
    "print(s['a':'d']) # 끝값 포함!"
   ]
  },
  {
   "cell_type": "markdown",
   "metadata": {},
   "source": [
    "### Fancy Indexing, Boolean Indexing"
   ]
  },
  {
   "cell_type": "code",
   "execution_count": 23,
   "metadata": {
    "scrolled": true
   },
   "outputs": [
    {
     "name": "stdout",
     "output_type": "stream",
     "text": [
      "a    1\n",
      "c    8\n",
      "dtype: int32\n",
      "a    1\n",
      "c    8\n",
      "dtype: int32\n",
      "c     8\n",
      "d    10\n",
      "dtype: int32\n",
      "24\n"
     ]
    }
   ],
   "source": [
    "print(s[[0,2]])\n",
    "print(s[['a','c']])\n",
    "\n",
    "print(s[s%2==0]) # boolean indexing\n",
    "\n",
    "#집계함수\n",
    "print(s.sum())"
   ]
  },
  {
   "cell_type": "markdown",
   "metadata": {},
   "source": [
    "### 날짜 Indexing\n",
    "- A공장의 2020-01-01부터 10일간 생산량을 Series로 저장\n",
    "- 생산량은 평균이 50, 표준편차가 5인 정규분포에서 랜덤하게 생성(정수)\n",
    "- 형식\n",
    "    - 2020-01-01 52\n",
    "    - 2020-01-02 49    \n",
    "    - 2020-01-03 55\n",
    "\n",
    "- B공장의 2020-01-01부터 10일간 생산량을 Series로 저장\n",
    "- 생산량은 평균이 70, 표준편차가 8인 정규분포에서 랜덤하게 생성(정수)\n",
    "\n",
    "\n",
    "#### 날짜별로 모든(A공장,B공장)의 생산량의 합계를 구하시오"
   ]
  },
  {
   "cell_type": "code",
   "execution_count": 27,
   "metadata": {},
   "outputs": [],
   "source": [
    "import numpy as np\n",
    "import pandas as pd\n",
    "from datetime import datetime,timedelta"
   ]
  },
  {
   "cell_type": "code",
   "execution_count": 28,
   "metadata": {},
   "outputs": [
    {
     "name": "stdout",
     "output_type": "stream",
     "text": [
      "2020-01-01 00:00:00\n"
     ]
    }
   ],
   "source": [
    "start_day = datetime(2020,1,1)\n",
    "print(start_day)"
   ]
  },
  {
   "cell_type": "code",
   "execution_count": 35,
   "metadata": {},
   "outputs": [
    {
     "name": "stdout",
     "output_type": "stream",
     "text": [
      "2020-01-01    42\n",
      "2020-01-02    52\n",
      "2020-01-03    52\n",
      "2020-01-04    54\n",
      "2020-01-05    55\n",
      "2020-01-06    50\n",
      "2020-01-07    50\n",
      "2020-01-08    63\n",
      "2020-01-09    50\n",
      "2020-01-10    42\n",
      "dtype: int32\n",
      "2020-01-01    58\n",
      "2020-01-02    81\n",
      "2020-01-03    65\n",
      "2020-01-04    70\n",
      "2020-01-05    68\n",
      "2020-01-06    66\n",
      "2020-01-07    71\n",
      "2020-01-08    70\n",
      "2020-01-09    51\n",
      "2020-01-10    68\n",
      "dtype: int32\n"
     ]
    }
   ],
   "source": [
    "factory_A = pd.Series([int(x) for x in np.random.normal(50,5,(10,))],\n",
    "                     dtype = np.int32,\n",
    "                     index=[start_day + timedelta(days=x)\n",
    "                            for x in range(10)])\n",
    "print(factory_A)\n",
    "\n",
    "factory_B = pd.Series([int(x) for x in np.random.normal(70,8,(10,))],\n",
    "                     dtype = np.int32,\n",
    "                     index=[start_day + timedelta(days=x)\n",
    "                            for x in range(10)])\n",
    "print(factory_B)"
   ]
  },
  {
   "cell_type": "code",
   "execution_count": 36,
   "metadata": {},
   "outputs": [
    {
     "name": "stdout",
     "output_type": "stream",
     "text": [
      "2020-01-01    100\n",
      "2020-01-02    133\n",
      "2020-01-03    117\n",
      "2020-01-04    124\n",
      "2020-01-05    123\n",
      "2020-01-06    116\n",
      "2020-01-07    121\n",
      "2020-01-08    133\n",
      "2020-01-09    101\n",
      "2020-01-10    110\n",
      "dtype: int32\n"
     ]
    }
   ],
   "source": [
    "print(factory_A+factory_B)"
   ]
  },
  {
   "cell_type": "code",
   "execution_count": 37,
   "metadata": {},
   "outputs": [],
   "source": [
    " # NaN : not a number"
   ]
  },
  {
   "cell_type": "markdown",
   "metadata": {},
   "source": [
    "#### Series는 dict를 이용해서 만들 수 있다"
   ]
  },
  {
   "cell_type": "code",
   "execution_count": 40,
   "metadata": {},
   "outputs": [
    {
     "name": "stdout",
     "output_type": "stream",
     "text": [
      "서울    1000\n",
      "인천    2000\n",
      "수원    3000\n",
      "dtype: int64\n",
      "서울    1000\n",
      "인천    2000\n",
      "수원    3000\n",
      "Name: 지역별 가격 데이터, dtype: int64\n"
     ]
    }
   ],
   "source": [
    "my_dict = {'서울':1000,'인천':2000,'수원':3000}\n",
    "\n",
    "s=pd.Series(my_dict)\n",
    "print(s)\n",
    "s.name = '지역별 가격 데이터'\n",
    "print(s)"
   ]
  },
  {
   "cell_type": "code",
   "execution_count": 41,
   "metadata": {},
   "outputs": [
    {
     "name": "stdout",
     "output_type": "stream",
     "text": [
      "Region\n",
      "Seoul      1000\n",
      "Incheon    2000\n",
      "Suwon      3000\n",
      "Name: 지역별 가격 데이터, dtype: int64\n"
     ]
    }
   ],
   "source": [
    "s.index = ['Seoul','Incheon','Suwon']\n",
    "s.index.name = 'Region'\n",
    "print(s)"
   ]
  },
  {
   "cell_type": "markdown",
   "metadata": {},
   "source": [
    "## DataFrame\n",
    "\n",
    "### Pandas의 DataFrame에 대해서 알아보자\n",
    "- DataFrame을 만드는 방법"
   ]
  },
  {
   "cell_type": "code",
   "execution_count": 46,
   "metadata": {},
   "outputs": [],
   "source": [
    "import numpy as np\n",
    "import pandas as pd\n",
    "\n",
    "# 데이터를 가지고 있는 dict부터 정의\n",
    "\n",
    "my_dict = {'name':['홍길동','신사임당','김연아','강감찬'],\n",
    "           'year':[2015,2016,2019,2016],\n",
    "           'point':[3.5,1.4,2.0,4.5]}"
   ]
  },
  {
   "cell_type": "code",
   "execution_count": 47,
   "metadata": {},
   "outputs": [
    {
     "data": {
      "text/html": [
       "<div>\n",
       "<style scoped>\n",
       "    .dataframe tbody tr th:only-of-type {\n",
       "        vertical-align: middle;\n",
       "    }\n",
       "\n",
       "    .dataframe tbody tr th {\n",
       "        vertical-align: top;\n",
       "    }\n",
       "\n",
       "    .dataframe thead th {\n",
       "        text-align: right;\n",
       "    }\n",
       "</style>\n",
       "<table border=\"1\" class=\"dataframe\">\n",
       "  <thead>\n",
       "    <tr style=\"text-align: right;\">\n",
       "      <th></th>\n",
       "      <th>name</th>\n",
       "      <th>year</th>\n",
       "      <th>point</th>\n",
       "    </tr>\n",
       "  </thead>\n",
       "  <tbody>\n",
       "    <tr>\n",
       "      <th>0</th>\n",
       "      <td>홍길동</td>\n",
       "      <td>2015</td>\n",
       "      <td>3.5</td>\n",
       "    </tr>\n",
       "    <tr>\n",
       "      <th>1</th>\n",
       "      <td>신사임당</td>\n",
       "      <td>2016</td>\n",
       "      <td>1.4</td>\n",
       "    </tr>\n",
       "    <tr>\n",
       "      <th>2</th>\n",
       "      <td>김연아</td>\n",
       "      <td>2019</td>\n",
       "      <td>2.0</td>\n",
       "    </tr>\n",
       "    <tr>\n",
       "      <th>3</th>\n",
       "      <td>강감찬</td>\n",
       "      <td>2016</td>\n",
       "      <td>4.5</td>\n",
       "    </tr>\n",
       "  </tbody>\n",
       "</table>\n",
       "</div>"
      ],
      "text/plain": [
       "   name  year  point\n",
       "0   홍길동  2015    3.5\n",
       "1  신사임당  2016    1.4\n",
       "2   김연아  2019    2.0\n",
       "3   강감찬  2016    4.5"
      ]
     },
     "metadata": {},
     "output_type": "display_data"
    }
   ],
   "source": [
    "df = pd.DataFrame(my_dict)\n",
    "display(df)"
   ]
  },
  {
   "cell_type": "code",
   "execution_count": 50,
   "metadata": {},
   "outputs": [
    {
     "name": "stdout",
     "output_type": "stream",
     "text": [
      "(4, 3)\n",
      "12\n",
      "2\n",
      "RangeIndex(start=0, stop=4, step=1)\n",
      "Index(['name', 'year', 'point'], dtype='object')\n"
     ]
    }
   ],
   "source": [
    "print(df.shape)\n",
    "print(df.size)\n",
    "print(df.ndim)\n",
    "print(df.index)\n",
    "print(df.columns)"
   ]
  },
  {
   "cell_type": "markdown",
   "metadata": {},
   "source": [
    "#### 많은 양의 데이터는 일반적으로 파일, Database, Open API를 이용해서 얻어야 한다\n",
    "\n",
    "1. __CSV(Comma Seperated Values)__\n",
    "    - 예) 홍길동,20,서울,김길동,30,인천,최길동,50,제주\n",
    "    - 장점\n",
    "        - 많은 데이터를 표현하기에 적합, 데이터 사이즈 작음\n",
    "    - 단점  \n",
    "        - 데이터의 구성을 알기 어렵다\n",
    "        - 구조적 데이터 표현이 어렵다\n",
    "        - 사용이 힘들고 데이터 처리를 위해 따로 프로그램을 만든다\n",
    "        - 데이터가 변경되었을때 프로그램도 같이 변경\n",
    "             => 유지보수문제 발생\n",
    "             \n",
    "    - 데이터의 크기가 무지막지하고 데이터의 형태가 변하지 않는 경우가 가장 적합\n",
    "\n",
    "\n",
    "\n",
    "2. __XML(eXtended Markup Language)__\n",
    "    - 예) \\<person>\\<name>홍길동\\</name>\\<age>20\\</age>\\<address>서울\\</address>\n",
    "\n",
    "    - 장점  \n",
    "        - 데이터의 구성을 알기 쉽다\n",
    "        - 사용하기 편하다\n",
    "        - 유지보수가 쉽다\n",
    "             \n",
    "    - 단점 : 부가적인 데이터가 많다\n",
    "\n",
    "\n",
    "\n",
    "3. __JSON(JavaScript Object Notation)__ : 현재 일반적인 데이터 표현방식\n",
    "    - 자바스크립트 객체표현방식을 이용해서 데이터를표현하는 방식\n",
    "    - JSON은 데이터 표현방식이지 특정 프로그래밍 언어와는 상관 없다\n",
    "    - 예) { name : '홍길동', age : 20, adress : '서울'}\n",
    "    - 장점  \n",
    "        - 데이터의 구성을 알기 쉬워 사용하기 편함\n",
    "        - 프로그램적 유지보수가 쉽다, XML보다 용량이 작다\n",
    "    - 단점  \n",
    "        - CSV보다는 부가적인 데이터가 많다\n",
    "        "
   ]
  },
  {
   "cell_type": "code",
   "execution_count": 51,
   "metadata": {},
   "outputs": [],
   "source": [
    "# CSV파일을 이용해서 DAtaFrame을 만들자\n",
    "\n",
    "df = pd.read_csv('movies.csv')"
   ]
  },
  {
   "cell_type": "code",
   "execution_count": 52,
   "metadata": {},
   "outputs": [
    {
     "data": {
      "text/html": [
       "<div>\n",
       "<style scoped>\n",
       "    .dataframe tbody tr th:only-of-type {\n",
       "        vertical-align: middle;\n",
       "    }\n",
       "\n",
       "    .dataframe tbody tr th {\n",
       "        vertical-align: top;\n",
       "    }\n",
       "\n",
       "    .dataframe thead th {\n",
       "        text-align: right;\n",
       "    }\n",
       "</style>\n",
       "<table border=\"1\" class=\"dataframe\">\n",
       "  <thead>\n",
       "    <tr style=\"text-align: right;\">\n",
       "      <th></th>\n",
       "      <th>movieId</th>\n",
       "      <th>title</th>\n",
       "      <th>genres</th>\n",
       "    </tr>\n",
       "  </thead>\n",
       "  <tbody>\n",
       "    <tr>\n",
       "      <th>0</th>\n",
       "      <td>1</td>\n",
       "      <td>Toy Story (1995)</td>\n",
       "      <td>Adventure|Animation|Children|Comedy|Fantasy</td>\n",
       "    </tr>\n",
       "    <tr>\n",
       "      <th>1</th>\n",
       "      <td>2</td>\n",
       "      <td>Jumanji (1995)</td>\n",
       "      <td>Adventure|Children|Fantasy</td>\n",
       "    </tr>\n",
       "    <tr>\n",
       "      <th>2</th>\n",
       "      <td>3</td>\n",
       "      <td>Grumpier Old Men (1995)</td>\n",
       "      <td>Comedy|Romance</td>\n",
       "    </tr>\n",
       "    <tr>\n",
       "      <th>3</th>\n",
       "      <td>4</td>\n",
       "      <td>Waiting to Exhale (1995)</td>\n",
       "      <td>Comedy|Drama|Romance</td>\n",
       "    </tr>\n",
       "    <tr>\n",
       "      <th>4</th>\n",
       "      <td>5</td>\n",
       "      <td>Father of the Bride Part II (1995)</td>\n",
       "      <td>Comedy</td>\n",
       "    </tr>\n",
       "    <tr>\n",
       "      <th>...</th>\n",
       "      <td>...</td>\n",
       "      <td>...</td>\n",
       "      <td>...</td>\n",
       "    </tr>\n",
       "    <tr>\n",
       "      <th>9737</th>\n",
       "      <td>193581</td>\n",
       "      <td>Black Butler: Book of the Atlantic (2017)</td>\n",
       "      <td>Action|Animation|Comedy|Fantasy</td>\n",
       "    </tr>\n",
       "    <tr>\n",
       "      <th>9738</th>\n",
       "      <td>193583</td>\n",
       "      <td>No Game No Life: Zero (2017)</td>\n",
       "      <td>Animation|Comedy|Fantasy</td>\n",
       "    </tr>\n",
       "    <tr>\n",
       "      <th>9739</th>\n",
       "      <td>193585</td>\n",
       "      <td>Flint (2017)</td>\n",
       "      <td>Drama</td>\n",
       "    </tr>\n",
       "    <tr>\n",
       "      <th>9740</th>\n",
       "      <td>193587</td>\n",
       "      <td>Bungo Stray Dogs: Dead Apple (2018)</td>\n",
       "      <td>Action|Animation</td>\n",
       "    </tr>\n",
       "    <tr>\n",
       "      <th>9741</th>\n",
       "      <td>193609</td>\n",
       "      <td>Andrew Dice Clay: Dice Rules (1991)</td>\n",
       "      <td>Comedy</td>\n",
       "    </tr>\n",
       "  </tbody>\n",
       "</table>\n",
       "<p>9742 rows × 3 columns</p>\n",
       "</div>"
      ],
      "text/plain": [
       "      movieId                                      title  \\\n",
       "0           1                           Toy Story (1995)   \n",
       "1           2                             Jumanji (1995)   \n",
       "2           3                    Grumpier Old Men (1995)   \n",
       "3           4                   Waiting to Exhale (1995)   \n",
       "4           5         Father of the Bride Part II (1995)   \n",
       "...       ...                                        ...   \n",
       "9737   193581  Black Butler: Book of the Atlantic (2017)   \n",
       "9738   193583               No Game No Life: Zero (2017)   \n",
       "9739   193585                               Flint (2017)   \n",
       "9740   193587        Bungo Stray Dogs: Dead Apple (2018)   \n",
       "9741   193609        Andrew Dice Clay: Dice Rules (1991)   \n",
       "\n",
       "                                           genres  \n",
       "0     Adventure|Animation|Children|Comedy|Fantasy  \n",
       "1                      Adventure|Children|Fantasy  \n",
       "2                                  Comedy|Romance  \n",
       "3                            Comedy|Drama|Romance  \n",
       "4                                          Comedy  \n",
       "...                                           ...  \n",
       "9737              Action|Animation|Comedy|Fantasy  \n",
       "9738                     Animation|Comedy|Fantasy  \n",
       "9739                                        Drama  \n",
       "9740                             Action|Animation  \n",
       "9741                                       Comedy  \n",
       "\n",
       "[9742 rows x 3 columns]"
      ]
     },
     "execution_count": 52,
     "metadata": {},
     "output_type": "execute_result"
    }
   ],
   "source": [
    "df"
   ]
  },
  {
   "cell_type": "markdown",
   "metadata": {},
   "source": [
    "### DataFrame \n",
    "1. dict를 이용해서 수동으로 만드는 방법\n",
    "2. CSV를 이용해서 파일로부터 데이터를 읽어드려서 DataFrame을 만드는 방법\n",
    "3. 기존 Database로부터 데이터를 읽어서 DataFrame을 만드는 방법\n",
    "\n",
    "- Database 설정\n",
    "- MySQL 이용\n",
    "- MySQL설치\n",
    "    1. MySQL 5.6버전 다운로드\n",
    "    2. 다운로드 후 바탕화면에 압축풀기\n",
    "    3. bin폴더로 들어가서 다음의 명령을 도스창에서 실행\n",
    "    4. 도스창에서 => mysqld (mysql DBMS를 기동시키는 명령어)\n",
    "    5. 만약 정상적을 ㅗ시작되면 mysql daemon이 동작\n",
    "    6. 데이터베이스를 정상적으로 종료하려면 새로운 도스창\n",
    "        my sqladmin -u root shutdown\n",
    "    7. 서버를 기동한 상태에서\n",
    "    8. 데이터베이스 사용자는 ID/PW가 있어야 사용할 수 있음\n",
    "        그래서 새로운 사용자의 ID/PW를 설정\n",
    "        그러기 위해서 먼저 mysql consol에 관리자권한으로 들어감\n",
    "        mysql -u root\n",
    "    9. console에 들어가면 mysql> 프롬프트가 보임\n",
    "    10. 정상적으로 접속했으면 새로운 사용자를 다음의 명령어를 이용해서 만들기\n",
    "        create user data identified by \"data\";\n",
    "    11. 외부접속을 위해 다음의 명령을 한번 더 실행\n",
    "        create user data@localhost identified by \"data\";\n",
    "    12. 데이터가 저장될 데이터베이스를 생성\n",
    "        우리가 사용해야할 mysql은 DMBS(Database Management System)\n",
    "        여러개의 Database를 관리하는 프로그램\n",
    "        \n",
    "    mysql> create user data@localhost identified by \"data\";\n",
    "\n",
    "    \n",
    "    mysql> create database library;\n",
    "    Query OK, 1 row affected (0.02 sec)\n",
    "\n",
    "\n",
    "    13. 새로운 사용자(data)가 새로만든 데이터베이스 (library)를 사용할 권한을 부여\n",
    "\n",
    "\n",
    "    mysql> grant all privileges on library.* to data;\n",
    "    Query OK, 0 rows affected (0.01 sec)\n",
    "\n",
    "    mysql> grant all privileges on library.* to data@localhost;\n",
    "    Query OK, 0 rows affected (0.00 sec)\n",
    "    \n",
    "    14. 권한 설정에 대한 refresh\n",
    "    \n",
    "    flush priviliges;\n",
    "    \n",
    "    15. 설정은 다 끝났으니 console에서 나올것 \n",
    "    exit;\n",
    "    \n",
    "    - 도스창에서 제공된 scirpt file을 이용해 서 데이터를 적재\n",
    "    \n",
    "    mysql -u data -p library < _BookTableDump.sql\n",
    "    \n",
    "    "
   ]
  },
  {
   "cell_type": "code",
   "execution_count": null,
   "metadata": {},
   "outputs": [],
   "source": []
  }
 ],
 "metadata": {
  "kernelspec": {
   "display_name": "Python [conda env:data_env] *",
   "language": "python",
   "name": "conda-env-data_env-py"
  },
  "language_info": {
   "codemirror_mode": {
    "name": "ipython",
    "version": 3
   },
   "file_extension": ".py",
   "mimetype": "text/x-python",
   "name": "python",
   "nbconvert_exporter": "python",
   "pygments_lexer": "ipython3",
   "version": "3.7.9"
  }
 },
 "nbformat": 4,
 "nbformat_minor": 4
}
