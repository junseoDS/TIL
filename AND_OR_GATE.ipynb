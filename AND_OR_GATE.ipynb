{
 "cells": [
  {
   "cell_type": "code",
   "execution_count": 14,
   "id": "continued-third",
   "metadata": {},
   "outputs": [
    {
     "name": "stdout",
     "output_type": "stream",
     "text": [
      "loss : 1.2101720571517944\n",
      "loss : 0.6935834884643555\n",
      "loss : 0.6931576132774353\n",
      "loss : 0.6931474208831787\n",
      "loss : 0.6931471824645996\n",
      "loss : 0.6931471824645996\n",
      "loss : 0.6931471824645996\n",
      "loss : 0.6931471824645996\n",
      "loss : 0.6931471824645996\n",
      "loss : 0.6931471824645996\n"
     ]
    }
   ],
   "source": [
    "# Logistic Regression(Perceptron)\n",
    "# AND, OR Gate를 학습시켜서 Prediction할 수 있는가?\n",
    "# Tensorflow 1.15로 구현해서 알아보아요!\n",
    "# 진리표(Truth Table)를 학습하고 예측을 정확하게 하는지 알아보아요!\n",
    "\n",
    "import numpy as np\n",
    "import tensorflow as tf\n",
    "from sklearn.metrics import classification_report\n",
    "\n",
    "# Training Data Set\n",
    "x_data = np.array([[0,0],\n",
    "                   [0,1],\n",
    "                   [1,0],\n",
    "                   [1,1]], dtype=np.float32)\n",
    "\n",
    "# AND t_data\n",
    "# t_data = np.array([[0], [0], [0], [1]], dtype=np.float32)\n",
    "\n",
    "# OR t_data\n",
    "# t_data = np.array([[0], [1], [1], [1]], dtype=np.float32)\n",
    "\n",
    "# XOR t_data\n",
    "t_data = np.array([[0], [1], [1], [0]], dtype=np.float32)\n",
    "\n",
    "\n",
    "# placeholder\n",
    "X = tf.placeholder(shape=[None,2], dtype=tf.float32)\n",
    "T = tf.placeholder(shape=[None,1], dtype=tf.float32)\n",
    "\n",
    "# Weight & bias\n",
    "W = tf.Variable(tf.random.normal([2,1]))\n",
    "b = tf.Variable(tf.random.normal([1]))\n",
    "\n",
    "# Hypothesis\n",
    "logit = tf.matmul(X,W) + b\n",
    "H = tf.sigmoid(logit)\n",
    "\n",
    "# loss \n",
    "loss = tf.reduce_mean(tf.nn.sigmoid_cross_entropy_with_logits(logits=logit,\n",
    "                                                              labels=T))\n",
    "\n",
    "# train\n",
    "train = tf.train.GradientDescentOptimizer(learning_rate=1e-2).minimize(loss)\n",
    "\n",
    "# Session & 초기화\n",
    "sess = tf.Session()\n",
    "sess.run(tf.global_variables_initializer())\n",
    "\n",
    "for step in range(30000):\n",
    "    _, loss_val = sess.run([train, loss], feed_dict={X:x_data,\n",
    "                                                     T:t_data})\n",
    "    if step % 3000 == 0:\n",
    "        print('loss : {}'.format(loss_val))"
   ]
  },
  {
   "cell_type": "code",
   "execution_count": 15,
   "id": "local-variable",
   "metadata": {
    "scrolled": true
   },
   "outputs": [
    {
     "name": "stdout",
     "output_type": "stream",
     "text": [
      "              precision    recall  f1-score   support\n",
      "\n",
      "         0.0       1.00      0.50      0.67         2\n",
      "         1.0       0.67      1.00      0.80         2\n",
      "\n",
      "    accuracy                           0.75         4\n",
      "   macro avg       0.83      0.75      0.73         4\n",
      "weighted avg       0.83      0.75      0.73         4\n",
      "\n"
     ]
    }
   ],
   "source": [
    "# Accuracy\n",
    "accuracy = tf.cast(H >= 0.5, dtype=tf.float32)\n",
    "result = sess.run(accuracy, feed_dict={X:x_data})\n",
    "print(classification_report(t_data.ravel(), result.ravel()))"
   ]
  }
 ],
 "metadata": {
  "kernelspec": {
   "display_name": "Python [conda env:data_env]",
   "language": "python",
   "name": "conda-env-data_env-py"
  },
  "language_info": {
   "codemirror_mode": {
    "name": "ipython",
    "version": 3
   },
   "file_extension": ".py",
   "mimetype": "text/x-python",
   "name": "python",
   "nbconvert_exporter": "python",
   "pygments_lexer": "ipython3",
   "version": "3.7.9"
  }
 },
 "nbformat": 4,
 "nbformat_minor": 5
}
