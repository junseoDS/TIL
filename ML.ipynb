{
 "cells": [
  {
   "cell_type": "code",
   "execution_count": null,
   "metadata": {},
   "outputs": [],
   "source": []
  },
  {
   "cell_type": "code",
   "execution_count": null,
   "metadata": {},
   "outputs": [],
   "source": []
  },
  {
   "cell_type": "code",
   "execution_count": null,
   "metadata": {},
   "outputs": [],
   "source": []
  },
  {
   "cell_type": "code",
   "execution_count": null,
   "metadata": {},
   "outputs": [],
   "source": []
  },
  {
   "cell_type": "code",
   "execution_count": null,
   "metadata": {},
   "outputs": [],
   "source": []
  },
  {
   "cell_type": "code",
   "execution_count": 14,
   "metadata": {},
   "outputs": [
    {
     "name": "stdout",
     "output_type": "stream",
     "text": [
      "현재의 idx : (0,)\n",
      "현재의 idx : (1,)\n",
      "\n"
     ]
    }
   ],
   "source": [
    "## 일반적으로 다변수함수의 수치미분 코드를 이용함\n",
    "\n",
    "# 입력함수가 2개 이상인 다변수 함수\n",
    "# 입력변수는 서로 독립이기 때문에 수치미분 역시 변수의 개수 만큼 \n",
    "# 개별적으로 진행\n",
    "\n",
    "import numpy as np\n",
    "\n",
    "def numerical_derivative(f,x):\n",
    "    # f : 미분하려고 하는 다변수함수\n",
    "    # x : 모든 값을 포함하는 numpy array\n",
    "    \n",
    "    delta_x = 1e-4\n",
    "    derivative_x = np.zeros_like(x) #(0,0)\n",
    "    \n",
    "    it = np.nditer(x, flags=['multi_index'])\n",
    "    \n",
    "    while not it.finished : \n",
    "        idx = it.multi_index\n",
    "        print('현재의 idx : {}'.format(idx))\n",
    "        tmp = x[idx]\n",
    "        \n",
    "        x[idx] = tmp +delta_x\n",
    "        fx_plus_delta=f(x)\n",
    "        \n",
    "        x[idx] = tmp -delta_x\n",
    "        fx_minus_delta=f(x)\n",
    "        \n",
    "        x[idx] =tmp\n",
    "        it.iternext()\n",
    "        \n",
    "    return derivative_x\n",
    "\n",
    "def my_func(input_data):\n",
    "    x = input_data[0]\n",
    "    y = input_data[1]\n",
    "    return 2*x + 3*x*y +np.power(y,3)\n",
    "\n",
    "param = np.array([1.0,2.0])\n",
    "\n",
    "result = numerical_derivative(my_func,param)\n",
    "print(\"\")    "
   ]
  },
  {
   "cell_type": "code",
   "execution_count": 15,
   "metadata": {},
   "outputs": [
    {
     "data": {
      "text/plain": [
       "28.92546549759998"
      ]
     },
     "execution_count": 15,
     "metadata": {},
     "output_type": "execute_result"
    }
   ],
   "source": [
    "1.4**10"
   ]
  },
  {
   "cell_type": "code",
   "execution_count": null,
   "metadata": {},
   "outputs": [],
   "source": []
  }
 ],
 "metadata": {
  "kernelspec": {
   "display_name": "Python [conda env:data_env] *",
   "language": "python",
   "name": "conda-env-data_env-py"
  },
  "language_info": {
   "codemirror_mode": {
    "name": "ipython",
    "version": 3
   },
   "file_extension": ".py",
   "mimetype": "text/x-python",
   "name": "python",
   "nbconvert_exporter": "python",
   "pygments_lexer": "ipython3",
   "version": "3.7.9"
  }
 },
 "nbformat": 4,
 "nbformat_minor": 4
}
