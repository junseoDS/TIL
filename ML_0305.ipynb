{
 "cells": [
  {
   "cell_type": "code",
   "execution_count": 3,
   "metadata": {},
   "outputs": [
    {
     "name": "stdout",
     "output_type": "stream",
     "text": [
      "W:[[-0.05427659]\n",
      " [ 0.00701545]\n",
      " [ 0.7620886 ]\n",
      " [-0.5049089 ]\n",
      " [ 0.23032819]], b:[-0.09035717]. loss:1.0398504734039307\n",
      "W:[[-0.4692406 ]\n",
      " [ 0.33104324]\n",
      " [ 0.38213354]\n",
      " [-0.31306675]\n",
      " [ 0.09335237]], b:[-0.20169176]. loss:0.6275464296340942\n",
      "W:[[-0.49284774]\n",
      " [ 0.64801925]\n",
      " [ 0.292542  ]\n",
      " [-0.12847602]\n",
      " [ 0.08080075]], b:[-0.16279681]. loss:0.5790870785713196\n",
      "W:[[-0.5086747 ]\n",
      " [ 0.91347855]\n",
      " [ 0.21454765]\n",
      " [ 0.00632551]\n",
      " [ 0.06273412]], b:[-0.1259916]. loss:0.5467506051063538\n",
      "W:[[-0.5213084 ]\n",
      " [ 1.1374252 ]\n",
      " [ 0.14749122]\n",
      " [ 0.10347669]\n",
      " [ 0.04543357]], b:[-0.0904434]. loss:0.5247446894645691\n",
      "W:[[-0.532125  ]\n",
      " [ 1.3277742 ]\n",
      " [ 0.09035727]\n",
      " [ 0.17330202]\n",
      " [ 0.02952874]], b:[-0.05565356]. loss:0.509380042552948\n",
      "W:[[-0.54266655]\n",
      " [ 1.4909816 ]\n",
      " [ 0.04209569]\n",
      " [ 0.22368465]\n",
      " [ 0.01511404]], b:[-0.02115936]. loss:0.49835121631622314\n",
      "W:[[-5.5229437e-01]\n",
      " [ 1.6317717e+00]\n",
      " [ 7.4413756e-04]\n",
      " [ 2.6011181e-01]\n",
      " [ 1.7917494e-03]], b:[0.01287812]. loss:0.49023911356925964\n",
      "W:[[-0.5614085 ]\n",
      " [ 1.7538497 ]\n",
      " [-0.03504533]\n",
      " [ 0.28649503]\n",
      " [-0.01048371]], b:[0.04644912]. loss:0.48414334654808044\n",
      "W:[[-0.57035184]\n",
      " [ 1.8603727 ]\n",
      " [-0.06620047]\n",
      " [ 0.3056908 ]\n",
      " [-0.02171943]], b:[0.07961402]. loss:0.4794687330722809\n"
     ]
    }
   ],
   "source": [
    "# Titanic 구현\n",
    "\n",
    "import numpy as np\n",
    "import pandas as pd\n",
    "import tensorflow as tf\n",
    "\n",
    "# Raw Data Loading\n",
    "df = pd.read_csv('data/titanic/train.csv')\n",
    "\n",
    "# 학습에 필요하지 않은 column은 삭제할 꺼예요!\n",
    "df.drop(['PassengerId', 'Name', 'Ticket', 'Fare', 'Cabin'], \n",
    "        axis=1, \n",
    "        inplace=True)\n",
    "# display(df)\n",
    "\n",
    "# 성별처리\n",
    "gender_mapping = {'male': 0, 'female': 1}\n",
    "df['Sex'] = df['Sex'].map(gender_mapping)\n",
    "\n",
    "# 가족처리\n",
    "df['Family'] = df['SibSp'] + df['Parch']\n",
    "df.drop(['SibSp', 'Parch'], axis=1, inplace=True)\n",
    "# display(df)\n",
    "\n",
    "# 결측치 처리\n",
    "# df.isnull().sum()\n",
    "# Embarked 결측치 처리\n",
    "df['Embarked'] = df['Embarked'].fillna('Q')\n",
    "# Embarked 문자를 숫자로 변환\n",
    "embarked_mapping = {'S': 0, 'C': 1, 'Q':2 }\n",
    "df['Embarked'] = df['Embarked'].map(embarked_mapping)\n",
    "\n",
    "# Age 결측치 처리\n",
    "df['Age'] = df['Age'].fillna(df['Age'].mean())\n",
    "\n",
    "# Age Binning 처리(Numerical value -> Categorical value)\n",
    "df.loc[df['Age'] < 8,'Age'] = 0\n",
    "df.loc[(df['Age'] >= 8) & (df['Age'] < 20),'Age'] = 1\n",
    "df.loc[(df['Age'] >= 20) & (df['Age'] < 65),'Age'] = 2\n",
    "df.loc[df['Age'] >= 65,'Age'] = 3\n",
    "\n",
    "# display(df.shape)\n",
    "\n",
    "# 학습과 validation을 수행해야 해요!\n",
    "# 데이터를 7:3 비율로 Training Data Set과 Validation Data Set으로 분리\n",
    "train_data = df.iloc[:int(df.shape[0] * 0.7)]\n",
    "val_data = df.iloc[int(df.shape[0] * 0.7):]\n",
    "\n",
    "# Training Data Set\n",
    "train_x_data = train_data.drop(['Survived'], axis=1, inplace=False).values\n",
    "train_t_data = train_data['Survived'].values.reshape(-1,1)\n",
    "\n",
    "# Validation Data Set\n",
    "val_x_data = val_data.drop(['Survived'], axis=1, inplace=False).values\n",
    "val_t_data = val_data['Survived'].values.reshape(-1,1)\n",
    "\n",
    "#######################\n",
    "\n",
    "# Tensorflow 구현\n",
    "\n",
    "# placeholder\n",
    "X = tf.placeholder(shape=[None,5], dtype=tf.float32)\n",
    "T = tf.placeholder(shape=[None,1], dtype=tf.float32)\n",
    "\n",
    "# Weigth & bias\n",
    "W = tf.Variable(tf.random.normal([5,1]), name='weight')\n",
    "b = tf.Variable(tf.random.normal([1]), name='bias')\n",
    "\n",
    "# Hypothesis\n",
    "logit = tf.matmul(X,W) + b\n",
    "H = tf.sigmoid(logit)\n",
    "\n",
    "# loss function\n",
    "loss = tf.reduce_mean(tf.nn.sigmoid_cross_entropy_with_logits(logits=logit,\n",
    "                                                              labels=T))\n",
    "\n",
    "# train\n",
    "train = tf.train.GradientDescentOptimizer(learning_rate=1e-4).minimize(loss)\n",
    "\n",
    "# session & 초기화\n",
    "sess = tf.Session()\n",
    "sess.run(tf.global_variables_initializer())\n",
    "\n",
    "# 학습\n",
    "for step in range(300000):\n",
    "    _, W_val, b_val, loss_val = sess.run([train,W,b,loss], \n",
    "                                         feed_dict={X: train_x_data,\n",
    "                                                    T: train_t_data})\n",
    "    if step % 30000 == 0:\n",
    "        print('W:{}, b:{}. loss:{}'.format(W_val,b_val,loss_val))"
   ]
  },
  {
   "cell_type": "code",
   "execution_count": 4,
   "metadata": {},
   "outputs": [
    {
     "name": "stdout",
     "output_type": "stream",
     "text": [
      "모델의 정확도 : 0.7947761416435242\n"
     ]
    }
   ],
   "source": [
    "# 정확도(Accuracy) 측정\n",
    "predict = tf.cast(H > 0.5, dtype=tf.float32)  # 예측값 : [1 0 0 0 1 0 1 0]\n",
    "correct = tf.equal(predict, T) # T : [1 1 0 0 ..]   =>  [True, False, ...]  \n",
    "accuracy = tf.reduce_mean(tf.cast(correct, dtype=tf.float32))\n",
    "\n",
    "accuracy_val = sess.run(accuracy, feed_dict={X:val_x_data,\n",
    "                                             T:val_t_data})\n",
    "print('모델의 정확도 : {}'.format(accuracy_val))"
   ]
  },
  {
   "cell_type": "code",
   "execution_count": 12,
   "metadata": {},
   "outputs": [],
   "source": [
    "df = pd.read_csv('data/bmi.csv')"
   ]
  },
  {
   "cell_type": "code",
   "execution_count": 27,
   "metadata": {},
   "outputs": [],
   "source": [
    "# Multinomial Classification\n",
    "# %reset\n",
    "\n",
    "# Tensorflow로 구현해 보아요!\n",
    "import numpy as np\n",
    "import pandas as pd\n",
    "import tensorflow as tf\n",
    "from scipy import stats\n",
    "from sklearn.preprocessing import MinMaxScaler\n",
    "import matplotlib.pyplot as plt\n",
    "\n",
    "# Raw Data Loading\n",
    "df = pd.read_csv('data/bmi.csv')\n",
    "\n",
    "# display(df.head(), df.shape)\n",
    "\n",
    "### 결측치 처리 ###\n",
    "# df.isnull().sum()   # 결측치가 존재하지 않아요!\n",
    "\n",
    "### 이상치 처리 ###\n"
   ]
  },
  {
   "cell_type": "code",
   "execution_count": 28,
   "metadata": {},
   "outputs": [],
   "source": [
    "df[df['label']=='thin']=0\n",
    "df[df['label']=='normal']=1\n",
    "df[df['label']=='fat']=2"
   ]
  },
  {
   "cell_type": "code",
   "execution_count": 29,
   "metadata": {},
   "outputs": [
    {
     "data": {
      "text/plain": [
       "0        1\n",
       "1        2\n",
       "2        0\n",
       "3        2\n",
       "4        1\n",
       "        ..\n",
       "19995    0\n",
       "19996    2\n",
       "19997    1\n",
       "19998    1\n",
       "19999    1\n",
       "Name: label, Length: 20000, dtype: object"
      ]
     },
     "execution_count": 29,
     "metadata": {},
     "output_type": "execute_result"
    }
   ],
   "source": [
    "df['label']"
   ]
  },
  {
   "cell_type": "code",
   "execution_count": 30,
   "metadata": {},
   "outputs": [
    {
     "data": {
      "image/png": "[encoded data removed]",
      "text/plain": [
       "<Figure size 432x288 with 3 Axes>"
      ]
     },
     "metadata": {
      "needs_background": "light"
     },
     "output_type": "display_data"
    }
   ],
   "source": [
    "fig = plt.figure()\n",
    "fig_1 = fig.add_subplot(1,3,1)\n",
    "fig_2 = fig.add_subplot(1,3,2)\n",
    "fig_3 = fig.add_subplot(1,3,3)\n",
    "\n",
    "fig_1.boxplot(df['label'])\n",
    "fig_2.boxplot(df['height'])\n",
    "fig_3.boxplot(df['weight'])\n",
    "\n",
    "fig.tight_layout()\n",
    "plt.show()\n"
   ]
  },
  {
   "cell_type": "code",
   "execution_count": 31,
   "metadata": {},
   "outputs": [],
   "source": [
    "### boxplot을 이용해서 이상치가 존재하는지를 확인해요!!\n",
    "### 이상치는 현재 존재하지 않아요!\n",
    "\n",
    "### Training Data Set\n",
    "x_data = df[['height', 'weight']].values\n",
    "t_data = df['label'].values  # one hot encoding으로 변환\n",
    "###      [0 1 2 0 1 1 2 2 0 1]\n",
    "###      [[1 0 0]\n",
    "###       [0 1 0]\n",
    "###       [0 0 1]\n",
    "###       [1 0 0]]\n",
    "\n",
    "### 정규화\n",
    "scaler_x = MinMaxScaler()\n",
    "scaler_x.fit(x_data)\n",
    "norm_x_data = scaler_x.transform(x_data)\n",
    "# print(norm_x_data)\n",
    "\n",
    "### tensorflow 기능을 이용해서 one hot encoding을 생성\n",
    "sess = tf.Session()\n",
    "norm_t_data = sess.run(tf.one_hot(t_data, depth=3))\n",
    "# print(norm_t_data)\n",
    "\n",
    "## training data set 준비 끝\n"
   ]
  },
  {
   "cell_type": "code",
   "execution_count": 32,
   "metadata": {},
   "outputs": [
    {
     "name": "stdout",
     "output_type": "stream",
     "text": [
      "W : [[-0.74057055  0.46742615  0.05792918]\n",
      " [-0.08616608 -1.0153077   1.6942377 ]], b: [ 0.39123935 -1.5441076  -2.505711  ], loss: 1.0482169389724731\n",
      "W : [[-0.82522815  0.4930965   0.11691654]\n",
      " [-0.17082392 -0.98963755  1.7532248 ]], b: [ 0.2929184 -1.4928261 -2.458673 ], loss: 0.9241164326667786\n",
      "W : [[-0.8967902   0.5161728   0.16540267]\n",
      " [-0.2423862  -0.9665612   1.8017111 ]], b: [ 0.21211253 -1.4466234  -2.4240723 ], loss: 0.8376342058181763\n",
      "W : [[-0.9580207   0.5371062   0.20569955]\n",
      " [-0.30361676 -0.9456278   1.842008  ]], b: [ 0.14560139 -1.4048605  -2.3993242 ], loss: 0.7761402130126953\n",
      "W : [[-1.0112319   0.5562318   0.23978521]\n",
      " [-0.3568274  -0.9265022   1.8760931 ]], b: [ 0.090605  -1.3670045 -2.3821762], loss: 0.7311422824859619\n",
      "W : [[-1.0581918   0.5737859   0.26919106]\n",
      " [-0.40378878 -0.9089481   1.9054986 ]], b: [ 0.04491573 -1.33263    -2.370861  ], loss: 0.6972441077232361\n",
      "W : [[-1.1002243   0.58995014  0.29505748]\n",
      " [-0.44581935 -0.8927839   1.9313651 ]], b: [ 0.00682436 -1.3013923  -2.364022  ], loss: 0.6709810495376587\n",
      "W : [[-1.1383033   0.6048615   0.31822595]\n",
      " [-0.48389915 -0.8778725   1.9545355 ]], b: [-0.02499109 -1.2729871  -2.3606083 ], loss: 0.6501259803771973\n",
      "W : [[-1.173171    0.6186371   0.3393146 ]\n",
      " [-0.5187636  -0.86409694  1.9756286 ]], b: [-0.05156371 -1.2471584  -2.3598516 ], loss: 0.6331892609596252\n",
      "W : [[-1.2053777   0.6313814   0.3587843 ]\n",
      " [-0.55097526 -0.85135263  1.9950995 ]], b: [-0.07371183 -1.2236602  -2.361225  ], loss: 0.6191688179969788\n"
     ]
    }
   ],
   "source": [
    "\n",
    "\n",
    "## tensorflow 구현\n",
    "# placeholder\n",
    "X = tf.placeholder(shape=[None,2], dtype=tf.float32)\n",
    "T = tf.placeholder(shape=[None,3], dtype=tf.float32)\n",
    "\n",
    "# Weight & bias\n",
    "W = tf.Variable(tf.random.normal([2,3]), name='weight')\n",
    "b = tf.Variable(tf.random.normal([3]), name='bias')\n",
    "\n",
    "# Hypothesis\n",
    "logit = tf.matmul(X,W) + b\n",
    "H = tf.nn.softmax(logit)   # Softmax Activation function 이용\n",
    "\n",
    "# loss\n",
    "loss = tf.reduce_mean(tf.nn.softmax_cross_entropy_with_logits_v2(logits=logit,\n",
    "                                                                 labels=T))\n",
    "\n",
    "# train\n",
    "train = tf.train.GradientDescentOptimizer(learning_rate=1e-4).minimize(loss)\n",
    "\n",
    "# 초기화\n",
    "sess.run(tf.global_variables_initializer())\n",
    "\n",
    "# 학습진행\n",
    "for step in range(30000):\n",
    "    _, W_val, b_val, loss_val = sess.run([train,W,b,loss], \n",
    "                                         feed_dict={X:norm_x_data,\n",
    "                                                    T:norm_t_data})\n",
    "    if step % 3000 == 0:\n",
    "        print('W : {}, b: {}, loss: {}'.format(W_val, b_val, loss_val))\n",
    "        \n",
    "        "
   ]
  },
  {
   "cell_type": "code",
   "execution_count": 33,
   "metadata": {},
   "outputs": [
    {
     "name": "stdout",
     "output_type": "stream",
     "text": [
      "[[0.000000e+00 9.861656e-38 1.000000e+00]]\n"
     ]
    }
   ],
   "source": [
    "# 잘 만들어진 모델인지 확인하고 넘어가야 해요!(train, validation)\n",
    "\n",
    "# prediction\n",
    "height = 187\n",
    "weight = 78\n",
    "my_state = [[height, weight]]\n",
    "\n",
    "result = sess.run(H, feed_dict={X:scaler_x.transform(my_state)})\n",
    "print(result)  # 2 => 과체중 ?? 확인을 해 봐야 해요!"
   ]
  },
  {
   "cell_type": "code",
   "execution_count": null,
   "metadata": {},
   "outputs": [],
   "source": []
  }
 ],
 "metadata": {
  "kernelspec": {
   "display_name": "Python [conda env:data_env] *",
   "language": "python",
   "name": "conda-env-data_env-py"
  },
  "language_info": {
   "codemirror_mode": {
    "name": "ipython",
    "version": 3
   },
   "file_extension": ".py",
   "mimetype": "text/x-python",
   "name": "python",
   "nbconvert_exporter": "python",
   "pygments_lexer": "ipython3",
   "version": "3.7.9"
  }
 },
 "nbformat": 4,
 "nbformat_minor": 4
}
