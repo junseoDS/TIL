{
 "cells": [
  {
   "cell_type": "code",
   "execution_count": 3,
   "metadata": {},
   "outputs": [
    {
     "data": {
      "image/png": "[encoded data removed]",
      "text/plain": [
       "<Figure size 432x288 with 10 Axes>"
      ]
     },
     "metadata": {
      "needs_background": "light"
     },
     "output_type": "display_data"
    },
    {
     "name": "stdout",
     "output_type": "stream",
     "text": [
      "### 학습 시작 ###\n",
      "Loss : 1.807641863822937\n",
      "Loss : 0.2500529885292053\n",
      "Loss : 0.19712196290493011\n",
      "Loss : 0.1707918345928192\n",
      "Loss : 0.15726202726364136\n",
      "Loss : 0.14955709874629974\n",
      "Loss : 0.14464639127254486\n",
      "Loss : 0.14121003448963165\n",
      "Loss : 0.13861213624477386\n",
      "Loss : 0.13651256263256073\n",
      "### 학습 종료 ###\n",
      "### Training Data Set을 이용하여 성능평가!! ###\n",
      "Accuracy : 0.9482312798500061\n"
     ]
    }
   ],
   "source": [
    "# MNIST 구현\n",
    "\n",
    "import numpy as np\n",
    "import pandas as pd\n",
    "import tensorflow as tf\n",
    "import matplotlib.pyplot as plt\n",
    "from sklearn.preprocessing import MinMaxScaler\n",
    "from sklearn.model_selection import train_test_split\n",
    "from sklearn.model_selection import KFold\n",
    "from sklearn.metrics import confusion_matrix, classification_report\n",
    "\n",
    "# Raw Data Loading\n",
    "df = pd.read_csv('./data/mnist/train.csv')\n",
    "# display(df.head(), df.shape)\n",
    "\n",
    "# 데이터의 명세를 잘 파악해야 해요!\n",
    "# 각 픽셀의 값은 0 ~ 255 사이의 값을 가질 수 있어요!\n",
    "# 이 값이 크면 클수록 어두운 색상이예요!\n",
    "\n",
    "# 결측치와 이상치를 처리해보아요! \n",
    "# => 현재 데이터에는 이상치와 결측치가 없어요!\n",
    "\n",
    "# 이미지 확인\n",
    "img_data = df.drop('label', axis=1, inplace=False).values\n",
    "\n",
    "fig = plt.figure()\n",
    "fig_arr = []   # 10개의 subplot을 만들고 그 각각의 subplot을 list에 저장\n",
    "\n",
    "for n in range(10):\n",
    "    fig_arr.append(fig.add_subplot(2,5,n+1))\n",
    "    fig_arr[n].imshow(img_data[n].reshape(28,28),\n",
    "                     cmap='Greys',\n",
    "                     interpolation='nearest')\n",
    "plt.tight_layout()\n",
    "plt.show()\n",
    "\n",
    "# 데이터 분할\n",
    "x_data_train, x_data_test, t_data_train, t_data_test = \\\n",
    "train_test_split(df.drop('label', axis=1, inplace=False),\n",
    "                df['label'],\n",
    "                test_size=0.3,\n",
    "                random_state=0)\n",
    "\n",
    "# 정규화 작업!\n",
    "scaler = MinMaxScaler()\n",
    "scaler.fit(x_data_train)\n",
    "\n",
    "x_data_train_norm = scaler.transform(x_data_train)\n",
    "x_data_test_norm = scaler.transform(x_data_test)\n",
    "\n",
    "# Tensorflow 구현\n",
    "sess = tf.Session()\n",
    "t_data_train_onehot = sess.run(tf.one_hot(t_data_train, depth=10))\n",
    "t_data_test_onehot = sess.run(tf.one_hot(t_data_test, depth=10))\n",
    "\n",
    "# sklearn의 classification_report 사용을 위해 삭제하지 말자!\n",
    "# del t_data_train\n",
    "# del t_data_test\n",
    "\n",
    "# placeholder\n",
    "X = tf.placeholder(shape=[None,784], dtype=tf.float32)\n",
    "T = tf.placeholder(shape=[None,10], dtype=tf.float32)\n",
    "\n",
    "# Weight & bias\n",
    "W = tf.Variable(tf.random.normal([784,10]), name='weight')\n",
    "b = tf.Variable(tf.random.normal([10]), name='bias')\n",
    "\n",
    "# Hypothesis\n",
    "logit = tf.matmul(X,W) + b\n",
    "H = tf.nn.softmax(logit)  # softmax activation function\n",
    "\n",
    "# loss function\n",
    "loss = tf.reduce_mean(tf.nn.softmax_cross_entropy_with_logits_v2(logits=logit,\n",
    "                                                                 labels=T))\n",
    "\n",
    "# train\n",
    "train = tf.train.GradientDescentOptimizer(learning_rate=1e-1).minimize(loss)\n",
    "\n",
    "\n",
    "# parameter\n",
    "num_of_epoch = 1000\n",
    "batch_size = 100\n",
    "\n",
    "# 학습용 함수\n",
    "def run_train(sess,train_x, train_t):\n",
    "    print('### 학습 시작 ###')\n",
    "    # 초기화\n",
    "    sess.run(tf.global_variables_initializer())\n",
    "    \n",
    "    for step in range(num_of_epoch):\n",
    "        total_batch = int(train_x.shape[0] / batch_size)\n",
    "        \n",
    "        for i in range(total_batch):\n",
    "            batch_x = train_x[i*batch_size:(i+1)*batch_size]\n",
    "            batch_t = train_t[i*batch_size:(i+1)*batch_size]           \n",
    "            _, loss_val = sess.run([train,loss],\n",
    "                                   feed_dict={X: batch_x,\n",
    "                                              T: batch_t})\n",
    "            \n",
    "        if step % 100 == 0:\n",
    "            print('Loss : {}'.format(loss_val))\n",
    "    print('### 학습 종료 ###')\n",
    "    \n",
    "# Accuracy 측정(정확도)    \n",
    "predict = tf.argmax(H,1)\n",
    "correct = tf.equal(predict, tf.argmax(T,1))\n",
    "accuracy = tf.reduce_mean(tf.cast(correct, dtype=tf.float32))\n",
    "\n",
    "# 학습부터 해요!\n",
    "run_train(sess,x_data_train_norm, t_data_train_onehot)\n",
    "\n",
    "# Training Data Set을 이용하여 성능평가!\n",
    "print('### Training Data Set을 이용하여 성능평가!! ###')\n",
    "result = sess.run(accuracy, feed_dict={X:x_data_train_norm,\n",
    "                                       T:t_data_train_onehot})\n",
    "print('Accuracy : {}'.format(result))\n",
    "# Training Data Set을 이용하여 성능평가는 의미가 없어요!!"
   ]
  },
  {
   "cell_type": "code",
   "execution_count": 4,
   "metadata": {},
   "outputs": [
    {
     "name": "stdout",
     "output_type": "stream",
     "text": [
      "### 학습 시작 ###\n",
      "Loss : 2.118110418319702\n",
      "Loss : 0.33573681116104126\n",
      "Loss : 0.27072617411613464\n",
      "Loss : 0.24413086473941803\n",
      "Loss : 0.22932776808738708\n",
      "Loss : 0.21859967708587646\n",
      "Loss : 0.2098931074142456\n",
      "Loss : 0.20263229310512543\n",
      "Loss : 0.19656360149383545\n",
      "Loss : 0.19149523973464966\n",
      "### 학습 종료 ###\n",
      "### 학습 시작 ###\n",
      "Loss : 2.0347108840942383\n",
      "Loss : 0.16694605350494385\n",
      "Loss : 0.1175636500120163\n",
      "Loss : 0.09996508806943893\n",
      "Loss : 0.09230422973632812\n",
      "Loss : 0.08862165361642838\n",
      "Loss : 0.08670756965875626\n",
      "Loss : 0.08560068160295486\n",
      "Loss : 0.08486233651638031\n",
      "Loss : 0.08430051058530807\n",
      "### 학습 종료 ###\n",
      "### 학습 시작 ###\n",
      "Loss : 2.24507212638855\n",
      "Loss : 0.22912541031837463\n",
      "Loss : 0.1879740208387375\n",
      "Loss : 0.16981324553489685\n",
      "Loss : 0.15994060039520264\n",
      "Loss : 0.15335720777511597\n",
      "Loss : 0.14843784272670746\n",
      "Loss : 0.14454159140586853\n",
      "Loss : 0.14133279025554657\n",
      "Loss : 0.13860653340816498\n",
      "### 학습 종료 ###\n",
      "### 학습 시작 ###\n",
      "Loss : 3.013474941253662\n",
      "Loss : 0.30607596039772034\n",
      "Loss : 0.227263405919075\n",
      "Loss : 0.18766441941261292\n",
      "Loss : 0.1653096079826355\n",
      "Loss : 0.15171514451503754\n",
      "Loss : 0.1429787576198578\n",
      "Loss : 0.1370466649532318\n",
      "Loss : 0.13277442753314972\n",
      "Loss : 0.1295139342546463\n",
      "### 학습 종료 ###\n",
      "### 학습 시작 ###\n",
      "Loss : 1.64397394657135\n",
      "Loss : 0.14868319034576416\n",
      "Loss : 0.1195751205086708\n",
      "Loss : 0.10778754204511642\n",
      "Loss : 0.10165109485387802\n",
      "Loss : 0.09802711755037308\n",
      "Loss : 0.09560415148735046\n",
      "Loss : 0.0937906950712204\n",
      "Loss : 0.09231505542993546\n",
      "Loss : 0.09104366600513458\n",
      "### 학습 종료 ###\n",
      "측정한 각각의 결과값 : [0.91105443, 0.9112245, 0.90238094, 0.9022109, 0.9079932]\n",
      "최종 K-Fold 교차검증을 사용한 Accuracy : 0.9069727659225464\n"
     ]
    }
   ],
   "source": [
    "# 우리의 모델의 성능평가를 하기 위해\n",
    "# K-Fold Cross Validation을 수행!\n",
    "\n",
    "cv = 5          # Fold의 수\n",
    "results = []    # 각 Fold당 학습과 성능평가가 진행되는데 \n",
    "                # 이때 계산된 성능평가 값을 저장\n",
    "kf = KFold(n_splits=cv, shuffle=True) \n",
    "\n",
    "for training_idx, validation_idx in kf.split(x_data_train_norm):\n",
    "    training_x = x_data_train_norm[training_idx] # Fancy indexing\n",
    "    training_t = t_data_train_onehot[training_idx]\n",
    "    \n",
    "    val_x = x_data_train_norm[validation_idx]\n",
    "    val_t = t_data_train_onehot[validation_idx]\n",
    "    \n",
    "    # 학습부터 시켜야 해요!\n",
    "    run_train(sess,training_x,training_t)\n",
    "    results.append(sess.run(accuracy, feed_dict={X:val_x, T:val_t}))\n",
    "\n",
    "print('측정한 각각의 결과값 : {}'.format(results))\n",
    "print('최종 K-Fold 교차검증을 사용한 Accuracy : {}'.format(np.mean(results)))\n"
   ]
  },
  {
   "cell_type": "code",
   "execution_count": 5,
   "metadata": {},
   "outputs": [
    {
     "name": "stdout",
     "output_type": "stream",
     "text": [
      "### 학습 시작 ###\n",
      "Loss : 2.306431770324707\n",
      "Loss : 0.24587564170360565\n",
      "Loss : 0.18932422995567322\n",
      "Loss : 0.17550379037857056\n",
      "Loss : 0.16902042925357819\n",
      "Loss : 0.1651279479265213\n",
      "Loss : 0.1623324751853943\n",
      "Loss : 0.1600288450717926\n",
      "Loss : 0.1579582393169403\n",
      "Loss : 0.15600690245628357\n",
      "### 학습 종료 ###\n",
      "우리 Model의 최종 정확도는 : 0.913095235824585\n"
     ]
    },
    {
     "data": {
      "text/plain": [
       "'              precision    recall  f1-score   support\\n\\n       num 0       0.95      0.95      0.95      1242\\n       num 1       0.95      0.97      0.96      1429\\n       num 2       0.91      0.89      0.90      1276\\n       num 3       0.91      0.89      0.90      1298\\n       num 4       0.92      0.91      0.92      1236\\n       num 5       0.86      0.88      0.87      1119\\n       num 6       0.93      0.95      0.94      1243\\n       num 7       0.94      0.92      0.93      1334\\n       num 8       0.87      0.87      0.87      1204\\n       num 9       0.88      0.89      0.89      1219\\n\\n    accuracy                           0.91     12600\\n   macro avg       0.91      0.91      0.91     12600\\nweighted avg       0.91      0.91      0.91     12600\\n'"
      ]
     },
     "execution_count": 5,
     "metadata": {},
     "output_type": "execute_result"
    }
   ],
   "source": [
    "# Testing\n",
    "run_train(sess,x_data_train_norm,t_data_train_onehot)\n",
    "final_accuracy = sess.run(accuracy, feed_dict={X:x_data_test_norm,\n",
    "                                               T:t_data_test_onehot})\n",
    "print('우리 Model의 최종 정확도는 : {}'.format(final_accuracy))\n",
    "\n"
   ]
  },
  {
   "cell_type": "code",
   "execution_count": 6,
   "metadata": {},
   "outputs": [
    {
     "name": "stdout",
     "output_type": "stream",
     "text": [
      "              precision    recall  f1-score   support\n",
      "\n",
      "       num 0       0.95      0.95      0.95      1242\n",
      "       num 1       0.95      0.97      0.96      1429\n",
      "       num 2       0.91      0.89      0.90      1276\n",
      "       num 3       0.91      0.89      0.90      1298\n",
      "       num 4       0.92      0.91      0.92      1236\n",
      "       num 5       0.86      0.88      0.87      1119\n",
      "       num 6       0.93      0.95      0.94      1243\n",
      "       num 7       0.94      0.92      0.93      1334\n",
      "       num 8       0.87      0.87      0.87      1204\n",
      "       num 9       0.88      0.89      0.89      1219\n",
      "\n",
      "    accuracy                           0.91     12600\n",
      "   macro avg       0.91      0.91      0.91     12600\n",
      "weighted avg       0.91      0.91      0.91     12600\n",
      "\n"
     ]
    }
   ],
   "source": [
    "# 만약 Precision, Recall, F1, Accuracy를 각각 구하고 싶으면?\n",
    "# 첫번째 인자로 정답이 들어가야 해요(one hot encoding이 안된형태)\n",
    "target_names=['num 0', 'num 1', 'num 2', 'num 3', 'num 4', 'num 5',\n",
    "              'num 6', 'num 7', 'num 8', 'num 9']\n",
    "print(\n",
    "classification_report(t_data_test,\n",
    "                     sess.run(predict, feed_dict={X:x_data_test_norm}),\n",
    "                     target_names = target_names))"
   ]
  },
  {
   "cell_type": "code",
   "execution_count": 8,
   "metadata": {},
   "outputs": [
    {
     "name": "stdout",
     "output_type": "stream",
     "text": [
      "[[2 0 0]\n",
      " [0 0 1]\n",
      " [1 0 2]]\n"
     ]
    }
   ],
   "source": [
    "# sample code로 confusion matrix를 출력해보아요!\n",
    "# 3개의 label(정답)이 있는 multinomial classification에 대해\n",
    "# 예측값을 넣어서 confusion matrix를 출력해 보아요!\n",
    "\n",
    "from sklearn.metrics import confusion_matrix\n",
    "y_true = [2, 0, 2, 2, 0,1]\n",
    "y_pred = [0, 0, 2, 2, 0,2]\n",
    "\n",
    "print(confusion_matrix(y_true,y_pred))"
   ]
  },
  {
   "cell_type": "code",
   "execution_count": 9,
   "metadata": {
    "scrolled": true
   },
   "outputs": [
    {
     "name": "stdout",
     "output_type": "stream",
     "text": [
      "[[1178    0   12    6    2    9   24    1    9    1]\n",
      " [   1 1385   12    5    1    4    5    0   13    3]\n",
      " [  13   18 1138   25   14    8   17   14   21    8]\n",
      " [   7    7   27 1151    2   47    4    8   29   16]\n",
      " [   4   13   10    2 1130    4   11    6   12   44]\n",
      " [   7    6    7   30    8  982   21    6   40   12]\n",
      " [   8    3   16    0   15   16 1178    0    7    0]\n",
      " [   2    6   17    7   16    7    1 1227    6   45]\n",
      " [   6   18   11   34    9   47   11    3 1045   20]\n",
      " [  11    3    3   11   29   13    0   44   14 1091]]\n"
     ]
    }
   ],
   "source": [
    "print(\n",
    "confusion_matrix(t_data_test,\n",
    "                     sess.run(predict, feed_dict={X:x_data_test_norm})))"
   ]
  },
  {
   "cell_type": "code",
   "execution_count": 19,
   "metadata": {},
   "outputs": [
    {
     "name": "stdout",
     "output_type": "stream",
     "text": [
      "(198, 132, 3)\n",
      "(198, 132)\n"
     ]
    },
    {
     "data": {
      "image/png": "[encoded data removed]",
      "text/plain": [
       "<Figure size 432x288 with 1 Axes>"
      ]
     },
     "metadata": {
      "needs_background": "light"
     },
     "output_type": "display_data"
    },
    {
     "name": "stdout",
     "output_type": "stream",
     "text": [
      "이미지의 크기 : 26136\n",
      "이미지의 shape : (198, 132)\n"
     ]
    },
    {
     "data": {
      "image/png": "[encoded data removed]",
      "text/plain": [
       "<Figure size 432x288 with 1 Axes>"
      ]
     },
     "metadata": {
      "needs_background": "light"
     },
     "output_type": "display_data"
    }
   ],
   "source": [
    "# 실제 이미지를 가지고 예측을 해 보아요!\n",
    "# 이게 어려워요! 이미지 처리를 해야해요!\n",
    "\n",
    "# 이미지를 하나 구해야 해요!\n",
    "# 구한 color 이미지를 grey 이미지로 변환 => opencv를 이용\n",
    "\n",
    "import numpy as np\n",
    "import cv2  \n",
    "from PIL import Image   # conda install Pillow\n",
    "import matplotlib.pyplot as plt\n",
    "\n",
    "my_img = cv2.imread('./data/mnist/digit/5.jpg', cv2.IMREAD_COLOR)\n",
    "print(my_img.shape)   # (198, 132, 3)\n",
    "im_grey = cv2.cvtColor(my_img, cv2.COLOR_BGR2GRAY)\n",
    "print(im_grey.shape)\n",
    "cv2.imwrite('./data/mnist/digit/5_grey.jpg', im_grey)\n",
    "\n",
    "# 흑백이미지 파일을 얻었어요!\n",
    "img = Image.open('./data/mnist/digit/5_grey.jpg')\n",
    "plt.imshow(img, cmap='Greys')\n",
    "plt.show()\n",
    "\n",
    "# 사이즈가 안 맞아요!\n",
    "pixel = np.array(img)\n",
    "print('이미지의 크기 : {}'.format(pixel.size))\n",
    "print('이미지의 shape : {}'.format(pixel.shape))\n",
    "\n",
    "resize_img = img.resize((28,28))\n",
    "plt.imshow(resize_img, cmap='Greys')\n",
    "plt.show()"
   ]
  }
 ],
 "metadata": {
  "kernelspec": {
   "display_name": "Python [conda env:data_env] *",
   "language": "python",
   "name": "conda-env-data_env-py"
  },
  "language_info": {
   "codemirror_mode": {
    "name": "ipython",
    "version": 3
   },
   "file_extension": ".py",
   "mimetype": "text/x-python",
   "name": "python",
   "nbconvert_exporter": "python",
   "pygments_lexer": "ipython3",
   "version": "3.7.9"
  }
 },
 "nbformat": 4,
 "nbformat_minor": 4
}
