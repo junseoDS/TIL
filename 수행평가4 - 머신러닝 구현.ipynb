{
 "cells": [
  {
   "cell_type": "markdown",
   "metadata": {},
   "source": [
    "# 1. (02/26)오존 파일(Ozone.csv)을 이용하여 linear regression 구현\n",
    "   \n",
    "   tensorflow, python, sklearn으로 구현하고 결과를 비교해보아요!\n"
   ]
  },
  {
   "cell_type": "code",
   "execution_count": null,
   "metadata": {},
   "outputs": [],
   "source": []
  },
  {
   "cell_type": "code",
   "execution_count": 20,
   "metadata": {},
   "outputs": [
    {
     "data": {
      "text/html": [
       "<div>\n",
       "<style scoped>\n",
       "    .dataframe tbody tr th:only-of-type {\n",
       "        vertical-align: middle;\n",
       "    }\n",
       "\n",
       "    .dataframe tbody tr th {\n",
       "        vertical-align: top;\n",
       "    }\n",
       "\n",
       "    .dataframe thead th {\n",
       "        text-align: right;\n",
       "    }\n",
       "</style>\n",
       "<table border=\"1\" class=\"dataframe\">\n",
       "  <thead>\n",
       "    <tr style=\"text-align: right;\">\n",
       "      <th></th>\n",
       "      <th>Temp</th>\n",
       "      <th>Ozone</th>\n",
       "    </tr>\n",
       "  </thead>\n",
       "  <tbody>\n",
       "    <tr>\n",
       "      <th>0</th>\n",
       "      <td>0.181818</td>\n",
       "      <td>0.397849</td>\n",
       "    </tr>\n",
       "    <tr>\n",
       "      <th>1</th>\n",
       "      <td>0.333333</td>\n",
       "      <td>0.344086</td>\n",
       "    </tr>\n",
       "    <tr>\n",
       "      <th>2</th>\n",
       "      <td>0.393939</td>\n",
       "      <td>0.086022</td>\n",
       "    </tr>\n",
       "    <tr>\n",
       "      <th>3</th>\n",
       "      <td>0.030303</td>\n",
       "      <td>0.150538</td>\n",
       "    </tr>\n",
       "    <tr>\n",
       "      <th>5</th>\n",
       "      <td>0.151515</td>\n",
       "      <td>0.258065</td>\n",
       "    </tr>\n",
       "    <tr>\n",
       "      <th>...</th>\n",
       "      <td>...</td>\n",
       "      <td>...</td>\n",
       "    </tr>\n",
       "    <tr>\n",
       "      <th>147</th>\n",
       "      <td>0.060606</td>\n",
       "      <td>0.107527</td>\n",
       "    </tr>\n",
       "    <tr>\n",
       "      <th>148</th>\n",
       "      <td>0.272727</td>\n",
       "      <td>0.279570</td>\n",
       "    </tr>\n",
       "    <tr>\n",
       "      <th>150</th>\n",
       "      <td>0.424242</td>\n",
       "      <td>0.107527</td>\n",
       "    </tr>\n",
       "    <tr>\n",
       "      <th>151</th>\n",
       "      <td>0.454545</td>\n",
       "      <td>0.150538</td>\n",
       "    </tr>\n",
       "    <tr>\n",
       "      <th>152</th>\n",
       "      <td>0.212121</td>\n",
       "      <td>0.172043</td>\n",
       "    </tr>\n",
       "  </tbody>\n",
       "</table>\n",
       "<p>103 rows × 2 columns</p>\n",
       "</div>"
      ],
      "text/plain": [
       "         Temp     Ozone\n",
       "0    0.181818  0.397849\n",
       "1    0.333333  0.344086\n",
       "2    0.393939  0.086022\n",
       "3    0.030303  0.150538\n",
       "5    0.151515  0.258065\n",
       "..        ...       ...\n",
       "147  0.060606  0.107527\n",
       "148  0.272727  0.279570\n",
       "150  0.424242  0.107527\n",
       "151  0.454545  0.150538\n",
       "152  0.212121  0.172043\n",
       "\n",
       "[103 rows x 2 columns]"
      ]
     },
     "metadata": {},
     "output_type": "display_data"
    },
    {
     "name": "stdout",
     "output_type": "stream",
     "text": [
      "W : [[-0.08548696]], b : [0.47258604], loss : 0.08757279813289642\n",
      "W : [[0.1369359]], b : [0.30351886], loss : 0.05950722098350525\n",
      "W : [[0.3145137]], b : [0.20854798], loss : 0.04587747901678085\n",
      "W : [[0.44415572]], b : [0.13923441], loss : 0.038614001125097275\n",
      "W : [[0.53878486]], b : [0.08863439], loss : 0.034743476659059525\n",
      "W : [[0.6078581]], b : [0.05170313], loss : 0.032680947333574295\n",
      "W : [[0.6582723]], b : [0.02474534], loss : 0.03158184513449669\n",
      "W : [[0.69510573]], b : [0.00506965], loss : 0.030995693057775497\n",
      "W : [[0.7219248]], b : [-0.00928552], loss : 0.03068387694656849\n",
      "W : [[0.7415235]], b : [-0.01976709], loss : 0.03051742911338806\n"
     ]
    }
   ],
   "source": [
    "import numpy as np\n",
    "import pandas as pd\n",
    "import matplotlib.pyplot as plt\n",
    "from scipy import stats     \n",
    "import tensorflow as tf     \n",
    "from sklearn import linear_model  \n",
    "from sklearn.preprocessing import MinMaxScaler \n",
    "\n",
    "df = pd.read_csv('data/ozone.csv')\n",
    "training_data = df[['Temp','Ozone']]   # 153 rows × 2 columns\n",
    "\n",
    "training_data = training_data.dropna(how='any')\n",
    "zscore_threshold = 1.8\n",
    "\n",
    "tmp = ~(np.abs(stats.zscore(training_data['Temp'])) > zscore_threshold)\n",
    "training_data = training_data.loc[tmp]\n",
    "\n",
    "tmp = ~(np.abs(stats.zscore(training_data['Ozone'])) > zscore_threshold)\n",
    "training_data = training_data.loc[tmp]\n",
    "\n",
    "scaler_x = MinMaxScaler()  # 객체 생성\n",
    "scaler_t = MinMaxScaler()  # 객체 생성\n",
    "scaler_x.fit(training_data['Temp'].values.reshape(-1,1))\n",
    "scaler_t.fit(training_data['Ozone'].values.reshape(-1,1))\n",
    "\n",
    "training_data['Temp'] = scaler_x.transform(training_data['Temp'].values.reshape(-1,1))\n",
    "training_data['Ozone'] = scaler_t.transform(training_data['Ozone'].values.reshape(-1,1))\n",
    "\n",
    "display(training_data)\n",
    "\n",
    "\n",
    "# Training Data Set\n",
    "x_data = training_data['Temp'].values.reshape(-1,1)\n",
    "t_data = training_data['Ozone'].values.reshape(-1,1)\n",
    "\n",
    "X = tf.placeholder(shape=[None,1], dtype=tf.float32)\n",
    "T = tf.placeholder(shape=[None,1], dtype=tf.float32)\n",
    "\n",
    "W = tf.Variable(tf.random.normal([1,1]), name='weight')\n",
    "b = tf.Variable(tf.random.normal([1]), name='bias')\n",
    "\n",
    "H = tf.matmul(X,W) + b\n",
    "\n",
    "loss = tf.reduce_mean(tf.square(H-T))\n",
    "\n",
    "train = tf.train.GradientDescentOptimizer(learning_rate=1e-4).minimize(loss)\n",
    "\n",
    "sess = tf.Session()\n",
    "sess.run(tf.global_variables_initializer())\n",
    "\n",
    "for step in range(300000):\n",
    "    _, W_val, b_val, loss_val = sess.run([train, W, b, loss], \n",
    "                                         feed_dict={X: x_data, T: t_data})\n",
    "    \n",
    "    if step % 30000 == 0:\n",
    "        print('W : {}, b : {}, loss : {}'.format(W_val,b_val,loss_val))\n",
    "\n",
    "        "
   ]
  },
  {
   "cell_type": "code",
   "execution_count": 21,
   "metadata": {},
   "outputs": [
    {
     "name": "stdout",
     "output_type": "stream",
     "text": [
      "W : [[0.79468511]], b : [-0.04818192]\n"
     ]
    }
   ],
   "source": [
    "# sklearn\n",
    "x_data = training_data['Temp'].values.reshape(-1,1)\n",
    "t_data = training_data['Ozone'].values.reshape(-1,1)\n",
    "\n",
    "model = linear_model.LinearRegression()\n",
    "model.fit(x_data,t_data)\n",
    "\n",
    "print('W : {}, b : {}'.format(model.coef_, model.intercept_))"
   ]
  },
  {
   "cell_type": "code",
   "execution_count": null,
   "metadata": {},
   "outputs": [],
   "source": []
  },
  {
   "cell_type": "code",
   "execution_count": null,
   "metadata": {},
   "outputs": [],
   "source": []
  },
  {
   "cell_type": "code",
   "execution_count": null,
   "metadata": {},
   "outputs": [],
   "source": []
  },
  {
   "cell_type": "code",
   "execution_count": null,
   "metadata": {},
   "outputs": [],
   "source": []
  },
  {
   "cell_type": "code",
   "execution_count": null,
   "metadata": {},
   "outputs": [],
   "source": []
  },
  {
   "cell_type": "code",
   "execution_count": null,
   "metadata": {},
   "outputs": [],
   "source": []
  },
  {
   "cell_type": "markdown",
   "metadata": {},
   "source": [
    "# (03/04) Kaggle Titanic Logistic Regression 구현\n",
    "\n",
    "=> 데이터 전처리\n",
    "\n",
    "=> 모델 구현\n",
    "\n",
    "=> 결과 파일 생성 후 Kaggle에 upload\n",
    "\n",
    "=> 모델 accuracy 확인"
   ]
  },
  {
   "cell_type": "code",
   "execution_count": 49,
   "metadata": {},
   "outputs": [
    {
     "name": "stdout",
     "output_type": "stream",
     "text": [
      "W:[[-1.072872  ]\n",
      " [ 1.3758383 ]\n",
      " [ 1.3270931 ]\n",
      " [ 0.12018275]\n",
      " [ 1.6541159 ]], b:[-0.873694]. loss:1.0864496231079102\n",
      "W:[[-1.2141813 ]\n",
      " [ 1.4846269 ]\n",
      " [ 1.0400374 ]\n",
      " [ 0.18109839]\n",
      " [ 0.7109184 ]], b:[-0.9824224]. loss:0.6402943134307861\n",
      "W:[[-1.0133672 ]\n",
      " [ 1.6387012 ]\n",
      " [ 0.92907774]\n",
      " [ 0.26228443]\n",
      " [ 0.3155667 ]], b:[-0.9409091]. loss:0.5559896230697632\n",
      "W:[[-0.87275773]\n",
      " [ 1.7732081 ]\n",
      " [ 0.78247654]\n",
      " [ 0.30397153]\n",
      " [ 0.16791564]], b:[-0.9078378]. loss:0.5272644758224487\n",
      "W:[[-0.77652997]\n",
      " [ 1.8895631 ]\n",
      " [ 0.6441156 ]\n",
      " [ 0.32676947]\n",
      " [ 0.1075289 ]], b:[-0.87592137]. loss:0.5114445686340332\n",
      "W:[[-0.7077993 ]\n",
      " [ 1.9902191 ]\n",
      " [ 0.5271966 ]\n",
      " [ 0.34076545]\n",
      " [ 0.07437386]], b:[-0.8413005]. loss:0.5010635256767273\n",
      "W:[[-0.6581973 ]\n",
      " [ 2.0777454 ]\n",
      " [ 0.43132088]\n",
      " [ 0.34987578]\n",
      " [ 0.05102314]], b:[-0.8040406]. loss:0.4939332604408264\n",
      "W:[[-0.6226016 ]\n",
      " [ 2.1533911 ]\n",
      " [ 0.35298836]\n",
      " [ 0.35597295]\n",
      " [ 0.03237234]], b:[-0.76435333]. loss:0.48888063430786133\n",
      "W:[[-0.59752464]\n",
      " [ 2.2200205 ]\n",
      " [ 0.28850266]\n",
      " [ 0.35998526]\n",
      " [ 0.01666186]], b:[-0.72322613]. loss:0.4851483106613159\n",
      "W:[[-0.58033866]\n",
      " [ 2.2784016 ]\n",
      " [ 0.234898  ]\n",
      " [ 0.36250418]\n",
      " [ 0.00315701]], b:[-0.6808858]. loss:0.48229506611824036\n"
     ]
    }
   ],
   "source": [
    "import numpy as np\n",
    "import pandas as pd\n",
    "import tensorflow as tf\n",
    "\n",
    "df = pd.read_csv('data/titanic/train.csv')\n",
    "\n",
    "df.drop(['PassengerId', 'Name', 'Ticket', 'Fare', 'Cabin'], \n",
    "        axis=1, \n",
    "        inplace=True)\n",
    "\n",
    "gender_mapping = {'male': 0, 'female': 1}\n",
    "df['Sex'] = df['Sex'].map(gender_mapping)\n",
    "\n",
    "df['Family'] = df['SibSp'] + df['Parch']\n",
    "df.drop(['SibSp', 'Parch'], axis=1, inplace=True)\n",
    "\n",
    "df['Embarked'] = df['Embarked'].fillna('Q')\n",
    "embarked_mapping = {'S': 0, 'C': 1, 'Q':2 }\n",
    "df['Embarked'] = df['Embarked'].map(embarked_mapping)\n",
    "\n",
    "df['Age'] = df['Age'].fillna(df['Age'].mean())\n",
    "\n",
    "df.loc[df['Age'] < 8,'Age'] = 0\n",
    "df.loc[(df['Age'] >= 8) & (df['Age'] < 20),'Age'] = 1\n",
    "df.loc[(df['Age'] >= 20) & (df['Age'] < 65),'Age'] = 2\n",
    "df.loc[df['Age'] >= 65,'Age'] = 3\n",
    "\n",
    "train_data = df.iloc[:int(df.shape[0] * 0.7)]\n",
    "val_data = df.iloc[int(df.shape[0] * 0.7):]\n",
    "\n",
    "train_x_data = train_data.drop(['Survived'], axis=1, inplace=False).values\n",
    "train_t_data = train_data['Survived'].values.reshape(-1,1)\n",
    "\n",
    "val_x_data = val_data.drop(['Survived'], axis=1, inplace=False).values\n",
    "val_t_data = val_data['Survived'].values.reshape(-1,1)\n",
    "\n",
    "\n",
    "# Tensorflow\n",
    "\n",
    "X = tf.placeholder(shape=[None,5], dtype=tf.float32)\n",
    "T = tf.placeholder(shape=[None,1], dtype=tf.float32)\n",
    "\n",
    "W = tf.Variable(tf.random.normal([5,1]), name='weight')\n",
    "b = tf.Variable(tf.random.normal([1]), name='bias')\n",
    "\n",
    "logit = tf.matmul(X,W) + b\n",
    "H = tf.sigmoid(logit)\n",
    "\n",
    "loss = tf.reduce_mean(tf.nn.sigmoid_cross_entropy_with_logits(logits=logit,\n",
    "                                                              labels=T))\n",
    "train = tf.train.GradientDescentOptimizer(learning_rate=1e-4).minimize(loss)\n",
    "\n",
    "sess = tf.Session()\n",
    "sess.run(tf.global_variables_initializer())\n",
    "\n",
    "for step in range(300000):\n",
    "    _, W_val, b_val, loss_val = sess.run([train,W,b,loss], \n",
    "                                         feed_dict={X: train_x_data,\n",
    "                                                    T: train_t_data})\n",
    "    if step % 30000 == 0:\n",
    "        print('W:{}, b:{}. loss:{}'.format(W_val,b_val,loss_val))"
   ]
  },
  {
   "cell_type": "code",
   "execution_count": 50,
   "metadata": {},
   "outputs": [],
   "source": [
    "test = pd.read_csv('data/titanic/test.csv')\n"
   ]
  },
  {
   "cell_type": "code",
   "execution_count": 51,
   "metadata": {},
   "outputs": [
    {
     "name": "stdout",
     "output_type": "stream",
     "text": [
      "모델의 정확도 : 0.7835820913314819\n"
     ]
    }
   ],
   "source": [
    "# 정확도(Accuracy)\n",
    "predict = tf.cast(H > 0.5, dtype=tf.float32)  \n",
    "correct = tf.equal(predict, T) \n",
    "accuracy = tf.reduce_mean(tf.cast(correct, dtype=tf.float32))\n",
    "\n",
    "accuracy_val = sess.run(accuracy, feed_dict={X:val_x_data,\n",
    "                                             T:val_t_data})\n",
    "print('모델의 정확도 : {}'.format(accuracy_val))"
   ]
  },
  {
   "cell_type": "code",
   "execution_count": 54,
   "metadata": {},
   "outputs": [
    {
     "name": "stdout",
     "output_type": "stream",
     "text": [
      "Tensor(\"Cast_10:0\", shape=(?, 1), dtype=float32)\n"
     ]
    }
   ],
   "source": [
    "print(predict)"
   ]
  },
  {
   "cell_type": "code",
   "execution_count": null,
   "metadata": {},
   "outputs": [],
   "source": []
  },
  {
   "cell_type": "code",
   "execution_count": null,
   "metadata": {},
   "outputs": [],
   "source": []
  },
  {
   "cell_type": "code",
   "execution_count": null,
   "metadata": {},
   "outputs": [],
   "source": []
  },
  {
   "cell_type": "code",
   "execution_count": null,
   "metadata": {},
   "outputs": [],
   "source": []
  },
  {
   "cell_type": "code",
   "execution_count": null,
   "metadata": {},
   "outputs": [],
   "source": []
  },
  {
   "cell_type": "markdown",
   "metadata": {},
   "source": [
    "# 3. (03/08) BMI 데이터를 이용해서 모델 구현과 평가를 진행\n",
    "\n",
    "=> 데이터 전처리 \n",
    "\n",
    "=> 모델 구현\n",
    "\n",
    "=> K-Fold Cross Validation을 이용해서 모델 검증\n",
    "\n",
    "=> 우리모델의 최종 정확도를 출력!\n"
   ]
  },
  {
   "cell_type": "code",
   "execution_count": 24,
   "metadata": {},
   "outputs": [],
   "source": [
    "# Multinomial Classification\n",
    "# %reset\n",
    "\n",
    "# Tensorflow로 구현해 보아요!\n",
    "import numpy as np\n",
    "import pandas as pd\n",
    "import tensorflow as tf\n",
    "from scipy import stats\n",
    "from sklearn.preprocessing import MinMaxScaler\n",
    "import matplotlib.pyplot as plt\n",
    "\n",
    "# Raw Data Loading\n",
    "df = pd.read_csv('data/bmi.csv')\n",
    "\n",
    "# display(df.head(), df.shape)\n",
    "\n",
    "### 결측치 처리 ###\n",
    "# df.isnull().sum()   # 결측치가 존재하지 않아요!\n",
    "\n",
    "### 이상치 처리 ###\n"
   ]
  },
  {
   "cell_type": "code",
   "execution_count": 25,
   "metadata": {},
   "outputs": [],
   "source": [
    "df[df['label']=='thin']=0\n",
    "df[df['label']=='normal']=1\n",
    "df[df['label']=='fat']=2"
   ]
  },
  {
   "cell_type": "code",
   "execution_count": 26,
   "metadata": {},
   "outputs": [
    {
     "data": {
      "image/png": "[encoded data removed]",
      "text/plain": [
       "<Figure size 432x288 with 3 Axes>"
      ]
     },
     "metadata": {
      "needs_background": "light"
     },
     "output_type": "display_data"
    }
   ],
   "source": [
    "fig = plt.figure()\n",
    "fig_1 = fig.add_subplot(1,3,1)\n",
    "fig_2 = fig.add_subplot(1,3,2)\n",
    "fig_3 = fig.add_subplot(1,3,3)\n",
    "\n",
    "fig_1.boxplot(df['label'])\n",
    "fig_2.boxplot(df['height'])\n",
    "fig_3.boxplot(df['weight'])\n",
    "\n",
    "fig.tight_layout()\n",
    "plt.show()\n"
   ]
  },
  {
   "cell_type": "code",
   "execution_count": 27,
   "metadata": {},
   "outputs": [],
   "source": [
    "### boxplot을 이용해서 이상치가 존재하는지를 확인해요!!\n",
    "### 이상치는 현재 존재하지 않아요!\n",
    "\n",
    "### Training Data Set\n",
    "x_data = df[['height', 'weight']].values\n",
    "t_data = df['label'].values  # one hot encoding으로 변환\n",
    "###      [0 1 2 0 1 1 2 2 0 1]\n",
    "###      [[1 0 0]\n",
    "###       [0 1 0]\n",
    "###       [0 0 1]\n",
    "###       [1 0 0]]\n",
    "\n",
    "### 정규화\n",
    "scaler_x = MinMaxScaler()\n",
    "scaler_x.fit(x_data)\n",
    "norm_x_data = scaler_x.transform(x_data)\n",
    "# print(norm_x_data)\n",
    "\n",
    "### tensorflow 기능을 이용해서 one hot encoding을 생성\n",
    "sess = tf.Session()\n",
    "norm_t_data = sess.run(tf.one_hot(t_data, depth=3))\n",
    "# print(norm_t_data)\n",
    "\n",
    "## training data set 준비 끝\n"
   ]
  },
  {
   "cell_type": "code",
   "execution_count": 28,
   "metadata": {},
   "outputs": [
    {
     "name": "stdout",
     "output_type": "stream",
     "text": [
      "W : [[-0.9541866  -0.2607364   0.36329922]\n",
      " [-1.3072284  -0.5005514   1.0764552 ]], b: [-0.15847999 -1.37737     0.8283681 ], loss: 1.4497565031051636\n",
      "W : [[-0.95799404 -0.22015437  0.32652497]\n",
      " [-1.3110527  -0.45996827  1.0396862 ]], b: [-0.09397605 -1.3023121   0.68880016], loss: 1.3320428133010864\n",
      "W : [[-0.9627257  -0.1807635   0.29186594]\n",
      " [-1.3157761  -0.42057735  1.0050223 ]], b: [-0.03439944 -1.2300568   0.55696964], loss: 1.2263470888137817\n",
      "W : [[-0.9684846  -0.14288004  0.259741  ]\n",
      " [-1.3215348  -0.38269386  0.97289604]], b: [ 0.02021093 -1.1610235   0.43332264], loss: 1.1328489780426025\n",
      "W : [[-0.97534037 -0.10684442  0.23056403]\n",
      " [-1.3283985  -0.3466579   0.94371885]], b: [ 0.06995183 -1.0956184   0.31817994], loss: 1.0514580011367798\n",
      "W : [[-0.98333377 -0.07299863  0.20470862]\n",
      " [-1.3363919  -0.31281245  0.91786337]], b: [ 0.11504384 -1.0342273   0.21169676], loss: 0.9817600846290588\n",
      "W : [[-0.99244314 -0.04165482  0.18247376]\n",
      " [-1.3455015  -0.2814683   0.8956287 ]], b: [ 0.15580839 -0.97715807  0.11386443], loss: 0.9230179786682129\n",
      "W : [[-1.0026124  -0.01306303  0.16405235]\n",
      " [-1.3556709  -0.2528767   0.8772073 ]], b: [ 0.19263795 -0.9246258   0.02450117], loss: 0.8742294907569885\n",
      "W : [[-1.0137416   0.01261508  0.1495127 ]\n",
      " [-1.3668002  -0.22719865  0.86266667]], b: [ 0.22596566 -0.87671566 -0.0567369 ], loss: 0.8342018723487854\n",
      "W : [[-1.0257282   0.03532037  0.1387958 ]\n",
      " [-1.3787868  -0.20449321  0.8519499 ]], b: [ 0.2562313  -0.83338505 -0.13033329], loss: 0.8016323447227478\n"
     ]
    }
   ],
   "source": [
    "\n",
    "\n",
    "## tensorflow 구현\n",
    "# placeholder\n",
    "X = tf.placeholder(shape=[None,2], dtype=tf.float32)\n",
    "T = tf.placeholder(shape=[None,3], dtype=tf.float32)\n",
    "\n",
    "# Weight & bias\n",
    "W = tf.Variable(tf.random.normal([2,3]), name='weight')\n",
    "b = tf.Variable(tf.random.normal([3]), name='bias')\n",
    "\n",
    "# Hypothesis\n",
    "logit = tf.matmul(X,W) + b\n",
    "H = tf.nn.softmax(logit)   # Softmax Activation function 이용\n",
    "\n",
    "# loss\n",
    "loss = tf.reduce_mean(tf.nn.softmax_cross_entropy_with_logits_v2(logits=logit,\n",
    "                                                                 labels=T))\n",
    "\n",
    "# train\n",
    "train = tf.train.GradientDescentOptimizer(learning_rate=1e-4).minimize(loss)\n",
    "\n",
    "# 초기화\n",
    "sess.run(tf.global_variables_initializer())\n",
    "\n",
    "# 학습진행\n",
    "for step in range(30000):\n",
    "    _, W_val, b_val, loss_val = sess.run([train,W,b,loss], \n",
    "                                         feed_dict={X:norm_x_data,\n",
    "                                                    T:norm_t_data})\n",
    "    if step % 3000 == 0:\n",
    "        print('W : {}, b: {}, loss: {}'.format(W_val, b_val, loss_val))\n",
    "        \n",
    "        "
   ]
  },
  {
   "cell_type": "code",
   "execution_count": 29,
   "metadata": {},
   "outputs": [
    {
     "name": "stdout",
     "output_type": "stream",
     "text": [
      "[[0.0000000e+00 1.5464582e-21 1.0000000e+00]]\n"
     ]
    }
   ],
   "source": [
    "# 잘 만들어진 모델인지 확인하고 넘어가야 해요!(train, validation)\n",
    "\n",
    "# prediction\n",
    "height = 187\n",
    "weight = 78\n",
    "my_state = [[height, weight]]\n",
    "\n",
    "result = sess.run(H, feed_dict={X:scaler_x.transform(my_state)})\n",
    "print(result)  # 2 => 과체중 ?? 확인을 해 봐야 해요!"
   ]
  },
  {
   "cell_type": "code",
   "execution_count": 67,
   "metadata": {},
   "outputs": [],
   "source": [
    "# Multinomial Classification\n",
    "# BMI 예제\n",
    "\n",
    "import numpy as np\n",
    "import pandas as pd\n",
    "import tensorflow as tf\n",
    "from sklearn.preprocessing import MinMaxScaler       \n",
    "from sklearn.model_selection import train_test_split \n",
    "from sklearn.model_selection import KFold, cross_val_score\n",
    "\n",
    "df = pd.read_csv('data/bmi.csv')\n",
    "\n",
    "df[df['label']=='thin']=0\n",
    "df[df['label']=='normal']=1\n",
    "df[df['label']=='fat']=2\n",
    "\n",
    "x_data_train, x_data_test, t_data_train, t_data_test = \\\n",
    "train_test_split(df[['height', 'weight']],df['label'], \n",
    "                 test_size=0.3, \n",
    "                 random_state=0)  \n",
    "scaler = MinMaxScaler()\n",
    "scaler.fit(x_data_train)\n",
    "x_data_train_norm = scaler.transform(x_data_train)\n",
    "x_data_test_norm = scaler.transform(x_data_test)\n",
    "\n",
    "sess = tf.Session()\n",
    "t_data_train_onehot = sess.run(tf.one_hot(t_data_train, depth=3))\n",
    "t_data_test_onehot = sess.run(tf.one_hot(t_data_test, depth=3))\n",
    "\n",
    "X = tf.placeholder(shape=[None,2], dtype=tf.float32)\n",
    "T = tf.placeholder(shape=[None,3], dtype=tf.float32)\n",
    "\n",
    "W = tf.Variable(tf.random.normal([2,3]), name='weight')\n",
    "b = tf.Variable(tf.random.normal([3]), name='bias')\n",
    "\n",
    "logit = tf.matmul(X,W) + b\n",
    "H = tf.nn.softmax(logit)  # softmax activation function\n",
    "\n",
    "loss = tf.reduce_mean(tf.nn.softmax_cross_entropy_with_logits_v2(logits=logit,\n",
    "                                                                 labels=T))\n",
    "\n",
    "train = tf.train.GradientDescentOptimizer(learning_rate=0.1).minimize(loss)\n",
    "\n",
    "num_of_epoch = 1000\n",
    "batch_size = 100\n",
    "\n",
    "def run_train(sess,train_x, train_t):\n",
    "    print('### 학습 시작 ###')\n",
    "    # 초기화\n",
    "    sess.run(tf.global_variables_initializer())\n",
    "    \n",
    "    for step in range(num_of_epoch):\n",
    "        total_batch = int(train_x.shape[0] / batch_size)\n",
    "        \n",
    "        for i in range(total_batch):\n",
    "            batch_x = train_x[i*batch_size:(i+1)*batch_size]\n",
    "            batch_t = train_t[i*batch_size:(i+1)*batch_size]           \n",
    "            _, loss_val = sess.run([train,loss],\n",
    "                                   feed_dict={X: batch_x,\n",
    "                                              T: batch_t})\n",
    "            \n",
    "        if step % 100 == 0:\n",
    "            print('Loss : {}'.format(loss_val))\n",
    "    print('### 학습 종료 ###')\n",
    "    \n"
   ]
  },
  {
   "cell_type": "code",
   "execution_count": 68,
   "metadata": {},
   "outputs": [
    {
     "name": "stdout",
     "output_type": "stream",
     "text": [
      "### 학습 시작 ###\n",
      "Loss : 0.599937915802002\n",
      "Loss : 0.018289057537913322\n",
      "Loss : 0.009028442203998566\n",
      "Loss : 0.005980334244668484\n",
      "Loss : 0.004467949736863375\n",
      "Loss : 0.0035650914069265127\n",
      "Loss : 0.0029652684461325407\n",
      "Loss : 0.002538018859922886\n",
      "Loss : 0.0022182499524205923\n",
      "Loss : 0.0019699735566973686\n",
      "### 학습 종료 ###\n",
      "Accuracy : 1.0\n"
     ]
    }
   ],
   "source": [
    "# Accuracy 측정(정확도)    \n",
    "predict = tf.argmax(H,1)\n",
    "correct = tf.equal(predict, tf.argmax(T,1))\n",
    "accuracy = tf.reduce_mean(tf.cast(correct, dtype=tf.float32))\n",
    "\n",
    "# 학습부터 해요!\n",
    "run_train(sess,x_data_train_norm, t_data_train_onehot)\n",
    "# Training Data Set을 이용하여 성능평가!\n",
    "result = sess.run(accuracy, feed_dict={X:x_data_train_norm,\n",
    "                                       T:t_data_train_onehot})\n",
    "print('Accuracy : {}'.format(result))"
   ]
  },
  {
   "cell_type": "code",
   "execution_count": 72,
   "metadata": {},
   "outputs": [],
   "source": [
    "kfold = KFold(n_splits=5, shuffle=True)"
   ]
  },
  {
   "cell_type": "code",
   "execution_count": 81,
   "metadata": {},
   "outputs": [
    {
     "name": "stdout",
     "output_type": "stream",
     "text": [
      "### 학습 시작 ###\n",
      "Loss : 0.7345197796821594\n",
      "Loss : 0.02289043366909027\n",
      "Loss : 0.011269760318100452\n",
      "Loss : 0.00745403952896595\n",
      "Loss : 0.005563901271671057\n",
      "Loss : 0.004436832387000322\n",
      "Loss : 0.003688717493787408\n",
      "Loss : 0.003156110877171159\n",
      "Loss : 0.002757722744718194\n",
      "Loss : 0.0024485376197844744\n",
      "### 학습 종료 ###\n",
      "### 학습 시작 ###\n",
      "Loss : 0.6733357310295105\n",
      "Loss : 0.021811593323946\n",
      "Loss : 0.010744583792984486\n",
      "Loss : 0.007108038756996393\n",
      "Loss : 0.005306101404130459\n",
      "Loss : 0.0042315032333135605\n",
      "Loss : 0.0035181802231818438\n",
      "Loss : 0.0030102247837930918\n",
      "Loss : 0.0026303217746317387\n",
      "Loss : 0.0023353714495897293\n",
      "### 학습 종료 ###\n",
      "### 학습 시작 ###\n",
      "Loss : 0.6346425414085388\n",
      "Loss : 0.022727208212018013\n",
      "Loss : 0.01120817568153143\n",
      "Loss : 0.007417548913508654\n",
      "Loss : 0.005538291297852993\n",
      "Loss : 0.004417128395289183\n",
      "Loss : 0.0036728063132613897\n",
      "Loss : 0.0031428185757249594\n",
      "Loss : 0.002746308222413063\n",
      "Loss : 0.002438456518575549\n",
      "### 학습 종료 ###\n",
      "### 학습 시작 ###\n",
      "Loss : 0.5581752061843872\n",
      "Loss : 0.02235051803290844\n",
      "Loss : 0.011044337414205074\n",
      "Loss : 0.007314146030694246\n",
      "Loss : 0.005462920758873224\n",
      "Loss : 0.004357862286269665\n",
      "Loss : 0.0036240676417946815\n",
      "Loss : 0.0031013309489935637\n",
      "Loss : 0.0027103107422590256\n",
      "Loss : 0.002406666986644268\n",
      "### 학습 종료 ###\n",
      "### 학습 시작 ###\n",
      "Loss : 0.6585190296173096\n",
      "Loss : 0.023551711812615395\n",
      "Loss : 0.011607203632593155\n",
      "Loss : 0.007679835427552462\n",
      "Loss : 0.0057334499433636665\n",
      "Loss : 0.004572463221848011\n",
      "Loss : 0.0038017090409994125\n",
      "Loss : 0.003253044094890356\n",
      "Loss : 0.0028424542397260666\n",
      "Loss : 0.00252380408346653\n",
      "### 학습 종료 ###\n",
      "측정한 각각의 결과값 : [1.0, 1.0, 1.0, 1.0, 1.0]\n",
      "최종 K-Fold 교차검증을 사용한 Accuracy : 1.0\n"
     ]
    }
   ],
   "source": [
    "# 우리의 모델의 성능평가를 하기 위해\n",
    "# K-Fold Cross Validation을 수행!\n",
    "\n",
    "cv = 5          # Fold의 수\n",
    "results = []    # 각 Fold당 학습과 성능평가가 진행되는데 \n",
    "                # 이때 계산된 성능평가 값을 저장\n",
    "kf = KFold(n_splits=cv, shuffle=True) \n",
    "\n",
    "for training_idx, validation_idx in kf.split(x_data_train_norm):\n",
    "    training_x = x_data_train_norm[training_idx] # Fancy indexing\n",
    "    training_t = t_data_train_onehot[training_idx]\n",
    "    \n",
    "    val_x = x_data_train_norm[validation_idx]\n",
    "    val_t = t_data_train_onehot[validation_idx]\n",
    "    \n",
    "    # 학습부터 시켜야 해요!\n",
    "    run_train(sess,training_x,training_t)\n",
    "    results.append(sess.run(accuracy, feed_dict={X:val_x, T:val_t}))\n",
    "\n",
    "print('측정한 각각의 결과값 : {}'.format(results))\n",
    "print('최종 K-Fold 교차검증을 사용한 Accuracy : {}'.format(np.mean(results)))\n"
   ]
  },
  {
   "cell_type": "code",
   "execution_count": null,
   "metadata": {},
   "outputs": [],
   "source": []
  },
  {
   "cell_type": "code",
   "execution_count": null,
   "metadata": {},
   "outputs": [],
   "source": []
  },
  {
   "cell_type": "markdown",
   "metadata": {},
   "source": [
    "# (03/09) MNIST 데이터를 이용하여 모델 구현과 평가 진행\n",
    "\n",
    "    + 직접 손글씨로 쓴 예측용 데이터 생성 후 Prediction\n",
    "    \n",
    "    - 데이터는 Kaggle\n",
    "    - Multiclass Classification\n",
    "    - K-Fold Cross Validation\n",
    "    - 우리 모델의 최종 정확도\n",
    "    - 제출 파일 생성\n",
    "    - 직접 쓴 손글씨씨로 예측용 데이터 생성"
   ]
  },
  {
   "cell_type": "code",
   "execution_count": 82,
   "metadata": {},
   "outputs": [
    {
     "data": {
      "image/png": "[encoded data removed]",
      "text/plain": [
       "<Figure size 432x288 with 10 Axes>"
      ]
     },
     "metadata": {
      "needs_background": "light"
     },
     "output_type": "display_data"
    }
   ],
   "source": [
    "# MNIST 구현\n",
    "\n",
    "import numpy as np\n",
    "import pandas as pd\n",
    "import tensorflow as tf\n",
    "import matplotlib.pyplot as plt\n",
    "from sklearn.preprocessing import MinMaxScaler\n",
    "from sklearn.model_selection import train_test_split\n",
    "from sklearn.model_selection import KFold\n",
    "from sklearn.metrics import confusion_matrix, classification_report\n",
    "\n",
    "df = pd.read_csv('data/mnist/train.csv')\n",
    "\n",
    "img_data = df.drop('label', axis=1, inplace=False).values\n",
    "\n",
    "fig = plt.figure()\n",
    "fig_arr = []   # 10개의 subplot을 만들고 그 각각의 subplot을 list에 저장\n",
    "\n",
    "for n in range(10):\n",
    "    fig_arr.append(fig.add_subplot(2,5,n+1))\n",
    "    fig_arr[n].imshow(img_data[n].reshape(28,28),\n",
    "                     cmap='Greys',\n",
    "                     interpolation='nearest')\n",
    "plt.tight_layout()\n",
    "plt.show()\n",
    "\n",
    "x_data_train, x_data_test, t_data_train, t_data_test = \\\n",
    "train_test_split(df.drop('label', axis=1, inplace=False),\n",
    "                df['label'],\n",
    "                test_size=0.3,\n",
    "                random_state=0)\n",
    "\n",
    "scaler = MinMaxScaler()\n",
    "scaler.fit(x_data_train)\n",
    "\n",
    "x_data_train_norm = scaler.transform(x_data_train)\n",
    "x_data_test_norm = scaler.transform(x_data_test)\n",
    "\n",
    "# Tensorflow 구현\n",
    "sess = tf.Session()\n",
    "t_data_train_onehot = sess.run(tf.one_hot(t_data_train, depth=10))\n",
    "t_data_test_onehot = sess.run(tf.one_hot(t_data_test, depth=10))\n",
    "\n",
    "X = tf.placeholder(shape=[None,784], dtype=tf.float32)\n",
    "T = tf.placeholder(shape=[None,10], dtype=tf.float32)\n",
    "\n",
    "W = tf.Variable(tf.random.normal([784,10]), name='weight')\n",
    "b = tf.Variable(tf.random.normal([10]), name='bias')\n",
    "\n",
    "logit = tf.matmul(X,W) + b\n",
    "H = tf.nn.softmax(logit)  \n",
    "\n",
    "loss = tf.reduce_mean(tf.nn.softmax_cross_entropy_with_logits_v2(logits=logit,\n",
    "                                                                 labels=T))\n",
    "train = tf.train.GradientDescentOptimizer(learning_rate=1e-1).minimize(loss)\n",
    "\n",
    "num_of_epoch = 1000\n",
    "batch_size = 100\n",
    "\n",
    "def run_train(sess,train_x, train_t):\n",
    "    print('### 학습 시작 ###')\n",
    "    # 초기화\n",
    "    sess.run(tf.global_variables_initializer())\n",
    "    \n",
    "    for step in range(num_of_epoch):\n",
    "        total_batch = int(train_x.shape[0] / batch_size)\n",
    "        \n",
    "        for i in range(total_batch):\n",
    "            batch_x = train_x[i*batch_size:(i+1)*batch_size]\n",
    "            batch_t = train_t[i*batch_size:(i+1)*batch_size]           \n",
    "            _, loss_val = sess.run([train,loss],\n",
    "                                   feed_dict={X: batch_x,\n",
    "                                              T: batch_t})\n",
    "            \n",
    "        if step % 100 == 0:\n",
    "            print('Loss : {}'.format(loss_val))\n",
    "    print('### 학습 종료 ###')\n"
   ]
  },
  {
   "cell_type": "code",
   "execution_count": 83,
   "metadata": {},
   "outputs": [
    {
     "name": "stdout",
     "output_type": "stream",
     "text": [
      "### 학습 시작 ###\n",
      "Loss : 1.6480169296264648\n",
      "Loss : 0.2217538058757782\n",
      "Loss : 0.18772602081298828\n",
      "Loss : 0.1705520749092102\n",
      "Loss : 0.16167517006397247\n",
      "Loss : 0.15637896955013275\n",
      "Loss : 0.15283294022083282\n",
      "Loss : 0.15027719736099243\n",
      "Loss : 0.1483117640018463\n",
      "Loss : 0.1467011570930481\n",
      "### 학습 종료 ###\n",
      "### Training Data Set을 이용하여 성능평가!! ###\n",
      "Accuracy : 0.947074830532074\n"
     ]
    }
   ],
   "source": [
    "    \n",
    "# Accuracy 측정(정확도)    \n",
    "predict = tf.argmax(H,1)\n",
    "correct = tf.equal(predict, tf.argmax(T,1))\n",
    "accuracy = tf.reduce_mean(tf.cast(correct, dtype=tf.float32))\n",
    "\n",
    "# 학습부터 해요!\n",
    "run_train(sess,x_data_train_norm, t_data_train_onehot)\n",
    "\n",
    "# Training Data Set을 이용하여 성능평가!\n",
    "print('### Training Data Set을 이용하여 성능평가!! ###')\n",
    "result = sess.run(accuracy, feed_dict={X:x_data_train_norm,\n",
    "                                       T:t_data_train_onehot})\n",
    "print('Accuracy : {}'.format(result))\n"
   ]
  },
  {
   "cell_type": "code",
   "execution_count": 84,
   "metadata": {},
   "outputs": [
    {
     "name": "stdout",
     "output_type": "stream",
     "text": [
      "### 학습 시작 ###\n",
      "Loss : 2.235882520675659\n",
      "Loss : 0.1900482028722763\n",
      "Loss : 0.14289496839046478\n",
      "Loss : 0.1271662712097168\n",
      "Loss : 0.12089629471302032\n",
      "Loss : 0.11810822784900665\n",
      "Loss : 0.116573266685009\n",
      "Loss : 0.11548322439193726\n",
      "Loss : 0.11455453932285309\n",
      "Loss : 0.11368319392204285\n",
      "### 학습 종료 ###\n",
      "### 학습 시작 ###\n",
      "Loss : 1.6875433921813965\n",
      "Loss : 0.1368369311094284\n",
      "Loss : 0.11682471632957458\n",
      "Loss : 0.10662353783845901\n",
      "Loss : 0.10144385695457458\n",
      "Loss : 0.09857798367738724\n",
      "Loss : 0.09682849794626236\n",
      "Loss : 0.09561607986688614\n",
      "Loss : 0.09464587271213531\n",
      "Loss : 0.09376668184995651\n",
      "### 학습 종료 ###\n",
      "### 학습 시작 ###\n",
      "Loss : 2.3016552925109863\n",
      "Loss : 0.22651632130146027\n",
      "Loss : 0.16226215660572052\n",
      "Loss : 0.14295029640197754\n",
      "Loss : 0.1359863132238388\n",
      "Loss : 0.13382184505462646\n",
      "Loss : 0.13364914059638977\n",
      "Loss : 0.1342475712299347\n",
      "Loss : 0.13505320250988007\n",
      "Loss : 0.1358078271150589\n",
      "### 학습 종료 ###\n",
      "### 학습 시작 ###\n",
      "Loss : 2.3731579780578613\n",
      "Loss : 0.29282209277153015\n",
      "Loss : 0.21724914014339447\n",
      "Loss : 0.190598264336586\n",
      "Loss : 0.1775861382484436\n",
      "Loss : 0.1698393076658249\n",
      "Loss : 0.16464334726333618\n",
      "Loss : 0.16087830066680908\n",
      "Loss : 0.15797525644302368\n",
      "Loss : 0.1556108593940735\n",
      "### 학습 종료 ###\n",
      "### 학습 시작 ###\n",
      "Loss : 2.337092638015747\n",
      "Loss : 0.2286229133605957\n",
      "Loss : 0.17608119547367096\n",
      "Loss : 0.16012811660766602\n",
      "Loss : 0.15225861966609955\n",
      "Loss : 0.1468856930732727\n",
      "Loss : 0.14280351996421814\n",
      "Loss : 0.13951729238033295\n",
      "Loss : 0.1367443948984146\n",
      "Loss : 0.13431352376937866\n",
      "### 학습 종료 ###\n",
      "측정한 각각의 결과값 : [0.90816325, 0.9010204, 0.9085034, 0.9085034, 0.9108844]\n",
      "최종 K-Fold 교차검증을 사용한 Accuracy : 0.9074150323867798\n"
     ]
    }
   ],
   "source": [
    "cv = 5          \n",
    "results = []    \n",
    "kf = KFold(n_splits=cv, shuffle=True) \n",
    "\n",
    "for training_idx, validation_idx in kf.split(x_data_train_norm):\n",
    "    training_x = x_data_train_norm[training_idx] # Fancy indexing\n",
    "    training_t = t_data_train_onehot[training_idx]\n",
    "    \n",
    "    val_x = x_data_train_norm[validation_idx]\n",
    "    val_t = t_data_train_onehot[validation_idx]\n",
    "    \n",
    "    run_train(sess,training_x,training_t)\n",
    "    results.append(sess.run(accuracy, feed_dict={X:val_x, T:val_t}))\n",
    "\n",
    "print('측정한 각각의 결과값 : {}'.format(results))\n",
    "print('최종 K-Fold 교차검증을 사용한 Accuracy : {}'.format(np.mean(results)))\n"
   ]
  },
  {
   "cell_type": "code",
   "execution_count": 85,
   "metadata": {},
   "outputs": [
    {
     "name": "stdout",
     "output_type": "stream",
     "text": [
      "### 학습 시작 ###\n",
      "Loss : 1.88344407081604\n",
      "Loss : 0.2133547067642212\n",
      "Loss : 0.17206676304340363\n",
      "Loss : 0.1563841700553894\n",
      "Loss : 0.14800800383090973\n",
      "Loss : 0.14318135380744934\n",
      "Loss : 0.14017194509506226\n",
      "Loss : 0.1380869448184967\n",
      "Loss : 0.13648924231529236\n",
      "Loss : 0.13516248762607574\n",
      "### 학습 종료 ###\n",
      "우리 Model의 최종 정확도는 : 0.9135714173316956\n"
     ]
    }
   ],
   "source": [
    "# Testing\n",
    "run_train(sess,x_data_train_norm,t_data_train_onehot)\n",
    "final_accuracy = sess.run(accuracy, feed_dict={X:x_data_test_norm,\n",
    "                                               T:t_data_test_onehot})\n",
    "print('우리 Model의 최종 정확도는 : {}'.format(final_accuracy))\n",
    "\n"
   ]
  },
  {
   "cell_type": "code",
   "execution_count": 86,
   "metadata": {},
   "outputs": [
    {
     "name": "stdout",
     "output_type": "stream",
     "text": [
      "              precision    recall  f1-score   support\n",
      "\n",
      "       num 0       0.95      0.95      0.95      1242\n",
      "       num 1       0.95      0.97      0.96      1429\n",
      "       num 2       0.91      0.89      0.90      1276\n",
      "       num 3       0.90      0.89      0.89      1298\n",
      "       num 4       0.92      0.91      0.92      1236\n",
      "       num 5       0.87      0.88      0.87      1119\n",
      "       num 6       0.93      0.95      0.94      1243\n",
      "       num 7       0.94      0.92      0.93      1334\n",
      "       num 8       0.88      0.87      0.87      1204\n",
      "       num 9       0.88      0.89      0.89      1219\n",
      "\n",
      "    accuracy                           0.91     12600\n",
      "   macro avg       0.91      0.91      0.91     12600\n",
      "weighted avg       0.91      0.91      0.91     12600\n",
      "\n"
     ]
    }
   ],
   "source": [
    "# 만약 Precision, Recall, F1, Accuracy를 각각 구하고 싶으면?\n",
    "# 첫번째 인자로 정답이 들어가야 해요(one hot encoding이 안된형태)\n",
    "target_names=['num 0', 'num 1', 'num 2', 'num 3', 'num 4', 'num 5',\n",
    "              'num 6', 'num 7', 'num 8', 'num 9']\n",
    "print(\n",
    "classification_report(t_data_test,\n",
    "                     sess.run(predict, feed_dict={X:x_data_test_norm}),\n",
    "                     target_names = target_names))"
   ]
  },
  {
   "cell_type": "code",
   "execution_count": 87,
   "metadata": {},
   "outputs": [
    {
     "name": "stdout",
     "output_type": "stream",
     "text": [
      "[[2 0 0]\n",
      " [0 0 1]\n",
      " [1 0 2]]\n"
     ]
    }
   ],
   "source": [
    "# sample code로 confusion matrix를 출력해보아요!\n",
    "# 3개의 label(정답)이 있는 multinomial classification에 대해\n",
    "# 예측값을 넣어서 confusion matrix를 출력해 보아요!\n",
    "\n",
    "from sklearn.metrics import confusion_matrix\n",
    "y_true = [2, 0, 2, 2, 0,1]\n",
    "y_pred = [0, 0, 2, 2, 0,2]\n",
    "\n",
    "print(confusion_matrix(y_true,y_pred))"
   ]
  },
  {
   "cell_type": "code",
   "execution_count": 88,
   "metadata": {},
   "outputs": [
    {
     "name": "stdout",
     "output_type": "stream",
     "text": [
      "[[1183    0   11    5    2   12   20    1    7    1]\n",
      " [   1 1387    8    6    1    3    5    1   14    3]\n",
      " [  10   17 1134   34   15    9   17   10   24    6]\n",
      " [   7    3   32 1152    2   47    4    8   25   18]\n",
      " [   2   14   10    2 1126    4   14    6   11   47]\n",
      " [   9    8    8   31    7  982   20    4   38   12]\n",
      " [  11    2   10    0   17   15 1181    0    6    1]\n",
      " [   4    6   15    6   18    5    0 1227    9   44]\n",
      " [   6   15   13   35    7   43   11    4 1050   20]\n",
      " [  12    3    3   15   30   13    0   41   13 1089]]\n"
     ]
    }
   ],
   "source": [
    "print(\n",
    "confusion_matrix(t_data_test,\n",
    "                     sess.run(predict, feed_dict={X:x_data_test_norm})))"
   ]
  },
  {
   "cell_type": "code",
   "execution_count": null,
   "metadata": {},
   "outputs": [],
   "source": []
  },
  {
   "cell_type": "code",
   "execution_count": 89,
   "metadata": {},
   "outputs": [
    {
     "name": "stdout",
     "output_type": "stream",
     "text": [
      "(225, 225, 3)\n",
      "(225, 225)\n"
     ]
    },
    {
     "data": {
      "image/png": "[encoded data removed]",
      "text/plain": [
       "<Figure size 432x288 with 1 Axes>"
      ]
     },
     "metadata": {
      "needs_background": "light"
     },
     "output_type": "display_data"
    },
    {
     "name": "stdout",
     "output_type": "stream",
     "text": [
      "이미지의 크기 : 50625\n",
      "이미지의 shape : (225, 225)\n"
     ]
    },
    {
     "data": {
      "image/png": "[encoded data removed]",
      "text/plain": [
       "<Figure size 432x288 with 1 Axes>"
      ]
     },
     "metadata": {
      "needs_background": "light"
     },
     "output_type": "display_data"
    }
   ],
   "source": [
    "# 실제 이미지를 가지고 예측을 해 보아요!\n",
    "# 이게 어려워요! 이미지 처리를 해야해요!\n",
    "\n",
    "# 이미지를 하나 구해야 해요!\n",
    "# 구한 color 이미지를 grey 이미지로 변환 => opencv를 이용\n",
    "\n",
    "import numpy as np\n",
    "import cv2  \n",
    "from PIL import Image   # conda install Pillow\n",
    "import matplotlib.pyplot as plt\n",
    "\n",
    "my_img = cv2.imread('data/mnist/digit/5.jpg', cv2.IMREAD_COLOR)\n",
    "print(my_img.shape)   # (198, 132, 3)\n",
    "im_grey = cv2.cvtColor(my_img, cv2.COLOR_BGR2GRAY)\n",
    "print(im_grey.shape)\n",
    "cv2.imwrite('./data/mnist/digit/5_grey.jpg', im_grey)\n",
    "\n",
    "# 흑백이미지 파일을 얻었어요!\n",
    "img = Image.open('./data/mnist/digit/5_grey.jpg')\n",
    "plt.imshow(img, cmap='Greys')\n",
    "plt.show()\n",
    "\n",
    "# 사이즈가 안 맞아요!\n",
    "pixel = np.array(img)\n",
    "print('이미지의 크기 : {}'.format(pixel.size))\n",
    "print('이미지의 shape : {}'.format(pixel.shape))\n",
    "\n",
    "resize_img = img.resize((28,28))\n",
    "plt.imshow(resize_img, cmap='Greys')\n",
    "plt.show()"
   ]
  },
  {
   "cell_type": "code",
   "execution_count": null,
   "metadata": {},
   "outputs": [],
   "source": []
  },
  {
   "cell_type": "code",
   "execution_count": null,
   "metadata": {},
   "outputs": [],
   "source": []
  },
  {
   "cell_type": "code",
   "execution_count": null,
   "metadata": {},
   "outputs": [],
   "source": []
  }
 ],
 "metadata": {
  "kernelspec": {
   "display_name": "Python [conda env:data_env] *",
   "language": "python",
   "name": "conda-env-data_env-py"
  },
  "language_info": {
   "codemirror_mode": {
    "name": "ipython",
    "version": 3
   },
   "file_extension": ".py",
   "mimetype": "text/x-python",
   "name": "python",
   "nbconvert_exporter": "python",
   "pygments_lexer": "ipython3",
   "version": "3.7.9"
  }
 },
 "nbformat": 4,
 "nbformat_minor": 4
}
